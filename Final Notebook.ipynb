{
 "cells": [
  {
   "cell_type": "code",
   "execution_count": 1,
   "metadata": {},
   "outputs": [],
   "source": [
    "import numpy as np\n",
    "import pandas as pd\n",
    "import seaborn as sns\n",
    "import matplotlib.pyplot as plt\n",
    "%matplotlib inline\n",
    "\n",
    "from sklearn.base import TransformerMixin\n",
    "from sklearn.model_selection import train_test_split, cross_validate\n",
    "from sklearn.preprocessing import MinMaxScaler, OneHotEncoder, LabelEncoder\n",
    "from sklearn.pipeline import Pipeline\n",
    "from sklearn.compose import ColumnTransformer\n",
    "from sklearn.linear_model import LinearRegression\n",
    "from sklearn.metrics import r2_score, mean_absolute_error, mean_squared_error\n",
    "\n",
    "from sklearn.ensemble import RandomForestRegressor\n",
    "\n",
    "import tensorflow as tf\n",
    "from keras.models import Sequential\n",
    "from keras.layers import Dense, Input, Dropout\n",
    "from keras.optimizers import Adam"
   ]
  },
  {
   "cell_type": "markdown",
   "metadata": {},
   "source": [
    "## Data Understanding"
   ]
  },
  {
   "cell_type": "markdown",
   "metadata": {},
   "source": [
    "### Load Dataset"
   ]
  },
  {
   "cell_type": "code",
   "execution_count": 2,
   "metadata": {},
   "outputs": [],
   "source": [
    "# Import the data\n",
    "# goal: predict scalar_coupling_const by its structure\n",
    "# We will use train set and structures\n",
    "train_df = pd.read_csv('Data/train.csv')\n",
    "structures_df = pd.read_csv('Data/structures.csv')"
   ]
  },
  {
   "cell_type": "code",
   "execution_count": 3,
   "metadata": {
    "scrolled": true
   },
   "outputs": [
    {
     "name": "stdout",
     "output_type": "stream",
     "text": [
      "(4659076, 6)\n",
      "\n",
      "id                          4659076\n",
      "molecule_name                 85012\n",
      "atom_index_0                     28\n",
      "atom_index_1                     29\n",
      "type                              8\n",
      "scalar_coupling_constant    2183446\n",
      "dtype: int64\n",
      "\n",
      "Index(['id', 'molecule_name', 'atom_index_0', 'atom_index_1', 'type',\n",
      "       'scalar_coupling_constant'],\n",
      "      dtype='object')\n"
     ]
    },
    {
     "data": {
      "text/html": [
       "<div>\n",
       "<style scoped>\n",
       "    .dataframe tbody tr th:only-of-type {\n",
       "        vertical-align: middle;\n",
       "    }\n",
       "\n",
       "    .dataframe tbody tr th {\n",
       "        vertical-align: top;\n",
       "    }\n",
       "\n",
       "    .dataframe thead th {\n",
       "        text-align: right;\n",
       "    }\n",
       "</style>\n",
       "<table border=\"1\" class=\"dataframe\">\n",
       "  <thead>\n",
       "    <tr style=\"text-align: right;\">\n",
       "      <th></th>\n",
       "      <th>id</th>\n",
       "      <th>molecule_name</th>\n",
       "      <th>atom_index_0</th>\n",
       "      <th>atom_index_1</th>\n",
       "      <th>type</th>\n",
       "      <th>scalar_coupling_constant</th>\n",
       "    </tr>\n",
       "  </thead>\n",
       "  <tbody>\n",
       "    <tr>\n",
       "      <th>0</th>\n",
       "      <td>0</td>\n",
       "      <td>dsgdb9nsd_000001</td>\n",
       "      <td>1</td>\n",
       "      <td>0</td>\n",
       "      <td>1JHC</td>\n",
       "      <td>84.8076</td>\n",
       "    </tr>\n",
       "    <tr>\n",
       "      <th>1</th>\n",
       "      <td>1</td>\n",
       "      <td>dsgdb9nsd_000001</td>\n",
       "      <td>1</td>\n",
       "      <td>2</td>\n",
       "      <td>2JHH</td>\n",
       "      <td>-11.2570</td>\n",
       "    </tr>\n",
       "    <tr>\n",
       "      <th>2</th>\n",
       "      <td>2</td>\n",
       "      <td>dsgdb9nsd_000001</td>\n",
       "      <td>1</td>\n",
       "      <td>3</td>\n",
       "      <td>2JHH</td>\n",
       "      <td>-11.2548</td>\n",
       "    </tr>\n",
       "    <tr>\n",
       "      <th>3</th>\n",
       "      <td>3</td>\n",
       "      <td>dsgdb9nsd_000001</td>\n",
       "      <td>1</td>\n",
       "      <td>4</td>\n",
       "      <td>2JHH</td>\n",
       "      <td>-11.2543</td>\n",
       "    </tr>\n",
       "    <tr>\n",
       "      <th>4</th>\n",
       "      <td>4</td>\n",
       "      <td>dsgdb9nsd_000001</td>\n",
       "      <td>2</td>\n",
       "      <td>0</td>\n",
       "      <td>1JHC</td>\n",
       "      <td>84.8074</td>\n",
       "    </tr>\n",
       "  </tbody>\n",
       "</table>\n",
       "</div>"
      ],
      "text/plain": [
       "   id     molecule_name  atom_index_0  atom_index_1  type  \\\n",
       "0   0  dsgdb9nsd_000001             1             0  1JHC   \n",
       "1   1  dsgdb9nsd_000001             1             2  2JHH   \n",
       "2   2  dsgdb9nsd_000001             1             3  2JHH   \n",
       "3   3  dsgdb9nsd_000001             1             4  2JHH   \n",
       "4   4  dsgdb9nsd_000001             2             0  1JHC   \n",
       "\n",
       "   scalar_coupling_constant  \n",
       "0                   84.8076  \n",
       "1                  -11.2570  \n",
       "2                  -11.2548  \n",
       "3                  -11.2543  \n",
       "4                   84.8074  "
      ]
     },
     "execution_count": 3,
     "metadata": {},
     "output_type": "execute_result"
    }
   ],
   "source": [
    "# Observe traindf\n",
    "print(train_df.shape)\n",
    "print('')\n",
    "print(train_df.nunique())\n",
    "print('')\n",
    "print(train_df.columns)\n",
    "train_df.head()"
   ]
  },
  {
   "cell_type": "code",
   "execution_count": 4,
   "metadata": {},
   "outputs": [
    {
     "name": "stdout",
     "output_type": "stream",
     "text": [
      "(2358875, 6)\n",
      "\n",
      "molecule_name     130789\n",
      "atom_index            29\n",
      "atom                   5\n",
      "x                2358802\n",
      "y                2358808\n",
      "z                2358792\n",
      "dtype: int64\n",
      "\n",
      "Index(['molecule_name', 'atom_index', 'atom', 'x', 'y', 'z'], dtype='object')\n"
     ]
    },
    {
     "data": {
      "text/html": [
       "<div>\n",
       "<style scoped>\n",
       "    .dataframe tbody tr th:only-of-type {\n",
       "        vertical-align: middle;\n",
       "    }\n",
       "\n",
       "    .dataframe tbody tr th {\n",
       "        vertical-align: top;\n",
       "    }\n",
       "\n",
       "    .dataframe thead th {\n",
       "        text-align: right;\n",
       "    }\n",
       "</style>\n",
       "<table border=\"1\" class=\"dataframe\">\n",
       "  <thead>\n",
       "    <tr style=\"text-align: right;\">\n",
       "      <th></th>\n",
       "      <th>molecule_name</th>\n",
       "      <th>atom_index</th>\n",
       "      <th>atom</th>\n",
       "      <th>x</th>\n",
       "      <th>y</th>\n",
       "      <th>z</th>\n",
       "    </tr>\n",
       "  </thead>\n",
       "  <tbody>\n",
       "    <tr>\n",
       "      <th>0</th>\n",
       "      <td>dsgdb9nsd_000001</td>\n",
       "      <td>0</td>\n",
       "      <td>C</td>\n",
       "      <td>-0.012698</td>\n",
       "      <td>1.085804</td>\n",
       "      <td>0.008001</td>\n",
       "    </tr>\n",
       "    <tr>\n",
       "      <th>1</th>\n",
       "      <td>dsgdb9nsd_000001</td>\n",
       "      <td>1</td>\n",
       "      <td>H</td>\n",
       "      <td>0.002150</td>\n",
       "      <td>-0.006031</td>\n",
       "      <td>0.001976</td>\n",
       "    </tr>\n",
       "    <tr>\n",
       "      <th>2</th>\n",
       "      <td>dsgdb9nsd_000001</td>\n",
       "      <td>2</td>\n",
       "      <td>H</td>\n",
       "      <td>1.011731</td>\n",
       "      <td>1.463751</td>\n",
       "      <td>0.000277</td>\n",
       "    </tr>\n",
       "    <tr>\n",
       "      <th>3</th>\n",
       "      <td>dsgdb9nsd_000001</td>\n",
       "      <td>3</td>\n",
       "      <td>H</td>\n",
       "      <td>-0.540815</td>\n",
       "      <td>1.447527</td>\n",
       "      <td>-0.876644</td>\n",
       "    </tr>\n",
       "    <tr>\n",
       "      <th>4</th>\n",
       "      <td>dsgdb9nsd_000001</td>\n",
       "      <td>4</td>\n",
       "      <td>H</td>\n",
       "      <td>-0.523814</td>\n",
       "      <td>1.437933</td>\n",
       "      <td>0.906397</td>\n",
       "    </tr>\n",
       "  </tbody>\n",
       "</table>\n",
       "</div>"
      ],
      "text/plain": [
       "      molecule_name  atom_index atom         x         y         z\n",
       "0  dsgdb9nsd_000001           0    C -0.012698  1.085804  0.008001\n",
       "1  dsgdb9nsd_000001           1    H  0.002150 -0.006031  0.001976\n",
       "2  dsgdb9nsd_000001           2    H  1.011731  1.463751  0.000277\n",
       "3  dsgdb9nsd_000001           3    H -0.540815  1.447527 -0.876644\n",
       "4  dsgdb9nsd_000001           4    H -0.523814  1.437933  0.906397"
      ]
     },
     "execution_count": 4,
     "metadata": {},
     "output_type": "execute_result"
    }
   ],
   "source": [
    "# Observe structures_df\n",
    "print(structures_df.shape)\n",
    "print('')\n",
    "print(structures_df.nunique())\n",
    "print('')\n",
    "print(structures_df.columns)\n",
    "structures_df.head()"
   ]
  },
  {
   "cell_type": "markdown",
   "metadata": {},
   "source": [
    "### Exploratory Data Analysis (EDA)"
   ]
  },
  {
   "cell_type": "markdown",
   "metadata": {},
   "source": [
    "#### Scalar Coupling Constant (Target)"
   ]
  },
  {
   "cell_type": "code",
   "execution_count": 5,
   "metadata": {
    "scrolled": true
   },
   "outputs": [
    {
     "data": {
      "text/plain": [
       "Text(0, 0.5, 'Counts')"
      ]
     },
     "execution_count": 5,
     "metadata": {},
     "output_type": "execute_result"
    },
    {
     "data": {
      "image/png": "[encoded data removed]",
      "text/plain": [
       "<Figure size 864x360 with 1 Axes>"
      ]
     },
     "metadata": {
      "needs_background": "light"
     },
     "output_type": "display_data"
    }
   ],
   "source": [
    "# Check the Distribution of Target Variable\n",
    "fig, ax = plt.subplots(figsize=(12,5))\n",
    "\n",
    "ax.hist(train_df['scalar_coupling_constant'])\n",
    "ax.set_title('Target Distribution')\n",
    "ax.set_xlabel('Coupling Value')\n",
    "ax.set_ylabel('Counts')"
   ]
  },
  {
   "cell_type": "markdown",
   "metadata": {},
   "source": [
    "#### Types of Bond"
   ]
  },
  {
   "cell_type": "code",
   "execution_count": 6,
   "metadata": {
    "scrolled": true
   },
   "outputs": [
    {
     "data": {
      "text/plain": [
       "Text(0, 0.5, 'Counts')"
      ]
     },
     "execution_count": 6,
     "metadata": {},
     "output_type": "execute_result"
    },
    {
     "data": {
      "image/png": "[encoded data removed]",
      "text/plain": [
       "<Figure size 864x360 with 1 Axes>"
      ]
     },
     "metadata": {
      "needs_background": "light"
     },
     "output_type": "display_data"
    }
   ],
   "source": [
    "# Check the type of bonds\n",
    "fig, ax = plt.subplots(figsize=(12,5))\n",
    "ax = sns.countplot(x='type', data=train_df)\n",
    "ax.set_title('Bond Type Distribution')\n",
    "ax.set_xlabel('Bonds')\n",
    "ax.set_ylabel('Counts')"
   ]
  },
  {
   "cell_type": "markdown",
   "metadata": {},
   "source": [
    "Multiple bond type might cause the trouble later on the modeling. Therefore we will create a subset based on each model type in later part."
   ]
  },
  {
   "cell_type": "markdown",
   "metadata": {},
   "source": [
    "#### Atom Index"
   ]
  },
  {
   "cell_type": "code",
   "execution_count": 7,
   "metadata": {},
   "outputs": [
    {
     "data": {
      "text/plain": [
       "Text(0, 0.5, 'Counts')"
      ]
     },
     "execution_count": 7,
     "metadata": {},
     "output_type": "execute_result"
    },
    {
     "data": {
      "image/png": "[encoded data removed]",
      "text/plain": [
       "<Figure size 864x360 with 1 Axes>"
      ]
     },
     "metadata": {
      "needs_background": "light"
     },
     "output_type": "display_data"
    }
   ],
   "source": [
    "fig, ax = plt.subplots(figsize=(12,5))\n",
    "ax = sns.countplot(x='atom_index_0', data=train_df, color = 'blue')\n",
    "ax.set_title('Index_0 Distribution')\n",
    "ax.set_xlabel('Index_0')\n",
    "ax.set_ylabel('Counts')"
   ]
  },
  {
   "cell_type": "code",
   "execution_count": 8,
   "metadata": {},
   "outputs": [
    {
     "data": {
      "text/plain": [
       "Text(0, 0.5, 'Counts')"
      ]
     },
     "execution_count": 8,
     "metadata": {},
     "output_type": "execute_result"
    },
    {
     "data": {
      "image/png": "[encoded data removed]",
      "text/plain": [
       "<Figure size 864x360 with 1 Axes>"
      ]
     },
     "metadata": {
      "needs_background": "light"
     },
     "output_type": "display_data"
    }
   ],
   "source": [
    "fig, ax = plt.subplots(figsize=(12,5))\n",
    "ax = sns.countplot(x='atom_index_1', data=train_df, color = 'orange')\n",
    "ax.set_title('Index_1 Distribution')\n",
    "ax.set_xlabel('Index_1')\n",
    "ax.set_ylabel('Counts')"
   ]
  },
  {
   "cell_type": "markdown",
   "metadata": {},
   "source": [
    "### Feature Engineering"
   ]
  },
  {
   "cell_type": "markdown",
   "metadata": {},
   "source": [
    "#### Merge Train and Structure"
   ]
  },
  {
   "cell_type": "markdown",
   "metadata": {},
   "source": [
    "This merging technique has been sourced from: https://www.kaggle.com/inversion/atomic-distance-benchmark"
   ]
  },
  {
   "cell_type": "code",
   "execution_count": 9,
   "metadata": {},
   "outputs": [],
   "source": [
    "def map_atom_info(df, atom_idx):\n",
    "    '''\n",
    "    \n",
    "    '''\n",
    "    df = pd.merge(df, structures_df, how = 'left',\n",
    "                  left_on  = ['molecule_name', f'atom_index_{atom_idx}'],\n",
    "                  right_on = ['molecule_name',  'atom_index'])\n",
    "    \n",
    "    df = df.drop('atom_index', axis=1)\n",
    "    df = df.rename(columns={'atom': f'atom_{atom_idx}',\n",
    "                            'x': f'x_{atom_idx}',\n",
    "                            'y': f'y_{atom_idx}',\n",
    "                            'z': f'z_{atom_idx}'})\n",
    "    return df"
   ]
  },
  {
   "cell_type": "code",
   "execution_count": 10,
   "metadata": {},
   "outputs": [
    {
     "data": {
      "text/html": [
       "<div>\n",
       "<style scoped>\n",
       "    .dataframe tbody tr th:only-of-type {\n",
       "        vertical-align: middle;\n",
       "    }\n",
       "\n",
       "    .dataframe tbody tr th {\n",
       "        vertical-align: top;\n",
       "    }\n",
       "\n",
       "    .dataframe thead th {\n",
       "        text-align: right;\n",
       "    }\n",
       "</style>\n",
       "<table border=\"1\" class=\"dataframe\">\n",
       "  <thead>\n",
       "    <tr style=\"text-align: right;\">\n",
       "      <th></th>\n",
       "      <th>id</th>\n",
       "      <th>molecule_name</th>\n",
       "      <th>atom_index_0</th>\n",
       "      <th>atom_index_1</th>\n",
       "      <th>type</th>\n",
       "      <th>scalar_coupling_constant</th>\n",
       "      <th>atom_0</th>\n",
       "      <th>x_0</th>\n",
       "      <th>y_0</th>\n",
       "      <th>z_0</th>\n",
       "      <th>atom_1</th>\n",
       "      <th>x_1</th>\n",
       "      <th>y_1</th>\n",
       "      <th>z_1</th>\n",
       "    </tr>\n",
       "  </thead>\n",
       "  <tbody>\n",
       "    <tr>\n",
       "      <th>0</th>\n",
       "      <td>0</td>\n",
       "      <td>dsgdb9nsd_000001</td>\n",
       "      <td>1</td>\n",
       "      <td>0</td>\n",
       "      <td>1JHC</td>\n",
       "      <td>84.8076</td>\n",
       "      <td>H</td>\n",
       "      <td>0.002150</td>\n",
       "      <td>-0.006031</td>\n",
       "      <td>0.001976</td>\n",
       "      <td>C</td>\n",
       "      <td>-0.012698</td>\n",
       "      <td>1.085804</td>\n",
       "      <td>0.008001</td>\n",
       "    </tr>\n",
       "    <tr>\n",
       "      <th>1</th>\n",
       "      <td>1</td>\n",
       "      <td>dsgdb9nsd_000001</td>\n",
       "      <td>1</td>\n",
       "      <td>2</td>\n",
       "      <td>2JHH</td>\n",
       "      <td>-11.2570</td>\n",
       "      <td>H</td>\n",
       "      <td>0.002150</td>\n",
       "      <td>-0.006031</td>\n",
       "      <td>0.001976</td>\n",
       "      <td>H</td>\n",
       "      <td>1.011731</td>\n",
       "      <td>1.463751</td>\n",
       "      <td>0.000277</td>\n",
       "    </tr>\n",
       "    <tr>\n",
       "      <th>2</th>\n",
       "      <td>2</td>\n",
       "      <td>dsgdb9nsd_000001</td>\n",
       "      <td>1</td>\n",
       "      <td>3</td>\n",
       "      <td>2JHH</td>\n",
       "      <td>-11.2548</td>\n",
       "      <td>H</td>\n",
       "      <td>0.002150</td>\n",
       "      <td>-0.006031</td>\n",
       "      <td>0.001976</td>\n",
       "      <td>H</td>\n",
       "      <td>-0.540815</td>\n",
       "      <td>1.447527</td>\n",
       "      <td>-0.876644</td>\n",
       "    </tr>\n",
       "    <tr>\n",
       "      <th>3</th>\n",
       "      <td>3</td>\n",
       "      <td>dsgdb9nsd_000001</td>\n",
       "      <td>1</td>\n",
       "      <td>4</td>\n",
       "      <td>2JHH</td>\n",
       "      <td>-11.2543</td>\n",
       "      <td>H</td>\n",
       "      <td>0.002150</td>\n",
       "      <td>-0.006031</td>\n",
       "      <td>0.001976</td>\n",
       "      <td>H</td>\n",
       "      <td>-0.523814</td>\n",
       "      <td>1.437933</td>\n",
       "      <td>0.906397</td>\n",
       "    </tr>\n",
       "    <tr>\n",
       "      <th>4</th>\n",
       "      <td>4</td>\n",
       "      <td>dsgdb9nsd_000001</td>\n",
       "      <td>2</td>\n",
       "      <td>0</td>\n",
       "      <td>1JHC</td>\n",
       "      <td>84.8074</td>\n",
       "      <td>H</td>\n",
       "      <td>1.011731</td>\n",
       "      <td>1.463751</td>\n",
       "      <td>0.000277</td>\n",
       "      <td>C</td>\n",
       "      <td>-0.012698</td>\n",
       "      <td>1.085804</td>\n",
       "      <td>0.008001</td>\n",
       "    </tr>\n",
       "  </tbody>\n",
       "</table>\n",
       "</div>"
      ],
      "text/plain": [
       "   id     molecule_name  atom_index_0  atom_index_1  type  \\\n",
       "0   0  dsgdb9nsd_000001             1             0  1JHC   \n",
       "1   1  dsgdb9nsd_000001             1             2  2JHH   \n",
       "2   2  dsgdb9nsd_000001             1             3  2JHH   \n",
       "3   3  dsgdb9nsd_000001             1             4  2JHH   \n",
       "4   4  dsgdb9nsd_000001             2             0  1JHC   \n",
       "\n",
       "   scalar_coupling_constant atom_0       x_0       y_0       z_0 atom_1  \\\n",
       "0                   84.8076      H  0.002150 -0.006031  0.001976      C   \n",
       "1                  -11.2570      H  0.002150 -0.006031  0.001976      H   \n",
       "2                  -11.2548      H  0.002150 -0.006031  0.001976      H   \n",
       "3                  -11.2543      H  0.002150 -0.006031  0.001976      H   \n",
       "4                   84.8074      H  1.011731  1.463751  0.000277      C   \n",
       "\n",
       "        x_1       y_1       z_1  \n",
       "0 -0.012698  1.085804  0.008001  \n",
       "1  1.011731  1.463751  0.000277  \n",
       "2 -0.540815  1.447527 -0.876644  \n",
       "3 -0.523814  1.437933  0.906397  \n",
       "4 -0.012698  1.085804  0.008001  "
      ]
     },
     "execution_count": 10,
     "metadata": {},
     "output_type": "execute_result"
    }
   ],
   "source": [
    "# Merge train and structures\n",
    "train_df2 = map_atom_info(train_df, 0)\n",
    "train_df2 = map_atom_info(train_df2, 1)\n",
    "train_df2.head()"
   ]
  },
  {
   "cell_type": "code",
   "execution_count": 11,
   "metadata": {},
   "outputs": [
    {
     "data": {
      "text/plain": [
       "id                          0\n",
       "molecule_name               0\n",
       "atom_index_0                0\n",
       "atom_index_1                0\n",
       "type                        0\n",
       "scalar_coupling_constant    0\n",
       "atom_0                      0\n",
       "x_0                         0\n",
       "y_0                         0\n",
       "z_0                         0\n",
       "atom_1                      0\n",
       "x_1                         0\n",
       "y_1                         0\n",
       "z_1                         0\n",
       "dtype: int64"
      ]
     },
     "execution_count": 11,
     "metadata": {},
     "output_type": "execute_result"
    }
   ],
   "source": [
    "# check nan after merging\n",
    "train_df2.isna().sum()"
   ]
  },
  {
   "cell_type": "markdown",
   "metadata": {},
   "source": [
    "#### Distance between Atoms"
   ]
  },
  {
   "cell_type": "code",
   "execution_count": 12,
   "metadata": {},
   "outputs": [
    {
     "data": {
      "text/html": [
       "<div>\n",
       "<style scoped>\n",
       "    .dataframe tbody tr th:only-of-type {\n",
       "        vertical-align: middle;\n",
       "    }\n",
       "\n",
       "    .dataframe tbody tr th {\n",
       "        vertical-align: top;\n",
       "    }\n",
       "\n",
       "    .dataframe thead th {\n",
       "        text-align: right;\n",
       "    }\n",
       "</style>\n",
       "<table border=\"1\" class=\"dataframe\">\n",
       "  <thead>\n",
       "    <tr style=\"text-align: right;\">\n",
       "      <th></th>\n",
       "      <th>id</th>\n",
       "      <th>molecule_name</th>\n",
       "      <th>atom_index_0</th>\n",
       "      <th>atom_index_1</th>\n",
       "      <th>type</th>\n",
       "      <th>scalar_coupling_constant</th>\n",
       "      <th>atom_0</th>\n",
       "      <th>x_0</th>\n",
       "      <th>y_0</th>\n",
       "      <th>z_0</th>\n",
       "      <th>atom_1</th>\n",
       "      <th>x_1</th>\n",
       "      <th>y_1</th>\n",
       "      <th>z_1</th>\n",
       "      <th>distance</th>\n",
       "    </tr>\n",
       "  </thead>\n",
       "  <tbody>\n",
       "    <tr>\n",
       "      <th>0</th>\n",
       "      <td>0</td>\n",
       "      <td>dsgdb9nsd_000001</td>\n",
       "      <td>1</td>\n",
       "      <td>0</td>\n",
       "      <td>1JHC</td>\n",
       "      <td>84.8076</td>\n",
       "      <td>H</td>\n",
       "      <td>0.002150</td>\n",
       "      <td>-0.006031</td>\n",
       "      <td>0.001976</td>\n",
       "      <td>C</td>\n",
       "      <td>-0.012698</td>\n",
       "      <td>1.085804</td>\n",
       "      <td>0.008001</td>\n",
       "      <td>1.091953</td>\n",
       "    </tr>\n",
       "    <tr>\n",
       "      <th>1</th>\n",
       "      <td>1</td>\n",
       "      <td>dsgdb9nsd_000001</td>\n",
       "      <td>1</td>\n",
       "      <td>2</td>\n",
       "      <td>2JHH</td>\n",
       "      <td>-11.2570</td>\n",
       "      <td>H</td>\n",
       "      <td>0.002150</td>\n",
       "      <td>-0.006031</td>\n",
       "      <td>0.001976</td>\n",
       "      <td>H</td>\n",
       "      <td>1.011731</td>\n",
       "      <td>1.463751</td>\n",
       "      <td>0.000277</td>\n",
       "      <td>1.783120</td>\n",
       "    </tr>\n",
       "    <tr>\n",
       "      <th>2</th>\n",
       "      <td>2</td>\n",
       "      <td>dsgdb9nsd_000001</td>\n",
       "      <td>1</td>\n",
       "      <td>3</td>\n",
       "      <td>2JHH</td>\n",
       "      <td>-11.2548</td>\n",
       "      <td>H</td>\n",
       "      <td>0.002150</td>\n",
       "      <td>-0.006031</td>\n",
       "      <td>0.001976</td>\n",
       "      <td>H</td>\n",
       "      <td>-0.540815</td>\n",
       "      <td>1.447527</td>\n",
       "      <td>-0.876644</td>\n",
       "      <td>1.783147</td>\n",
       "    </tr>\n",
       "    <tr>\n",
       "      <th>3</th>\n",
       "      <td>3</td>\n",
       "      <td>dsgdb9nsd_000001</td>\n",
       "      <td>1</td>\n",
       "      <td>4</td>\n",
       "      <td>2JHH</td>\n",
       "      <td>-11.2543</td>\n",
       "      <td>H</td>\n",
       "      <td>0.002150</td>\n",
       "      <td>-0.006031</td>\n",
       "      <td>0.001976</td>\n",
       "      <td>H</td>\n",
       "      <td>-0.523814</td>\n",
       "      <td>1.437933</td>\n",
       "      <td>0.906397</td>\n",
       "      <td>1.783157</td>\n",
       "    </tr>\n",
       "    <tr>\n",
       "      <th>4</th>\n",
       "      <td>4</td>\n",
       "      <td>dsgdb9nsd_000001</td>\n",
       "      <td>2</td>\n",
       "      <td>0</td>\n",
       "      <td>1JHC</td>\n",
       "      <td>84.8074</td>\n",
       "      <td>H</td>\n",
       "      <td>1.011731</td>\n",
       "      <td>1.463751</td>\n",
       "      <td>0.000277</td>\n",
       "      <td>C</td>\n",
       "      <td>-0.012698</td>\n",
       "      <td>1.085804</td>\n",
       "      <td>0.008001</td>\n",
       "      <td>1.091952</td>\n",
       "    </tr>\n",
       "  </tbody>\n",
       "</table>\n",
       "</div>"
      ],
      "text/plain": [
       "   id     molecule_name  atom_index_0  atom_index_1  type  \\\n",
       "0   0  dsgdb9nsd_000001             1             0  1JHC   \n",
       "1   1  dsgdb9nsd_000001             1             2  2JHH   \n",
       "2   2  dsgdb9nsd_000001             1             3  2JHH   \n",
       "3   3  dsgdb9nsd_000001             1             4  2JHH   \n",
       "4   4  dsgdb9nsd_000001             2             0  1JHC   \n",
       "\n",
       "   scalar_coupling_constant atom_0       x_0       y_0       z_0 atom_1  \\\n",
       "0                   84.8076      H  0.002150 -0.006031  0.001976      C   \n",
       "1                  -11.2570      H  0.002150 -0.006031  0.001976      H   \n",
       "2                  -11.2548      H  0.002150 -0.006031  0.001976      H   \n",
       "3                  -11.2543      H  0.002150 -0.006031  0.001976      H   \n",
       "4                   84.8074      H  1.011731  1.463751  0.000277      C   \n",
       "\n",
       "        x_1       y_1       z_1  distance  \n",
       "0 -0.012698  1.085804  0.008001  1.091953  \n",
       "1  1.011731  1.463751  0.000277  1.783120  \n",
       "2 -0.540815  1.447527 -0.876644  1.783147  \n",
       "3 -0.523814  1.437933  0.906397  1.783157  \n",
       "4 -0.012698  1.085804  0.008001  1.091952  "
      ]
     },
     "execution_count": 12,
     "metadata": {},
     "output_type": "execute_result"
    }
   ],
   "source": [
    "# Calculate the 3D distance between atom\n",
    "train_df2['distance'] = ((train_df2['x_0']-train_df2['x_1'])**2 +\n",
    "(train_df2['y_0']-train_df2['y_1'])**2 + (train_df2['z_0']-train_df2['z_1'])**2)**0.5\n",
    "\n",
    "train_df2.head()"
   ]
  },
  {
   "cell_type": "markdown",
   "metadata": {},
   "source": [
    "Before we enter train test split, we will make a subset of train_df2 based on the bond type."
   ]
  },
  {
   "cell_type": "markdown",
   "metadata": {},
   "source": [
    "According to the bar plot in 'Type of Bond' section, we know that there are 8 types of bond:\n",
    "\n",
    "- {'1JHC', '1JHN', '2JHC', '2JHH', '2JHN', '3JHC', '3JHH', '3JHN'}"
   ]
  },
  {
   "cell_type": "code",
   "execution_count": 13,
   "metadata": {},
   "outputs": [
    {
     "data": {
      "text/plain": [
       "3JHC    1511207\n",
       "2JHC    1140867\n",
       "1JHC     709133\n",
       "3JHH     590529\n",
       "2JHH     377988\n",
       "3JHN     166613\n",
       "2JHN     119059\n",
       "1JHN      43680\n",
       "Name: type, dtype: int64"
      ]
     },
     "execution_count": 13,
     "metadata": {},
     "output_type": "execute_result"
    }
   ],
   "source": [
    "train_df2['type'].value_counts()"
   ]
  },
  {
   "cell_type": "code",
   "execution_count": 14,
   "metadata": {},
   "outputs": [],
   "source": [
    "def subset(btype):\n",
    "    '''\n",
    "    This function creates and returns subset of the train_df2. \n",
    "    It will locate the rows with certain bond type and generate subset.\n",
    "    \n",
    "    input: btype\n",
    "    Options for btype: {'1JHC', '1JHN', '2JHC', '2JHH', '2JHN', '3JHC', '3JHH', '3JHN'}\n",
    "    \n",
    "    output: subset in form of dataframe\n",
    "    '''\n",
    "    df = train_df2.loc[train_df2['type'] == btype]\n",
    "    \n",
    "    return df"
   ]
  },
  {
   "cell_type": "code",
   "execution_count": 15,
   "metadata": {},
   "outputs": [],
   "source": [
    "c1_df = subset('1JHC')\n",
    "n1_df = subset('1JHN')\n",
    "c2_df = subset('2JHC')\n",
    "h2_df = subset('2JHH')\n",
    "n2_df = subset('2JHN')\n",
    "c3_df = subset('3JHC')\n",
    "h3_df = subset('3JHH')\n",
    "n3_df = subset('3JHN')"
   ]
  },
  {
   "cell_type": "code",
   "execution_count": 16,
   "metadata": {},
   "outputs": [
    {
     "name": "stdout",
     "output_type": "stream",
     "text": [
      "c1\n",
      "1JHC    709133\n",
      "Name: type, dtype: int64\n",
      "\n",
      "c2\n",
      "2JHC    1140867\n",
      "Name: type, dtype: int64\n",
      "\n",
      "c3\n",
      "3JHC    1511207\n",
      "Name: type, dtype: int64\n",
      "\n",
      "n1\n",
      "1JHN    43680\n",
      "Name: type, dtype: int64\n",
      "\n",
      "n2\n",
      "2JHN    119059\n",
      "Name: type, dtype: int64\n",
      "\n",
      "n3\n",
      "3JHN    166613\n",
      "Name: type, dtype: int64\n",
      "\n",
      "h2\n",
      "2JHH    377988\n",
      "Name: type, dtype: int64\n",
      "\n",
      "h3\n",
      "3JHH    590529\n",
      "Name: type, dtype: int64\n"
     ]
    }
   ],
   "source": [
    "# check if the subset are well splitted\n",
    "print('c1')\n",
    "print(c1_df['type'].value_counts())\n",
    "print('')\n",
    "print('c2')\n",
    "print(c2_df['type'].value_counts())\n",
    "print('')\n",
    "print('c3')\n",
    "print(c3_df['type'].value_counts())\n",
    "print('')\n",
    "print('n1')\n",
    "print(n1_df['type'].value_counts())\n",
    "print('')\n",
    "print('n2')\n",
    "print(n2_df['type'].value_counts())\n",
    "print('')\n",
    "print('n3')\n",
    "print(n3_df['type'].value_counts())\n",
    "print('')\n",
    "print('h2')\n",
    "print(h2_df['type'].value_counts())\n",
    "print('')\n",
    "print('h3')\n",
    "print(h3_df['type'].value_counts())"
   ]
  },
  {
   "cell_type": "markdown",
   "metadata": {},
   "source": [
    "#### Train Test Split"
   ]
  },
  {
   "cell_type": "markdown",
   "metadata": {},
   "source": [
    "We will split the train_df2 into X and y. We will exclude columns id and molecule_name \n",
    "- X: All columns else than trarget variable(scalar_coupling_constant), id, molecule_name, and type\n",
    "    - We will exclude columns id and molecule_name since those two does not contribute to the scalar coupling constant.\n",
    "    - type will be dropped since all the df are now the subset with same bond type\n",
    "- y: target variable (scalar_coupling_constant)\n",
    "\n",
    "We will also create function for whole process since we have to run for each subset."
   ]
  },
  {
   "cell_type": "markdown",
   "metadata": {},
   "source": [
    "Moreover, we will conduct train test split twice to create train set, validation set, and test set.The ratio for this split will be 80% for train, 10% for validation and test, which is a common ratio."
   ]
  },
  {
   "cell_type": "code",
   "execution_count": 17,
   "metadata": {},
   "outputs": [],
   "source": [
    "def ttv_split(df):\n",
    "    '''\n",
    "    This function splits the set of dataframe into train, validation, and test set with ration of 80:10:10.\n",
    "    '''\n",
    "    X = df.drop(columns = ['id', 'molecule_name', 'scalar_coupling_constant','type'])\n",
    "    y = df[['scalar_coupling_constant']]\n",
    "    \n",
    "    # Split into train and test\n",
    "    # ratio train 90% : test 10%\n",
    "    X_train, X_test, y_train, y_test = train_test_split(X, y, test_size = .10, random_state = 1)\n",
    "    \n",
    "    # Split into train and val\n",
    "    # ratio train 80% : val 10% : test 10%\n",
    "    # to achieve this test_size should be 1/9\n",
    "    X_train, X_val, y_train, y_val = train_test_split(X_train, y_train, test_size = 1/9, random_state =1)\n",
    "    \n",
    "    return X_train, X_test, X_val, y_train, y_test, y_val"
   ]
  },
  {
   "cell_type": "code",
   "execution_count": 18,
   "metadata": {},
   "outputs": [],
   "source": [
    "c1_X_train, c1_X_test, c1_X_val, c1_y_train, c1_y_test, c1_y_val = ttv_split(c1_df)\n",
    "c2_X_train, c2_X_test, c2_X_val, c2_y_train, c2_y_test, c2_y_val = ttv_split(c2_df)\n",
    "c3_X_train, c3_X_test, c3_X_val, c3_y_train, c3_y_test, c3_y_val = ttv_split(c3_df)\n",
    "n1_X_train, n1_X_test, n1_X_val, n1_y_train, n1_y_test, n1_y_val = ttv_split(n1_df)\n",
    "n2_X_train, n2_X_test, n2_X_val, n2_y_train, n2_y_test, n2_y_val = ttv_split(n2_df)\n",
    "n3_X_train, n3_X_test, n3_X_val, n3_y_train, n3_y_test, n3_y_val = ttv_split(n3_df)\n",
    "h2_X_train, h2_X_test, h2_X_val, h2_y_train, h2_y_test, h2_y_val = ttv_split(h2_df)\n",
    "h3_X_train, h3_X_test, h3_X_val, h3_y_train, h3_y_test, h3_y_val = ttv_split(h3_df)"
   ]
  },
  {
   "cell_type": "code",
   "execution_count": 19,
   "metadata": {},
   "outputs": [
    {
     "data": {
      "text/html": [
       "<div>\n",
       "<style scoped>\n",
       "    .dataframe tbody tr th:only-of-type {\n",
       "        vertical-align: middle;\n",
       "    }\n",
       "\n",
       "    .dataframe tbody tr th {\n",
       "        vertical-align: top;\n",
       "    }\n",
       "\n",
       "    .dataframe thead th {\n",
       "        text-align: right;\n",
       "    }\n",
       "</style>\n",
       "<table border=\"1\" class=\"dataframe\">\n",
       "  <thead>\n",
       "    <tr style=\"text-align: right;\">\n",
       "      <th></th>\n",
       "      <th>atom_index_0</th>\n",
       "      <th>atom_index_1</th>\n",
       "      <th>atom_0</th>\n",
       "      <th>x_0</th>\n",
       "      <th>y_0</th>\n",
       "      <th>z_0</th>\n",
       "      <th>atom_1</th>\n",
       "      <th>x_1</th>\n",
       "      <th>y_1</th>\n",
       "      <th>z_1</th>\n",
       "      <th>distance</th>\n",
       "    </tr>\n",
       "  </thead>\n",
       "  <tbody>\n",
       "    <tr>\n",
       "      <th>1794965</th>\n",
       "      <td>9</td>\n",
       "      <td>0</td>\n",
       "      <td>H</td>\n",
       "      <td>0.255344</td>\n",
       "      <td>2.312081</td>\n",
       "      <td>0.654561</td>\n",
       "      <td>C</td>\n",
       "      <td>-0.695524</td>\n",
       "      <td>1.794885</td>\n",
       "      <td>0.500323</td>\n",
       "      <td>1.093358</td>\n",
       "    </tr>\n",
       "    <tr>\n",
       "      <th>3194028</th>\n",
       "      <td>9</td>\n",
       "      <td>0</td>\n",
       "      <td>H</td>\n",
       "      <td>0.919415</td>\n",
       "      <td>2.042258</td>\n",
       "      <td>-0.006993</td>\n",
       "      <td>C</td>\n",
       "      <td>-0.065870</td>\n",
       "      <td>1.565067</td>\n",
       "      <td>-0.063755</td>\n",
       "      <td>1.096229</td>\n",
       "    </tr>\n",
       "    <tr>\n",
       "      <th>4002445</th>\n",
       "      <td>11</td>\n",
       "      <td>0</td>\n",
       "      <td>H</td>\n",
       "      <td>-0.096303</td>\n",
       "      <td>1.323997</td>\n",
       "      <td>1.330618</td>\n",
       "      <td>C</td>\n",
       "      <td>0.144958</td>\n",
       "      <td>1.163510</td>\n",
       "      <td>0.278043</td>\n",
       "      <td>1.091731</td>\n",
       "    </tr>\n",
       "    <tr>\n",
       "      <th>1571087</th>\n",
       "      <td>15</td>\n",
       "      <td>7</td>\n",
       "      <td>H</td>\n",
       "      <td>3.359409</td>\n",
       "      <td>3.561537</td>\n",
       "      <td>-2.932070</td>\n",
       "      <td>C</td>\n",
       "      <td>3.117779</td>\n",
       "      <td>3.009572</td>\n",
       "      <td>-2.027701</td>\n",
       "      <td>1.086707</td>\n",
       "    </tr>\n",
       "    <tr>\n",
       "      <th>4323126</th>\n",
       "      <td>11</td>\n",
       "      <td>0</td>\n",
       "      <td>H</td>\n",
       "      <td>-0.876799</td>\n",
       "      <td>1.893361</td>\n",
       "      <td>0.697739</td>\n",
       "      <td>C</td>\n",
       "      <td>-0.120853</td>\n",
       "      <td>1.547940</td>\n",
       "      <td>-0.014709</td>\n",
       "      <td>1.094693</td>\n",
       "    </tr>\n",
       "  </tbody>\n",
       "</table>\n",
       "</div>"
      ],
      "text/plain": [
       "         atom_index_0  atom_index_1 atom_0       x_0       y_0       z_0  \\\n",
       "1794965             9             0      H  0.255344  2.312081  0.654561   \n",
       "3194028             9             0      H  0.919415  2.042258 -0.006993   \n",
       "4002445            11             0      H -0.096303  1.323997  1.330618   \n",
       "1571087            15             7      H  3.359409  3.561537 -2.932070   \n",
       "4323126            11             0      H -0.876799  1.893361  0.697739   \n",
       "\n",
       "        atom_1       x_1       y_1       z_1  distance  \n",
       "1794965      C -0.695524  1.794885  0.500323  1.093358  \n",
       "3194028      C -0.065870  1.565067 -0.063755  1.096229  \n",
       "4002445      C  0.144958  1.163510  0.278043  1.091731  \n",
       "1571087      C  3.117779  3.009572 -2.027701  1.086707  \n",
       "4323126      C -0.120853  1.547940 -0.014709  1.094693  "
      ]
     },
     "execution_count": 19,
     "metadata": {},
     "output_type": "execute_result"
    }
   ],
   "source": [
    "c1_X_train.head()"
   ]
  },
  {
   "cell_type": "code",
   "execution_count": 20,
   "metadata": {},
   "outputs": [
    {
     "data": {
      "text/html": [
       "<div>\n",
       "<style scoped>\n",
       "    .dataframe tbody tr th:only-of-type {\n",
       "        vertical-align: middle;\n",
       "    }\n",
       "\n",
       "    .dataframe tbody tr th {\n",
       "        vertical-align: top;\n",
       "    }\n",
       "\n",
       "    .dataframe thead th {\n",
       "        text-align: right;\n",
       "    }\n",
       "</style>\n",
       "<table border=\"1\" class=\"dataframe\">\n",
       "  <thead>\n",
       "    <tr style=\"text-align: right;\">\n",
       "      <th></th>\n",
       "      <th>atom_index_0</th>\n",
       "      <th>atom_index_1</th>\n",
       "      <th>atom_0</th>\n",
       "      <th>x_0</th>\n",
       "      <th>y_0</th>\n",
       "      <th>z_0</th>\n",
       "      <th>atom_1</th>\n",
       "      <th>x_1</th>\n",
       "      <th>y_1</th>\n",
       "      <th>z_1</th>\n",
       "      <th>distance</th>\n",
       "    </tr>\n",
       "  </thead>\n",
       "  <tbody>\n",
       "    <tr>\n",
       "      <th>3488947</th>\n",
       "      <td>14</td>\n",
       "      <td>2</td>\n",
       "      <td>H</td>\n",
       "      <td>1.663497</td>\n",
       "      <td>0.079107</td>\n",
       "      <td>1.509084</td>\n",
       "      <td>C</td>\n",
       "      <td>0.718083</td>\n",
       "      <td>-0.440318</td>\n",
       "      <td>1.328619</td>\n",
       "      <td>1.093699</td>\n",
       "    </tr>\n",
       "    <tr>\n",
       "      <th>1368134</th>\n",
       "      <td>13</td>\n",
       "      <td>6</td>\n",
       "      <td>H</td>\n",
       "      <td>3.088595</td>\n",
       "      <td>2.403053</td>\n",
       "      <td>1.298326</td>\n",
       "      <td>C</td>\n",
       "      <td>2.562035</td>\n",
       "      <td>2.704758</td>\n",
       "      <td>0.389108</td>\n",
       "      <td>1.093146</td>\n",
       "    </tr>\n",
       "    <tr>\n",
       "      <th>2496347</th>\n",
       "      <td>9</td>\n",
       "      <td>0</td>\n",
       "      <td>H</td>\n",
       "      <td>0.516420</td>\n",
       "      <td>2.155714</td>\n",
       "      <td>0.118905</td>\n",
       "      <td>C</td>\n",
       "      <td>-0.332618</td>\n",
       "      <td>1.491548</td>\n",
       "      <td>-0.064319</td>\n",
       "      <td>1.093413</td>\n",
       "    </tr>\n",
       "    <tr>\n",
       "      <th>2883908</th>\n",
       "      <td>11</td>\n",
       "      <td>0</td>\n",
       "      <td>H</td>\n",
       "      <td>-0.556952</td>\n",
       "      <td>1.868895</td>\n",
       "      <td>0.938078</td>\n",
       "      <td>C</td>\n",
       "      <td>-0.024147</td>\n",
       "      <td>1.465134</td>\n",
       "      <td>0.055208</td>\n",
       "      <td>1.107413</td>\n",
       "    </tr>\n",
       "    <tr>\n",
       "      <th>389129</th>\n",
       "      <td>11</td>\n",
       "      <td>2</td>\n",
       "      <td>H</td>\n",
       "      <td>-2.009111</td>\n",
       "      <td>0.068135</td>\n",
       "      <td>0.407309</td>\n",
       "      <td>C</td>\n",
       "      <td>-1.317965</td>\n",
       "      <td>-0.502299</td>\n",
       "      <td>-0.226471</td>\n",
       "      <td>1.097613</td>\n",
       "    </tr>\n",
       "  </tbody>\n",
       "</table>\n",
       "</div>"
      ],
      "text/plain": [
       "         atom_index_0  atom_index_1 atom_0       x_0       y_0       z_0  \\\n",
       "3488947            14             2      H  1.663497  0.079107  1.509084   \n",
       "1368134            13             6      H  3.088595  2.403053  1.298326   \n",
       "2496347             9             0      H  0.516420  2.155714  0.118905   \n",
       "2883908            11             0      H -0.556952  1.868895  0.938078   \n",
       "389129             11             2      H -2.009111  0.068135  0.407309   \n",
       "\n",
       "        atom_1       x_1       y_1       z_1  distance  \n",
       "3488947      C  0.718083 -0.440318  1.328619  1.093699  \n",
       "1368134      C  2.562035  2.704758  0.389108  1.093146  \n",
       "2496347      C -0.332618  1.491548 -0.064319  1.093413  \n",
       "2883908      C -0.024147  1.465134  0.055208  1.107413  \n",
       "389129       C -1.317965 -0.502299 -0.226471  1.097613  "
      ]
     },
     "execution_count": 20,
     "metadata": {},
     "output_type": "execute_result"
    }
   ],
   "source": [
    "c1_X_val.head()"
   ]
  },
  {
   "cell_type": "code",
   "execution_count": null,
   "metadata": {},
   "outputs": [],
   "source": []
  },
  {
   "cell_type": "markdown",
   "metadata": {},
   "source": [
    "Great! Train test split was successful."
   ]
  },
  {
   "cell_type": "markdown",
   "metadata": {},
   "source": [
    "#### Preprocessing Pipeline"
   ]
  },
  {
   "cell_type": "markdown",
   "metadata": {},
   "source": [
    "First, we will divide up the columns into numerical and categorical."
   ]
  },
  {
   "cell_type": "code",
   "execution_count": 21,
   "metadata": {},
   "outputs": [],
   "source": [
    "# Create a train_df3\n",
    "# exclude scalar_coupling_constant, id, molecule_name, and type\n",
    "train_df3 = train_df2.drop(columns=['scalar_coupling_constant', 'id', 'molecule_name', 'type'])"
   ]
  },
  {
   "cell_type": "code",
   "execution_count": 22,
   "metadata": {},
   "outputs": [
    {
     "name": "stdout",
     "output_type": "stream",
     "text": [
      "<class 'pandas.core.frame.DataFrame'>\n",
      "Int64Index: 4659076 entries, 0 to 4659075\n",
      "Data columns (total 11 columns):\n",
      " #   Column        Dtype  \n",
      "---  ------        -----  \n",
      " 0   atom_index_0  int64  \n",
      " 1   atom_index_1  int64  \n",
      " 2   atom_0        object \n",
      " 3   x_0           float64\n",
      " 4   y_0           float64\n",
      " 5   z_0           float64\n",
      " 6   atom_1        object \n",
      " 7   x_1           float64\n",
      " 8   y_1           float64\n",
      " 9   z_1           float64\n",
      " 10  distance      float64\n",
      "dtypes: float64(7), int64(2), object(2)\n",
      "memory usage: 426.6+ MB\n"
     ]
    }
   ],
   "source": [
    "train_df3.info()"
   ]
  },
  {
   "cell_type": "code",
   "execution_count": 23,
   "metadata": {},
   "outputs": [],
   "source": [
    "# initialize lists of columns\n",
    "num_cols = []\n",
    "cat_cols = []\n",
    "\n",
    "# num = any columns with numerical value\n",
    "# cat = everything else\n",
    "for c in train_df3.columns:\n",
    "    if train_df3[c].dtype in ['float64', 'int64']:\n",
    "        num_cols.append(c)\n",
    "    else:\n",
    "        cat_cols.append(c)"
   ]
  },
  {
   "cell_type": "code",
   "execution_count": 24,
   "metadata": {
    "scrolled": false
   },
   "outputs": [
    {
     "data": {
      "text/plain": [
       "['atom_index_0',\n",
       " 'atom_index_1',\n",
       " 'x_0',\n",
       " 'y_0',\n",
       " 'z_0',\n",
       " 'x_1',\n",
       " 'y_1',\n",
       " 'z_1',\n",
       " 'distance']"
      ]
     },
     "execution_count": 24,
     "metadata": {},
     "output_type": "execute_result"
    }
   ],
   "source": [
    "num_cols"
   ]
  },
  {
   "cell_type": "code",
   "execution_count": 25,
   "metadata": {},
   "outputs": [
    {
     "data": {
      "text/plain": [
       "['atom_0', 'atom_1']"
      ]
     },
     "execution_count": 25,
     "metadata": {},
     "output_type": "execute_result"
    }
   ],
   "source": [
    "cat_cols"
   ]
  },
  {
   "cell_type": "markdown",
   "metadata": {},
   "source": [
    "First, define the transformers for each column type using pipeline."
   ]
  },
  {
   "cell_type": "code",
   "execution_count": 26,
   "metadata": {},
   "outputs": [],
   "source": [
    "# Define transformers using pipeline\n",
    "num_transformer = Pipeline(steps=[('minmaxscaler', MinMaxScaler())])\n",
    "cat_transformer = Pipeline(steps=[('encoder', OneHotEncoder())])"
   ]
  },
  {
   "cell_type": "markdown",
   "metadata": {},
   "source": [
    "Then, combine transformers into preprocessor using ColumnTransformer."
   ]
  },
  {
   "cell_type": "code",
   "execution_count": 27,
   "metadata": {},
   "outputs": [],
   "source": [
    "# Define preprocessor\n",
    "preprocessor = ColumnTransformer(\n",
    "    transformers=[\n",
    "        ('num', num_transformer, num_cols),\n",
    "        ('cat', cat_transformer, cat_cols),\n",
    "    ])"
   ]
  },
  {
   "cell_type": "markdown",
   "metadata": {},
   "source": [
    "Finally, we will fit the preprocessor to X_train"
   ]
  },
  {
   "cell_type": "code",
   "execution_count": 28,
   "metadata": {
    "scrolled": false
   },
   "outputs": [
    {
     "data": {
      "text/plain": [
       "ColumnTransformer(transformers=[('num',\n",
       "                                 Pipeline(steps=[('minmaxscaler',\n",
       "                                                  MinMaxScaler())]),\n",
       "                                 ['atom_index_0', 'atom_index_1', 'x_0', 'y_0',\n",
       "                                  'z_0', 'x_1', 'y_1', 'z_1', 'distance']),\n",
       "                                ('cat',\n",
       "                                 Pipeline(steps=[('encoder', OneHotEncoder())]),\n",
       "                                 ['atom_0', 'atom_1'])])"
      ]
     },
     "execution_count": 28,
     "metadata": {},
     "output_type": "execute_result"
    }
   ],
   "source": [
    "preprocessor.fit(c1_X_train)"
   ]
  },
  {
   "cell_type": "markdown",
   "metadata": {},
   "source": [
    "## Modeling"
   ]
  },
  {
   "cell_type": "markdown",
   "metadata": {},
   "source": [
    "### 1. First Simple Model"
   ]
  },
  {
   "cell_type": "markdown",
   "metadata": {},
   "source": [
    "Our first simple model will be the linear regression model."
   ]
  },
  {
   "cell_type": "code",
   "execution_count": 31,
   "metadata": {},
   "outputs": [],
   "source": [
    "def fit_and_eval(regressor, X_train, y_train, X_val, y_val):\n",
    "    model = Pipeline(steps=[('preprocessor', preprocessor),\n",
    "                         ('regressor', regressor)\n",
    "                        ])\n",
    "    #print(cross_validate(lr, X_train, y_train, return_train_score=True))\n",
    "    model.fit(X_train, y_train)\n",
    "    tr_pred = model.predict(X_train)\n",
    "    val_pred = model.predict(X_val)\n",
    "    print('Result Report')\n",
    "    print('')\n",
    "    print(f'Train R2 Score: {r2_score(y_train, tr_pred)}')\n",
    "    print(f'Validation R2 Score: {r2_score(y_val, val_pred)}')\n",
    "    print('')\n",
    "    print(f'Train RMSE: {mean_squared_error(y_train, tr_pred, squared = False)}')\n",
    "    print(f'Validation RMSE: {mean_squared_error(y_val, val_pred, squared = False)}')\n",
    "    print('')\n",
    "    print(f'Validation MAE: {mean_absolute_error(y_train, tr_pred)}')\n",
    "    print(f'Validation MAE: {mean_absolute_error(y_val, val_pred)}')\n",
    "    plt.scatter(y_val,val_pred)\n",
    "    plt.plot(y_val, y_val, c=\"Red\")\n",
    "    plt.xlabel('true value')\n",
    "    plt.ylabel('prediction')"
   ]
  },
  {
   "cell_type": "markdown",
   "metadata": {},
   "source": [
    "#### 1.1 1JHC"
   ]
  },
  {
   "cell_type": "code",
   "execution_count": 33,
   "metadata": {},
   "outputs": [
    {
     "name": "stdout",
     "output_type": "stream",
     "text": [
      "Result Report\n",
      "\n",
      "Train R2 Score: 0.5463159135570067\n",
      "Validation R2 Score: 0.5466896074871468\n",
      "\n",
      "Train RMSE: 12.300764664124433\n",
      "Validation RMSE: 12.41686142345409\n",
      "\n",
      "Validation MAE: 8.604505167515708\n",
      "Validation MAE: 8.655867320505603\n"
     ]
    },
    {
     "data": {
      "image/png": "[encoded data removed]",
      "text/plain": [
       "<Figure size 432x288 with 1 Axes>"
      ]
     },
     "metadata": {
      "needs_background": "light"
     },
     "output_type": "display_data"
    }
   ],
   "source": [
    "fit_and_eval(LinearRegression(), c1_X_train, c1_y_train, c1_X_val, c1_y_val)"
   ]
  },
  {
   "cell_type": "markdown",
   "metadata": {},
   "source": [
    "#### 1.2 1JHN"
   ]
  },
  {
   "cell_type": "code",
   "execution_count": 34,
   "metadata": {},
   "outputs": [
    {
     "name": "stdout",
     "output_type": "stream",
     "text": [
      "Result Report\n",
      "\n",
      "Train R2 Score: 0.7776016589642134\n",
      "Validation R2 Score: 0.7692073085341721\n",
      "\n",
      "Train RMSE: 5.135596428462661\n",
      "Validation RMSE: 5.280458232881145\n",
      "\n",
      "Validation MAE: 3.401400469714534\n",
      "Validation MAE: 3.5418138658999734\n"
     ]
    },
    {
     "data": {
      "image/png": "[encoded data removed]",
      "text/plain": [
       "<Figure size 432x288 with 1 Axes>"
      ]
     },
     "metadata": {
      "needs_background": "light"
     },
     "output_type": "display_data"
    }
   ],
   "source": [
    "fit_and_eval(LinearRegression(), n1_X_train, n1_y_train, n1_X_val, n1_y_val)"
   ]
  },
  {
   "cell_type": "markdown",
   "metadata": {},
   "source": [
    "#### 1.3 2JHC"
   ]
  },
  {
   "cell_type": "code",
   "execution_count": 35,
   "metadata": {},
   "outputs": [
    {
     "name": "stdout",
     "output_type": "stream",
     "text": [
      "Result Report\n",
      "\n",
      "Train R2 Score: 0.09644985685706409\n",
      "Validation R2 Score: 0.0952199209598461\n",
      "\n",
      "Train RMSE: 4.301247926808028\n",
      "Validation RMSE: 4.312422305375372\n",
      "\n",
      "Validation MAE: 2.650960987982246\n",
      "Validation MAE: 2.6500908475586975\n"
     ]
    },
    {
     "data": {
      "image/png": "[encoded data removed]",
      "text/plain": [
       "<Figure size 432x288 with 1 Axes>"
      ]
     },
     "metadata": {
      "needs_background": "light"
     },
     "output_type": "display_data"
    }
   ],
   "source": [
    "fit_and_eval(LinearRegression(), c2_X_train, c2_y_train, c2_X_val, c2_y_val)"
   ]
  },
  {
   "cell_type": "markdown",
   "metadata": {},
   "source": [
    "#### 1.4 2JHH"
   ]
  },
  {
   "cell_type": "code",
   "execution_count": 36,
   "metadata": {},
   "outputs": [
    {
     "name": "stdout",
     "output_type": "stream",
     "text": [
      "Result Report\n",
      "\n",
      "Train R2 Score: 0.3111021071210358\n",
      "Validation R2 Score: 0.30861614751726074\n",
      "\n",
      "Train RMSE: 3.29890050412273\n",
      "Validation RMSE: 3.3520983155489463\n",
      "\n",
      "Validation MAE: 1.9697426947116417\n",
      "Validation MAE: 1.992494060153671\n"
     ]
    },
    {
     "data": {
      "image/png": "[encoded data removed]",
      "text/plain": [
       "<Figure size 432x288 with 1 Axes>"
      ]
     },
     "metadata": {
      "needs_background": "light"
     },
     "output_type": "display_data"
    }
   ],
   "source": [
    "fit_and_eval(LinearRegression(), h2_X_train, h2_y_train, h2_X_val, h2_y_val)"
   ]
  },
  {
   "cell_type": "markdown",
   "metadata": {},
   "source": [
    "#### 1.5 2JHN"
   ]
  },
  {
   "cell_type": "code",
   "execution_count": 37,
   "metadata": {},
   "outputs": [
    {
     "name": "stdout",
     "output_type": "stream",
     "text": [
      "Result Report\n",
      "\n",
      "Train R2 Score: 0.1509045946494092\n",
      "Validation R2 Score: 0.16738611099251088\n",
      "\n",
      "Train RMSE: 3.389858901178878\n",
      "Validation RMSE: 3.3468528524803514\n",
      "\n",
      "Validation MAE: 2.677249029675603\n",
      "Validation MAE: 2.6416079105230805\n"
     ]
    },
    {
     "data": {
      "image/png": "[encoded data removed]",
      "text/plain": [
       "<Figure size 432x288 with 1 Axes>"
      ]
     },
     "metadata": {
      "needs_background": "light"
     },
     "output_type": "display_data"
    }
   ],
   "source": [
    "fit_and_eval(LinearRegression(), n2_X_train, n2_y_train, n2_X_val, n2_y_val)"
   ]
  },
  {
   "cell_type": "markdown",
   "metadata": {},
   "source": [
    "#### 1.6 3JHC"
   ]
  },
  {
   "cell_type": "code",
   "execution_count": 38,
   "metadata": {},
   "outputs": [
    {
     "name": "stdout",
     "output_type": "stream",
     "text": [
      "Result Report\n",
      "\n",
      "Train R2 Score: 0.10672838645656568\n",
      "Validation R2 Score: 0.10483876692355376\n",
      "\n",
      "Train RMSE: 2.906292433618292\n",
      "Validation RMSE: 2.9121584059046497\n",
      "\n",
      "Validation MAE: 2.2814566542555634\n",
      "Validation MAE: 2.284753958981355\n"
     ]
    },
    {
     "data": {
      "image/png": "[encoded data removed]",
      "text/plain": [
       "<Figure size 432x288 with 1 Axes>"
      ]
     },
     "metadata": {
      "needs_background": "light"
     },
     "output_type": "display_data"
    }
   ],
   "source": [
    "fit_and_eval(LinearRegression(), c3_X_train, c3_y_train, c3_X_val, c3_y_val)"
   ]
  },
  {
   "cell_type": "markdown",
   "metadata": {},
   "source": [
    "#### 1.7 3JHH"
   ]
  },
  {
   "cell_type": "code",
   "execution_count": 39,
   "metadata": {},
   "outputs": [
    {
     "name": "stdout",
     "output_type": "stream",
     "text": [
      "Result Report\n",
      "\n",
      "Train R2 Score: 0.08150933669394467\n",
      "Validation R2 Score: 0.0820803660764653\n",
      "\n",
      "Train RMSE: 3.5521686872451075\n",
      "Validation RMSE: 3.5435678383515388\n",
      "\n",
      "Validation MAE: 2.9695985976538983\n",
      "Validation MAE: 2.961684597278121\n"
     ]
    },
    {
     "data": {
      "image/png": "[encoded data removed]",
      "text/plain": [
       "<Figure size 432x288 with 1 Axes>"
      ]
     },
     "metadata": {
      "needs_background": "light"
     },
     "output_type": "display_data"
    }
   ],
   "source": [
    "fit_and_eval(LinearRegression(), h3_X_train, h3_y_train, h3_X_val, h3_y_val)"
   ]
  },
  {
   "cell_type": "markdown",
   "metadata": {},
   "source": [
    "#### 1.8 3JHN"
   ]
  },
  {
   "cell_type": "code",
   "execution_count": 40,
   "metadata": {},
   "outputs": [
    {
     "name": "stdout",
     "output_type": "stream",
     "text": [
      "Result Report\n",
      "\n",
      "Train R2 Score: 0.08630688219038385\n",
      "Validation R2 Score: 0.08851715689720507\n",
      "\n",
      "Train RMSE: 1.2612047121224848\n",
      "Validation RMSE: 1.2675154400713355\n",
      "\n",
      "Validation MAE: 0.9272627346211364\n",
      "Validation MAE: 0.9276441967998348\n"
     ]
    },
    {
     "data": {
      "image/png": "[encoded data removed]",
      "text/plain": [
       "<Figure size 432x288 with 1 Axes>"
      ]
     },
     "metadata": {
      "needs_background": "light"
     },
     "output_type": "display_data"
    }
   ],
   "source": [
    "fit_and_eval(LinearRegression(), n3_X_train, n3_y_train, n3_X_val, n3_y_val)"
   ]
  },
  {
   "cell_type": "markdown",
   "metadata": {},
   "source": [
    "Our linear regression models results proves that the most of the bond type cannot be explained with simple linear regression. Only two reasonable R_squared value is that of 1JHC and 1JHN. However, they are both below 0.8 which proves that we need to try out different regression models."
   ]
  },
  {
   "cell_type": "markdown",
   "metadata": {},
   "source": [
    "### 2. Random Forest Regressor"
   ]
  },
  {
   "cell_type": "markdown",
   "metadata": {},
   "source": [
    "#### 2.1 1JHC"
   ]
  },
  {
   "cell_type": "code",
   "execution_count": null,
   "metadata": {
    "scrolled": false
   },
   "outputs": [
    {
     "name": "stderr",
     "output_type": "stream",
     "text": [
      "C:\\Users\\Paul\\anaconda3\\envs\\learn-env\\lib\\site-packages\\sklearn\\pipeline.py:335: DataConversionWarning: A column-vector y was passed when a 1d array was expected. Please change the shape of y to (n_samples,), for example using ravel().\n",
      "  self._final_estimator.fit(Xt, y, **fit_params_last_step)\n"
     ]
    }
   ],
   "source": [
    "fit_and_eval(RandomForestRegressor(), c1_X_train, c1_y_train, c1_X_val, c1_y_val)"
   ]
  },
  {
   "cell_type": "code",
   "execution_count": null,
   "metadata": {},
   "outputs": [],
   "source": []
  },
  {
   "cell_type": "markdown",
   "metadata": {},
   "source": [
    "### 3. Neural Networks"
   ]
  },
  {
   "cell_type": "code",
   "execution_count": null,
   "metadata": {},
   "outputs": [],
   "source": [
    "X_train.shape"
   ]
  },
  {
   "cell_type": "code",
   "execution_count": null,
   "metadata": {},
   "outputs": [],
   "source": [
    "def create_model(optimizer='adam',\n",
    "                 kernel_initializer='glorot_uniform', \n",
    "                 dropout=0.2):\n",
    "    model = Sequential()\n",
    "    model.add(Dense(64,activation='relu',kernel_initializer=kernel_initializer,input_shape = (14,)))\n",
    "    model.add(Dropout(dropout))\n",
    "    model.add(Dense(1,activation='linear',kernel_initializer=kernel_initializer))\n",
    "\n",
    "    model.compile(loss='mean_absolute_error',optimizer=optimizer)\n",
    "\n",
    "    return model"
   ]
  },
  {
   "cell_type": "code",
   "execution_count": null,
   "metadata": {},
   "outputs": [],
   "source": []
  },
  {
   "cell_type": "code",
   "execution_count": null,
   "metadata": {},
   "outputs": [],
   "source": []
  },
  {
   "cell_type": "code",
   "execution_count": null,
   "metadata": {
    "scrolled": true
   },
   "outputs": [],
   "source": []
  },
  {
   "cell_type": "code",
   "execution_count": null,
   "metadata": {},
   "outputs": [],
   "source": []
  },
  {
   "cell_type": "code",
   "execution_count": null,
   "metadata": {},
   "outputs": [],
   "source": [
    "nn1.fit(X_train, y_train, validation_data=(X_val,y_val.values),epochs=10, batch_size=10)"
   ]
  },
  {
   "cell_type": "code",
   "execution_count": null,
   "metadata": {},
   "outputs": [],
   "source": []
  },
  {
   "cell_type": "code",
   "execution_count": null,
   "metadata": {},
   "outputs": [],
   "source": []
  }
 ],
 "metadata": {
  "kernelspec": {
   "display_name": "Python (learn-env)",
   "language": "python",
   "name": "learn-env"
  },
  "language_info": {
   "codemirror_mode": {
    "name": "ipython",
    "version": 3
   },
   "file_extension": ".py",
   "mimetype": "text/x-python",
   "name": "python",
   "nbconvert_exporter": "python",
   "pygments_lexer": "ipython3",
   "version": "3.8.5"
  }
 },
 "nbformat": 4,
 "nbformat_minor": 4
}
