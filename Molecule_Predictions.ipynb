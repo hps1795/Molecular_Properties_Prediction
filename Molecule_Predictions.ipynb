{
 "cells": [
  {
   "cell_type": "markdown",
   "metadata": {},
   "source": [
    "# Molecular Properties Prediction\n",
    "Author: Hyunwook Paul Shin"
   ]
  },
  {
   "cell_type": "markdown",
   "metadata": {},
   "source": [
    "<img src=\"Image/molecules.png\" width=\"80%\" height=\"80%\">"
   ]
  },
  {
   "cell_type": "markdown",
   "metadata": {},
   "source": [
    "## 1. Overview"
   ]
  },
  {
   "cell_type": "markdown",
   "metadata": {},
   "source": [
    "This notebook contains the steps of solving the molecular properties prediction involving the molecular structural data. The project aims to create a model that can accurately predict the target variable, the scalar coupling constant. Since this is a prediction on the continuous quantity output, the problem is defined as the regression problem. Then, the metrics are set as R-squared score, root mean squared error, and mean absolute error to evaluate the regression model: goal is to enhance the R2 score while maintaining the low error values. After performing multiple modeling, the Keras Neural Network is selected as the best model. "
   ]
  },
  {
   "cell_type": "markdown",
   "metadata": {},
   "source": [
    "## 2. Business Problem\n",
    "\n",
    "- NMR Information: https://www.jeol.co.jp/en/products/nmr/basics.html\n",
    "- NMR and Scalar Coupling Constant Information: https://chem.libretexts.org/Courses/University_of_Illinois_Springfield/Introduction_to_Organic_Spectroscopy/5%3A_Proton_Nuclear_Magnetic_Resonance_Spectroscopy_(NMR)/5.03%3A_NMR_Spectroscopy"
   ]
  },
  {
   "cell_type": "markdown",
   "metadata": {},
   "source": [
    "Nuclear Magnetic Resonance (NMR) is a core technique used to understand the structure and interactions of molecules and proteins. NMR is being utilized by researchers in the pharmaceutical and chemical fields worldwide. The NMR performance is largely dependent on the accurate prediction of the variable, scalar coupling constant (SCC).\n",
    "\n",
    "SCC is a magnetic interaction (also called 'coupling') between two atoms. It is the feature that provides information on the connectivity of chemical structure, which is used to explain the interaction between the molecules in NMR. However, the constraint in SCC calculation limits the application of this technique; the calculation length takes from days to even weeks for one molecule when the structural information of the molecule is an input, and the cost of calculation is expensive.\n",
    "\n",
    "Therefore, creating a model that can accurately predict the SCC will allow the NMR to be applicable for research in a daily basis. The model will enable pharmaceutical researchers to gain insight on how the molecular structure affects the properties and behavior faster and cheaper and accelerate the innovation in inventing and designing new drugs.\n",
    "\n",
    "### Stakeholder\n",
    "Pharmaceutical Researchers\n",
    " \n",
    "### Goal \n",
    "Develop a regression model that predicts the scalar coupling constant from the structural information of the molecule. \n",
    "\n",
    "### Metrics\n",
    "For evaluation, we will look at the following metrics:\n",
    "- R2 Score\n",
    "    - R2 is used for explaining how well the independent variables in the linear regression model explain the variability in the dependent variable.\n",
    "    \n",
    "    \n",
    "- Root Mean Squared Error (RMSE)\n",
    "    - RMSE is the square root of the average squared difference between the original and predicted values in the data set. It measures the standard deviation of residuals.\n",
    "    \n",
    "    \n",
    "- Mean Absolute Error (MAE)\n",
    "    - MAE is the average of the absolute difference between the actual and predicted values in the dataset. It measures the average of the residuals in the dataset.\n",
    "\n",
    "The lower value of MAE and RMSE implies higher accuracy of a regression model. However, a higher value of R square is considered desirable. Therefore, the final model will be chosen based on the highest R2 score while showing the lowest RMSE and MAE values."
   ]
  },
  {
   "cell_type": "markdown",
   "metadata": {},
   "source": [
    "## 3. Data Understanding"
   ]
  },
  {
   "cell_type": "markdown",
   "metadata": {},
   "source": [
    "The dataset used for this prediction modeling was sourced from https://www.kaggle.com/c/champs-scalar-coupling/data. Following is the description of the dataset we will be using for the analysis.\n",
    "\n",
    "- train.csv\n",
    "    - the training set, where the first column (molecule_name) is the name of the molecule where the coupling constant originates (the corresponding XYZ file is located at ./structures/.xyz), the second (atom_index_0) and third column (atom_index_1) is the atom indices of the atom-pair creating the coupling and the fourth column (scalar_coupling_constant) is the scalar coupling constant that we want to be able to predict\n",
    "\n",
    "- structures.csv \n",
    "    - this file contains the same information as the individual xyz structure files, but in a single file"
   ]
  },
  {
   "cell_type": "markdown",
   "metadata": {},
   "source": [
    "Provided test.csv will not be used for analysis since it does not provide a target variable, and, therefore, it cannot be used to check the accuracy of the result of the model. Instead, we will split the train.csv into the train, test, and validation sets. "
   ]
  },
  {
   "cell_type": "markdown",
   "metadata": {},
   "source": [
    "Before starting the data analysis, let's import the libraries and modules which will be used for the whole process."
   ]
  },
  {
   "cell_type": "markdown",
   "metadata": {},
   "source": [
    "### Modules"
   ]
  },
  {
   "cell_type": "code",
   "execution_count": 1,
   "metadata": {
    "scrolled": false
   },
   "outputs": [],
   "source": [
    "#!pip install lightgbm"
   ]
  },
  {
   "cell_type": "code",
   "execution_count": 2,
   "metadata": {},
   "outputs": [],
   "source": [
    "#!pip install CatBoost"
   ]
  },
  {
   "cell_type": "code",
   "execution_count": 3,
   "metadata": {},
   "outputs": [],
   "source": [
    "import numpy as np\n",
    "import pandas as pd\n",
    "import seaborn as sns\n",
    "import matplotlib.pyplot as plt\n",
    "%matplotlib inline\n",
    "\n",
    "import time\n",
    "from sklearn.base import TransformerMixin\n",
    "from sklearn.model_selection import train_test_split\n",
    "from sklearn.preprocessing import MinMaxScaler, LabelEncoder\n",
    "from sklearn.linear_model import LinearRegression\n",
    "from sklearn.metrics import r2_score, mean_absolute_error, mean_squared_error\n",
    "\n",
    "from sklearn.ensemble import RandomForestRegressor\n",
    "\n",
    "from xgboost import XGBRegressor\n",
    "\n",
    "from lightgbm import LGBMRegressor\n",
    "\n",
    "from catboost import CatBoostRegressor\n",
    "\n",
    "import tensorflow as tf\n",
    "from keras.models import Sequential\n",
    "from keras.layers import Dense, Input, Dropout, BatchNormalization \n",
    "from keras.optimizers import Adam\n",
    "from keras.layers.advanced_activations import LeakyReLU\n",
    "from keras.callbacks import EarlyStopping\n",
    "\n",
    "\n",
    "import warnings\n",
    "warnings.filterwarnings(\"ignore\")"
   ]
  },
  {
   "cell_type": "markdown",
   "metadata": {},
   "source": [
    "### Functions"
   ]
  },
  {
   "cell_type": "markdown",
   "metadata": {},
   "source": [
    "Below are the created functions used in the projects."
   ]
  },
  {
   "cell_type": "code",
   "execution_count": 4,
   "metadata": {},
   "outputs": [],
   "source": [
    "def map_atom_info(df, atom_idx):\n",
    "    '''\n",
    "    This merging technique has been sourced from: https://www.kaggle.com/inversion/atomic-distance-benchmark.\n",
    "    \n",
    "    This function merges the input df with the structures information df based on atom_idx input.\n",
    "    There are two atom indexes in the df: 0 and 1. \n",
    "    Structure information will be merged to input df, and the contents will be renamed based on atom_idx.\n",
    "    \n",
    "    Need of this function:\n",
    "    Each row of input df contains the bond information of the two atoms.\n",
    "    Each row of structures_df only contains the position information of one atom in a molecule.\n",
    "    We need position information for both atoms in input df, however, merging once will only provide the information of one atom.\n",
    "    \n",
    "    Therefore, using this function twice (once on 'atom_index_0' and once on 'atom_index_1') will \n",
    "    allow the final_df to have position information for both atoms in a row.\n",
    "    \n",
    "    \n",
    "    Input:\n",
    "    df: pandas dataframe\n",
    "    atom_idx: 0 or 1\n",
    "    \n",
    "    Output:\n",
    "    merged dataframe\n",
    "    '''\n",
    "    # Merge dataframe\n",
    "    df = pd.merge(df, structures_df, how = 'left',\n",
    "                  left_on  = ['molecule_name', f'atom_index_{atom_idx}'],\n",
    "                  right_on = ['molecule_name',  'atom_index'])\n",
    "    \n",
    "    # Rename the columns\n",
    "    df = df.drop('atom_index', axis=1)\n",
    "    df = df.rename(columns={'atom': f'atom_{atom_idx}',\n",
    "                            'x': f'x_{atom_idx}',\n",
    "                            'y': f'y_{atom_idx}',\n",
    "                            'z': f'z_{atom_idx}'})\n",
    "    return df"
   ]
  },
  {
   "cell_type": "code",
   "execution_count": 5,
   "metadata": {},
   "outputs": [],
   "source": [
    "def angle_info(df):\n",
    "    '''\n",
    "    Feature engineering technique for bond angle is sourced from https://www.kaggle.com/kmat2019/effective-feature.\n",
    "    \n",
    "    This function calculates and adds the cosine angle between the molecules to the input df and returns the \n",
    "    revised version of input df.\n",
    "    \n",
    "    Input:\n",
    "    df: pandas dataframe\n",
    "    \n",
    "    Output:\n",
    "    Revised version of input df\n",
    "    '''\n",
    "    \n",
    "    # Create new df (new_atom) with new atom position & distance info \n",
    "    new_atom = train_df2.loc[:,[\"molecule_name\",\"atom_index_0\",\"atom_index_1\",\"distance\",\"x_0\",\"y_0\",\"z_0\",\"x_1\",\"y_1\",\"z_1\"]]\n",
    "    \n",
    "    # Create a dataset with original and reversed positional information\n",
    "    # Necessary step for angle calculation since we need reversed postion info\n",
    "    new_atom2 =new_atom.copy()\n",
    "    new_atom2 = new_atom2.rename(columns={'atom_index_0': 'atom_index_1',\n",
    "                                   'atom_index_1': 'atom_index_0',\n",
    "                                   'x_0': 'x_1',\n",
    "                                   'y_0': 'y_1',\n",
    "                                   'z_0': 'z_1',\n",
    "                                   'x_1': 'x_0',\n",
    "                                   'y_1': 'y_0',\n",
    "                                   'z_1': 'z_0'})\n",
    "    \n",
    "    # Merging datasets with original and reversed postion\n",
    "    new_atom = pd.concat((new_atom, new_atom2), axis=0)\n",
    "    \n",
    "    # Find the minimum distance for atom_index_0\n",
    "    new_atom['min_distance'] = new_atom.groupby(['molecule_name', 'atom_index_0'])['distance'].transform('min')\n",
    "    \n",
    "    # Leave the columns where distance = minmum distance for that atom_index\n",
    "    new_atom = new_atom[new_atom['min_distance'] == new_atom['distance']]\n",
    "    \n",
    "    # drop the column unneccessary columns\n",
    "    new_atom = new_atom.drop(['x_0','y_0','z_0','min_distance'], axis=1)\n",
    "    \n",
    "    # Rename features\n",
    "    # New atoms will be named as atom_closest\n",
    "    new_atom = new_atom.rename(columns={'atom_index_0': 'atom_index',\n",
    "                                 'atom_index_1': 'atom_index_closest',\n",
    "                                 'distance': 'distance_closest',\n",
    "                                 'x_1': 'x_closest',\n",
    "                                 'y_1': 'y_closest',\n",
    "                                 'z_1': 'z_closest'})\n",
    "    \n",
    "    # merge new_atom with input df\n",
    "    # same logic with the function map_atom_info\n",
    "    # since there are two indexes, we need to apply same logic twice\n",
    "    atom_idx = 0\n",
    "    angle_df = pd.merge(train_df2, new_atom, how = 'left',\n",
    "                  left_on  = ['molecule_name', f'atom_index_{atom_idx}'],\n",
    "                  right_on = ['molecule_name',  'atom_index'])\n",
    "        \n",
    "    angle_df = angle_df.drop('atom_index', axis=1)\n",
    "    angle_df = angle_df.rename(columns={'atom_index_closest': f'atom_index_closest_{atom_idx}',\n",
    "                                        'distance_closest': f'distance_closest_{atom_idx}',\n",
    "                                        'x_closest': f'x_closest_{atom_idx}',\n",
    "                                        'y_closest': f'y_closest_{atom_idx}',\n",
    "                                        'z_closest': f'z_closest_{atom_idx}'})\n",
    "    atom_idx2 = 1\n",
    "    angle_df = pd.merge(angle_df, new_atom, how = 'left',\n",
    "                  left_on  = ['molecule_name', f'atom_index_{atom_idx2}'],\n",
    "                  right_on = ['molecule_name',  'atom_index'])\n",
    "        \n",
    "    angle_df = angle_df.drop('atom_index', axis=1)\n",
    "    angle_df = angle_df.rename(columns={'atom_index_closest': f'atom_index_closest_{atom_idx2}',\n",
    "                                        'distance_closest': f'distance_closest_{atom_idx2}',\n",
    "                                        'x_closest': f'x_closest_{atom_idx2}',\n",
    "                                        'y_closest': f'y_closest_{atom_idx2}',\n",
    "                                        'z_closest': f'z_closest_{atom_idx2}'})\n",
    "        \n",
    "    # calculate new distances\n",
    "    angle_df[\"distance_0\"]=((angle_df['x_0']-angle_df['x_closest_0'])**2+(angle_df['y_0']-angle_df['y_closest_0'])**2+(angle_df['z_0']-angle_df['z_closest_0'])**2)**(1/2)\n",
    "    angle_df[\"distance_1\"]=((angle_df['x_1']-angle_df['x_closest_1'])**2+(angle_df['y_1']-angle_df['y_closest_1'])**2+(angle_df['z_1']-angle_df['z_closest_1'])**2)**(1/2)\n",
    "    \n",
    "    # calculate vectors between atom 0 and atom closest to 0\n",
    "    angle_df[\"vec_0_x\"]=(angle_df['x_0']-angle_df['x_closest_0'])/angle_df[\"distance_0\"]\n",
    "    angle_df[\"vec_0_y\"]=(angle_df['y_0']-angle_df['y_closest_0'])/angle_df[\"distance_0\"]\n",
    "    angle_df[\"vec_0_z\"]=(angle_df['z_0']-angle_df['z_closest_0'])/angle_df[\"distance_0\"]\n",
    "    \n",
    "    # calculate vectors between atom 1 and atom closest to 1\n",
    "    angle_df[\"vec_1_x\"]=(angle_df['x_1']-angle_df['x_closest_1'])/angle_df[\"distance_1\"]\n",
    "    angle_df[\"vec_1_y\"]=(angle_df['y_1']-angle_df['y_closest_1'])/angle_df[\"distance_1\"]\n",
    "    angle_df[\"vec_1_z\"]=(angle_df['z_1']-angle_df['z_closest_1'])/angle_df[\"distance_1\"]\n",
    "    \n",
    "    # calculate vectors between atom 0 and 1\n",
    "    angle_df[\"vec_x\"]=(angle_df['x_1']-angle_df['x_0'])/angle_df[\"distance\"]\n",
    "    angle_df[\"vec_y\"]=(angle_df['y_1']-angle_df['y_0'])/angle_df[\"distance\"]\n",
    "    angle_df[\"vec_z\"]=(angle_df['z_1']-angle_df['z_0'])/angle_df[\"distance\"]  \n",
    "    \n",
    "    # calculate the cosine angle between:\n",
    "    # 1. atom 0 and 1 / 2. atom 0 and atom closest to 0 / 3. atom 1 and atom closest to 1\n",
    "    angle_df[\"cos_0_1\"]=angle_df[\"vec_0_x\"]*angle_df[\"vec_1_x\"]+angle_df[\"vec_0_y\"]*angle_df[\"vec_1_y\"]+angle_df[\"vec_0_z\"]*angle_df[\"vec_1_z\"]\n",
    "    angle_df[\"cos_0\"]=angle_df[\"vec_0_x\"]*angle_df[\"vec_x\"]+angle_df[\"vec_0_y\"]*angle_df[\"vec_y\"]+angle_df[\"vec_0_z\"]*angle_df[\"vec_z\"]\n",
    "    angle_df[\"cos_1\"]=angle_df[\"vec_1_x\"]*angle_df[\"vec_x\"]+angle_df[\"vec_1_y\"]*angle_df[\"vec_y\"]+angle_df[\"vec_1_z\"]*angle_df[\"vec_z\"]\n",
    "    \n",
    "    # Leave necessary columns only\n",
    "    angle_df = angle_df.loc[:,['molecule_name', 'atom_index_0','atom_index_1','type', 'cos_0_1','cos_0', 'cos_1']]\n",
    "    \n",
    "    # Merge with input df\n",
    "    df = pd.merge(df, angle_df, on = ['molecule_name', 'atom_index_0', 'atom_index_1', 'type'])\n",
    "    \n",
    "    return df"
   ]
  },
  {
   "cell_type": "code",
   "execution_count": 6,
   "metadata": {},
   "outputs": [],
   "source": [
    "def ttv_split(df):\n",
    "    '''\n",
    "    This function splits the set of dataframe into train, validation, and test set with ration of 60:20:20.\n",
    "    \n",
    "    Input:\n",
    "    df: Pandas Dataframe\n",
    "    \n",
    "    Output:\n",
    "    X_train\n",
    "    X_test \n",
    "    X_val \n",
    "    y_train \n",
    "    y_test\n",
    "    y_val\n",
    "    '''\n",
    "    # Create X and y from df input\n",
    "    X = df.drop(columns = ['id', 'molecule_name', 'cbrt_scalar_coupling_constant'])\n",
    "    y = df[['cbrt_scalar_coupling_constant']]\n",
    "    \n",
    "    # Split into train and test\n",
    "    # ratio train 80% : test 20%\n",
    "    X_train, X_test, y_train, y_test = train_test_split(X, y, test_size = .20, random_state = 1)\n",
    "    \n",
    "    # Split into train and val\n",
    "    # ratio train 60% : val 20% : test 20%\n",
    "    # to achieve this test_size should be 1/4 = 0.25\n",
    "    X_train, X_val, y_train, y_val = train_test_split(X_train, y_train, test_size = 0.25, random_state =1)\n",
    "    \n",
    "    return X_train, X_test, X_val, y_train, y_test, y_val"
   ]
  },
  {
   "cell_type": "code",
   "execution_count": 7,
   "metadata": {},
   "outputs": [],
   "source": [
    "def preprocess(X_tr, X_te, X_v):\n",
    "    '''\n",
    "        This function preprocesses the dataset based on their columns. \n",
    "    The numerical columns are preprocessed using MinMaxScaler.\n",
    "    The categorical columns are preprocessed using LabelEncoder\n",
    "    \n",
    "    Input:\n",
    "    X_tr, X_te, X_v: train, test, validation set. dataframe\n",
    "    \n",
    "    Output:\n",
    "    X_tr, X_te, X_v: preprocessed train, test, validation set. dataframe\n",
    "    \n",
    "    \n",
    "    '''\n",
    "    # define scaler and encoder\n",
    "    scaler = MinMaxScaler()\n",
    "    encoder = LabelEncoder()\n",
    "    # Scale and Encode Separated Columns\n",
    "    for i in num_cols:\n",
    "        X_tr[[i]] = scaler.fit_transform(X_tr[[i]]) \n",
    "        X_te[[i]] = scaler.transform(X_te[[i]]) \n",
    "        X_v[[i]] = scaler.transform(X_v[[i]]) \n",
    "    \n",
    "    for f in cat_cols:\n",
    "        X_tr[f] = encoder.fit_transform(X_tr[[f]])\n",
    "        X_te[f] = encoder.transform(X_te[[f]])\n",
    "        X_v[f] = encoder.transform(X_v[[f]])\n",
    "        \n",
    "    return X_tr, X_te, X_v"
   ]
  },
  {
   "cell_type": "code",
   "execution_count": 8,
   "metadata": {},
   "outputs": [],
   "source": [
    "def fit_and_eval(regressor, X_tr, y_tr, X_v, y_v):\n",
    "    '''\n",
    "    This function:\n",
    "    1. Creates the model based on input regressor \n",
    "    2. Fits the model\n",
    "    3. Predict the values based on fitted model\n",
    "    4. Report the model training time in seconds\n",
    "    6. Report the results for evaluation (R2 score, Root Mean Squared Error (RMSE), Mean Absolute Error(MAE))\n",
    "    7. Plot the scatter plot of prediction on validation set with best fit line \n",
    "    8. Return fitted model\n",
    "    \n",
    "    Input:\n",
    "    regressor: machine learning model ( ex) LinearRegression(), RandomForestRegressor(), ... )\n",
    "    X_tr: train dataset for features (X)\n",
    "    y_tr: train dataset for target variable (y)\n",
    "    X_v: validation dataset for features (X)\n",
    "    y_v: validation dataset for target variable (y)    \n",
    "    \n",
    "    Output:\n",
    "    Training Time: seconds\n",
    "    Result Report\n",
    "    Scatter Plot\n",
    "    Fitted model\n",
    "    '''\n",
    "    # Create model with pipeline\n",
    "    model = regressor\n",
    "    \n",
    "    # Record the fitting start time\n",
    "    start = time.time()\n",
    "    \n",
    "    # Fit the model\n",
    "    model.fit(X_tr, y_tr)\n",
    "    \n",
    "    # Record the fitting end time\n",
    "    stop = time.time()\n",
    "    \n",
    "    # Return Training time in seconds\n",
    "    print(f\"Training time: {stop - start}s\")\n",
    "    \n",
    "    # Predict on train and validation set\n",
    "    tr_pred = model.predict(X_tr)\n",
    "    val_pred = model.predict(X_v)\n",
    "    \n",
    "    # Report Results (R2, RMSE, MAE)\n",
    "    print('Result Report')\n",
    "    print('')\n",
    "    print(f'Train R2 Score: {r2_score(y_tr, tr_pred)}')\n",
    "    print(f'Validation R2 Score: {r2_score(y_v, val_pred)}')\n",
    "    print('')\n",
    "    print(f'Train RMSE: {mean_squared_error(y_tr, tr_pred, squared = False)}')\n",
    "    print(f'Validation RMSE: {mean_squared_error(y_v, val_pred, squared = False)}')\n",
    "    print('')\n",
    "    print(f'Train MAE: {mean_absolute_error(y_tr, tr_pred)}')\n",
    "    print(f'Validation MAE: {mean_absolute_error(y_v, val_pred)}')\n",
    "    \n",
    "    # Plot the validation prediction and best fit line\n",
    "    plt.scatter(y_v,val_pred)\n",
    "    plt.plot(y_v, y_v, c=\"Red\")\n",
    "    plt.xlabel('true value')\n",
    "    plt.ylabel('prediction')\n",
    "    \n",
    "    return model"
   ]
  },
  {
   "cell_type": "code",
   "execution_count": 9,
   "metadata": {},
   "outputs": [],
   "source": [
    "def fit_eval_nn(X_tr, y_tr, X_v, y_v, epoch, batch):\n",
    "    '''\n",
    "    This function:\n",
    "    1. Creates the sequential keras model with multiple layers\n",
    "    2. Compile and fit the model\n",
    "    3. Make prediction based on the fitted model\n",
    "    4. Report the training time in seconds\n",
    "    5. Report the results for evaluation (R2 Score, Root Mean Squared Error(RMSE), Mean Absolute Error(MAE))\n",
    "    6. Plot the scatter plot for the validation prediction and best fit line\n",
    "    7. Plot the loss curve for the model training procedure\n",
    "    8. Return history of model fitting\n",
    "    \n",
    "    Input:\n",
    "    X_tr: train dataset for features (X)\n",
    "    y_tr: train dataset for target variable (y)\n",
    "    X_v: validation dataset for features (X)\n",
    "    y_v: validation dataset for target variable (y)  \n",
    "    epoch: integer for epochs\n",
    "    batch: integer for batch size\n",
    "    \n",
    "    Output:\n",
    "    Training time: seconds\n",
    "    Result Report: R2 score, RMSE, MAE\n",
    "    Scatter Plot\n",
    "    Loss Plot\n",
    "    history: record of model fitting process \n",
    "    \n",
    "    '''\n",
    "    # Create Sequential model \n",
    "    # Each layer will have LeakyReLU as activation and BatchNormalization\n",
    "    model = Sequential()\n",
    "    \n",
    "    # Input Layer \n",
    "    # Input Shape = (16, ) since X_train has 16 columns\n",
    "    model.add(Dense(256, input_shape = (16,)))\n",
    "    model.add(LeakyReLU(alpha=0.05))\n",
    "    model.add(BatchNormalization())\n",
    "    model.add(Dropout(0.1))\n",
    "    \n",
    "    # 5 Hidden Layers\n",
    "    model.add(Dense(1024))\n",
    "    model.add(LeakyReLU(alpha=0.05))\n",
    "    model.add(BatchNormalization())\n",
    "    model.add(Dropout(0.1))\n",
    "    \n",
    "    model.add(Dense(512))\n",
    "    model.add(LeakyReLU(alpha=0.05))\n",
    "    model.add(BatchNormalization())\n",
    "    model.add(Dropout(0.1))\n",
    "    \n",
    "    model.add(Dense(256))\n",
    "    model.add(LeakyReLU(alpha=0.05))\n",
    "    model.add(BatchNormalization())\n",
    "    model.add(Dropout(0.1))\n",
    "    \n",
    "    model.add(Dense(128))\n",
    "    model.add(LeakyReLU(alpha=0.05))\n",
    "    model.add(BatchNormalization())\n",
    "    model.add(Dropout(0.1))\n",
    "    \n",
    "    model.add(Dense(64))\n",
    "    model.add(LeakyReLU(alpha=0.05))\n",
    "    model.add(BatchNormalization())\n",
    "    model.add(Dropout(0.1))    \n",
    "    \n",
    "    # Output layer\n",
    "    # Activation = 'linear' since this is a linear regression\n",
    "    model.add(Dense(1,activation='linear'))\n",
    "\n",
    "    # Compile the model\n",
    "    model.compile(loss='mean_squared_error',optimizer= Adam(1e-4), metrics=['mae'])\n",
    "    \n",
    "    # Record the fitting start time\n",
    "    start = time.time()\n",
    "    \n",
    "    # Fit model\n",
    "    history = model.fit(X_tr, y_tr, \n",
    "                        validation_data=(X_v, y_v), \n",
    "                        epochs = epoch, \n",
    "                        batch_size = batch)\n",
    "    \n",
    "    # Record the fitting end time\n",
    "    stop = time.time()\n",
    "    \n",
    "    # Return Training time in seconds\n",
    "    print(f\"Training time: {stop - start}s\")\n",
    "    \n",
    "    # Prediction based on the fitted model \n",
    "    tr_pred = model.predict(X_tr)\n",
    "    val_pred = model.predict(X_v)\n",
    "    \n",
    "    # Report Results (R2, RMSE, MAE) \n",
    "    print('Result Report')\n",
    "    print('')\n",
    "    print(f'Train R2 Score: {r2_score(y_tr, tr_pred)}')\n",
    "    print(f'Validation R2 Score: {r2_score(y_v, val_pred)}')\n",
    "    print('')\n",
    "    print(f'Train RMSE: {mean_squared_error(y_tr, tr_pred, squared = False)}')\n",
    "    print(f'Validation RMSE: {mean_squared_error(y_v, val_pred, squared = False)}')\n",
    "    print('')\n",
    "    print(f'Train MAE: {mean_absolute_error(y_tr, tr_pred)}')\n",
    "    print(f'Validation MAE: {mean_absolute_error(y_v, val_pred)}')\n",
    "    print('')\n",
    "    \n",
    "    # Plot the fitted line and the prediction\n",
    "    print('Prediction')\n",
    "    plt.scatter(y_v,val_pred)\n",
    "    plt.plot(y_v, y_v, c=\"Red\")\n",
    "    plt.xlabel('true value')\n",
    "    plt.ylabel('prediction')\n",
    "    plt.show()\n",
    "    print('')\n",
    "    \n",
    "    # Plot the loss curve \n",
    "    print('Loss')\n",
    "    plt.plot(history.history['loss'])\n",
    "    plt.plot(history.history['val_loss'])\n",
    "    plt.ylabel('Loss')\n",
    "    plt.xlabel('Epoch')\n",
    "    _= plt.legend(['Train','Validation'], loc='upper left')\n",
    "    plt.show()\n",
    "    \n",
    "    # Return history of  the fitted model\n",
    "    return history"
   ]
  },
  {
   "cell_type": "code",
   "execution_count": 10,
   "metadata": {},
   "outputs": [],
   "source": [
    "def fit_eval_final(X_tr, y_tr, X_v, y_v, epoch, batch):\n",
    "    '''\n",
    "    This function:\n",
    "    1. Creates the sequential keras model with multiple layers\n",
    "    2. Compile and fit the model\n",
    "    3. Make prediction based on the fitted model\n",
    "    4. Report the training time in seconds\n",
    "    5. Report the results for evaluation (R2 Score, Root Mean Squared Error(RMSE), Mean Absolute Error(MAE))\n",
    "    6. Plot the scatter plot for the validation prediction and best fit line\n",
    "    7. Plot the loss curve for the model training procedure\n",
    "    8. Return history of model fitting and the fitted model\n",
    "    \n",
    "    Input:\n",
    "    X_tr: train dataset for features (X)\n",
    "    y_tr: train dataset for target variable (y)\n",
    "    X_v: validation dataset for features (X)\n",
    "    y_v: validation dataset for target variable (y)  \n",
    "    epoch: integer for epochs\n",
    "    batch: integer for batch size\n",
    "    \n",
    "    Output:\n",
    "    Training time: seconds\n",
    "    Result Report: R2 score, RMSE, MAE\n",
    "    Scatter Plot\n",
    "    Loss Plot\n",
    "    history: record of model fitting process \n",
    "    model: fitted model\n",
    "    \n",
    "    '''\n",
    "    # Create Sequential model \n",
    "    # Each layer will have LeakyReLU as activation and BatchNormalization\n",
    "    model = Sequential()\n",
    "    \n",
    "    # Input Layer \n",
    "    # Input Shape = (16, ) since X_train has 16 columns\n",
    "    model.add(Dense(256, input_shape = (16,)))\n",
    "    model.add(LeakyReLU(alpha=0.05))\n",
    "    model.add(BatchNormalization())\n",
    "    model.add(Dropout(0.1))\n",
    "    \n",
    "    # 7 Hidden Layers\n",
    "    model.add(Dense(512))\n",
    "    model.add(LeakyReLU(alpha=0.05))\n",
    "    model.add(BatchNormalization())\n",
    "    model.add(Dropout(0.1))\n",
    "    \n",
    "    model.add(Dense(1024))\n",
    "    model.add(LeakyReLU(alpha=0.05))\n",
    "    model.add(BatchNormalization())\n",
    "    model.add(Dropout(0.1))\n",
    "    \n",
    "    model.add(Dense(512))\n",
    "    model.add(LeakyReLU(alpha=0.05))\n",
    "    model.add(BatchNormalization())\n",
    "    model.add(Dropout(0.1))\n",
    "    \n",
    "    model.add(Dense(256))\n",
    "    model.add(LeakyReLU(alpha=0.05))\n",
    "    model.add(BatchNormalization())\n",
    "    model.add(Dropout(0.1))\n",
    "    \n",
    "    model.add(Dense(128))\n",
    "    model.add(LeakyReLU(alpha=0.05))\n",
    "    model.add(BatchNormalization())\n",
    "    model.add(Dropout(0.1))\n",
    "    \n",
    "    model.add(Dense(64))\n",
    "    model.add(LeakyReLU(alpha=0.05))\n",
    "    model.add(BatchNormalization())\n",
    "    model.add(Dropout(0.1))    \n",
    "\n",
    "    model.add(Dense(32))\n",
    "    model.add(LeakyReLU(alpha=0.05))\n",
    "    model.add(BatchNormalization())\n",
    "    model.add(Dropout(0.1))  \n",
    "    \n",
    "    # Output layer\n",
    "    # Activation = 'linear' since this is a linear regression\n",
    "    model.add(Dense(1,activation='linear'))\n",
    "\n",
    "    # Compile the model\n",
    "    model.compile(loss='mean_squared_error',optimizer= Adam(1e-4), metrics=['mae'])\n",
    "    \n",
    "    # Define Earlystopping\n",
    "    stop =  EarlyStopping(monitor = 'val_loss', verbose = 1, mode = 'min', patience = 3)\n",
    "    \n",
    "    # Record the fitting start time\n",
    "    start = time.time()\n",
    "    \n",
    "    # Fit model\n",
    "    history = model.fit(X_tr, y_tr, \n",
    "                        validation_data=(X_v, y_v), \n",
    "                        epochs = epoch, \n",
    "                        batch_size = batch,\n",
    "                       callbacks = [stop])\n",
    "    \n",
    "    # Record the fitting end time\n",
    "    stop = time.time()\n",
    "    \n",
    "    # Return Training time in seconds\n",
    "    print(f\"Training time: {stop - start}s\")\n",
    "    \n",
    "    # Prediction based on the fitted model \n",
    "    tr_pred = model.predict(X_tr)\n",
    "    val_pred = model.predict(X_v)\n",
    "    \n",
    "    # Report Results (R2, RMSE, MAE) \n",
    "    print('Result Report')\n",
    "    print('')\n",
    "    print(f'Train R2 Score: {r2_score(y_tr, tr_pred)}')\n",
    "    print(f'Validation R2 Score: {r2_score(y_v, val_pred)}')\n",
    "    print('')\n",
    "    print(f'Train RMSE: {mean_squared_error(y_tr, tr_pred, squared = False)}')\n",
    "    print(f'Validation RMSE: {mean_squared_error(y_v, val_pred, squared = False)}')\n",
    "    print('')\n",
    "    print(f'Train MAE: {mean_absolute_error(y_tr, tr_pred)}')\n",
    "    print(f'Validation MAE: {mean_absolute_error(y_v, val_pred)}')\n",
    "    print('')\n",
    "    \n",
    "    # Plot the fitted line and the prediction\n",
    "    print('Prediction')\n",
    "    plt.scatter(y_v,val_pred)\n",
    "    plt.plot(y_v, y_v, c=\"Red\")\n",
    "    plt.xlabel('true value')\n",
    "    plt.ylabel('prediction')\n",
    "    plt.show()\n",
    "    print('')\n",
    "    \n",
    "    # Plot the loss curve \n",
    "    print('Loss')\n",
    "    plt.plot(history.history['loss'])\n",
    "    plt.plot(history.history['val_loss'])\n",
    "    plt.ylabel('Loss')\n",
    "    plt.xlabel('Epoch')\n",
    "    _= plt.legend(['Train','Validation'], loc='upper left')\n",
    "    plt.show()\n",
    "    \n",
    "    # Return history of  the fitted model\n",
    "    return history, model"
   ]
  },
  {
   "cell_type": "markdown",
   "metadata": {},
   "source": [
    "### 3.1 Load Dataset"
   ]
  },
  {
   "cell_type": "markdown",
   "metadata": {},
   "source": [
    "The goal of the project is to predict the scalar coupling constant of the molecule by its structure. Therefore, we will use the train.csv and structures.csv. Let's load those two files as data frames and check the contents."
   ]
  },
  {
   "cell_type": "code",
   "execution_count": 11,
   "metadata": {},
   "outputs": [],
   "source": [
    "# Import the data: train set and structures\n",
    "train_df = pd.read_csv('Data/train.csv')\n",
    "structures_df = pd.read_csv('Data/structures.csv')"
   ]
  },
  {
   "cell_type": "code",
   "execution_count": 12,
   "metadata": {
    "scrolled": false
   },
   "outputs": [
    {
     "name": "stdout",
     "output_type": "stream",
     "text": [
      "Data Shape\n",
      "(4659076, 6)\n",
      "\n",
      "Number of Unique Entries\n",
      "id                          4659076\n",
      "molecule_name                 85012\n",
      "atom_index_0                     28\n",
      "atom_index_1                     29\n",
      "type                              8\n",
      "scalar_coupling_constant    2183446\n",
      "dtype: int64\n",
      "\n",
      "List of Columns\n",
      "Index(['id', 'molecule_name', 'atom_index_0', 'atom_index_1', 'type',\n",
      "       'scalar_coupling_constant'],\n",
      "      dtype='object')\n"
     ]
    },
    {
     "data": {
      "text/html": [
       "<div>\n",
       "<style scoped>\n",
       "    .dataframe tbody tr th:only-of-type {\n",
       "        vertical-align: middle;\n",
       "    }\n",
       "\n",
       "    .dataframe tbody tr th {\n",
       "        vertical-align: top;\n",
       "    }\n",
       "\n",
       "    .dataframe thead th {\n",
       "        text-align: right;\n",
       "    }\n",
       "</style>\n",
       "<table border=\"1\" class=\"dataframe\">\n",
       "  <thead>\n",
       "    <tr style=\"text-align: right;\">\n",
       "      <th></th>\n",
       "      <th>id</th>\n",
       "      <th>molecule_name</th>\n",
       "      <th>atom_index_0</th>\n",
       "      <th>atom_index_1</th>\n",
       "      <th>type</th>\n",
       "      <th>scalar_coupling_constant</th>\n",
       "    </tr>\n",
       "  </thead>\n",
       "  <tbody>\n",
       "    <tr>\n",
       "      <th>0</th>\n",
       "      <td>0</td>\n",
       "      <td>dsgdb9nsd_000001</td>\n",
       "      <td>1</td>\n",
       "      <td>0</td>\n",
       "      <td>1JHC</td>\n",
       "      <td>84.8076</td>\n",
       "    </tr>\n",
       "    <tr>\n",
       "      <th>1</th>\n",
       "      <td>1</td>\n",
       "      <td>dsgdb9nsd_000001</td>\n",
       "      <td>1</td>\n",
       "      <td>2</td>\n",
       "      <td>2JHH</td>\n",
       "      <td>-11.2570</td>\n",
       "    </tr>\n",
       "    <tr>\n",
       "      <th>2</th>\n",
       "      <td>2</td>\n",
       "      <td>dsgdb9nsd_000001</td>\n",
       "      <td>1</td>\n",
       "      <td>3</td>\n",
       "      <td>2JHH</td>\n",
       "      <td>-11.2548</td>\n",
       "    </tr>\n",
       "    <tr>\n",
       "      <th>3</th>\n",
       "      <td>3</td>\n",
       "      <td>dsgdb9nsd_000001</td>\n",
       "      <td>1</td>\n",
       "      <td>4</td>\n",
       "      <td>2JHH</td>\n",
       "      <td>-11.2543</td>\n",
       "    </tr>\n",
       "    <tr>\n",
       "      <th>4</th>\n",
       "      <td>4</td>\n",
       "      <td>dsgdb9nsd_000001</td>\n",
       "      <td>2</td>\n",
       "      <td>0</td>\n",
       "      <td>1JHC</td>\n",
       "      <td>84.8074</td>\n",
       "    </tr>\n",
       "  </tbody>\n",
       "</table>\n",
       "</div>"
      ],
      "text/plain": [
       "   id     molecule_name  atom_index_0  atom_index_1  type  \\\n",
       "0   0  dsgdb9nsd_000001             1             0  1JHC   \n",
       "1   1  dsgdb9nsd_000001             1             2  2JHH   \n",
       "2   2  dsgdb9nsd_000001             1             3  2JHH   \n",
       "3   3  dsgdb9nsd_000001             1             4  2JHH   \n",
       "4   4  dsgdb9nsd_000001             2             0  1JHC   \n",
       "\n",
       "   scalar_coupling_constant  \n",
       "0                   84.8076  \n",
       "1                  -11.2570  \n",
       "2                  -11.2548  \n",
       "3                  -11.2543  \n",
       "4                   84.8074  "
      ]
     },
     "execution_count": 12,
     "metadata": {},
     "output_type": "execute_result"
    }
   ],
   "source": [
    "# Observe traindf\n",
    "print('Data Shape')\n",
    "print(train_df.shape)\n",
    "print('')\n",
    "print('Number of Unique Entries')\n",
    "print(train_df.nunique())\n",
    "print('')\n",
    "print('List of Columns')\n",
    "print(train_df.columns)\n",
    "train_df.head()"
   ]
  },
  {
   "cell_type": "code",
   "execution_count": 13,
   "metadata": {},
   "outputs": [
    {
     "name": "stdout",
     "output_type": "stream",
     "text": [
      "Data Shape\n",
      "(2358875, 6)\n",
      "\n",
      "Number of Unique Entries\n",
      "molecule_name     130789\n",
      "atom_index            29\n",
      "atom                   5\n",
      "x                2358802\n",
      "y                2358808\n",
      "z                2358792\n",
      "dtype: int64\n",
      "\n",
      "List of Columns\n",
      "Index(['molecule_name', 'atom_index', 'atom', 'x', 'y', 'z'], dtype='object')\n"
     ]
    },
    {
     "data": {
      "text/html": [
       "<div>\n",
       "<style scoped>\n",
       "    .dataframe tbody tr th:only-of-type {\n",
       "        vertical-align: middle;\n",
       "    }\n",
       "\n",
       "    .dataframe tbody tr th {\n",
       "        vertical-align: top;\n",
       "    }\n",
       "\n",
       "    .dataframe thead th {\n",
       "        text-align: right;\n",
       "    }\n",
       "</style>\n",
       "<table border=\"1\" class=\"dataframe\">\n",
       "  <thead>\n",
       "    <tr style=\"text-align: right;\">\n",
       "      <th></th>\n",
       "      <th>molecule_name</th>\n",
       "      <th>atom_index</th>\n",
       "      <th>atom</th>\n",
       "      <th>x</th>\n",
       "      <th>y</th>\n",
       "      <th>z</th>\n",
       "    </tr>\n",
       "  </thead>\n",
       "  <tbody>\n",
       "    <tr>\n",
       "      <th>0</th>\n",
       "      <td>dsgdb9nsd_000001</td>\n",
       "      <td>0</td>\n",
       "      <td>C</td>\n",
       "      <td>-0.012698</td>\n",
       "      <td>1.085804</td>\n",
       "      <td>0.008001</td>\n",
       "    </tr>\n",
       "    <tr>\n",
       "      <th>1</th>\n",
       "      <td>dsgdb9nsd_000001</td>\n",
       "      <td>1</td>\n",
       "      <td>H</td>\n",
       "      <td>0.002150</td>\n",
       "      <td>-0.006031</td>\n",
       "      <td>0.001976</td>\n",
       "    </tr>\n",
       "    <tr>\n",
       "      <th>2</th>\n",
       "      <td>dsgdb9nsd_000001</td>\n",
       "      <td>2</td>\n",
       "      <td>H</td>\n",
       "      <td>1.011731</td>\n",
       "      <td>1.463751</td>\n",
       "      <td>0.000277</td>\n",
       "    </tr>\n",
       "    <tr>\n",
       "      <th>3</th>\n",
       "      <td>dsgdb9nsd_000001</td>\n",
       "      <td>3</td>\n",
       "      <td>H</td>\n",
       "      <td>-0.540815</td>\n",
       "      <td>1.447527</td>\n",
       "      <td>-0.876644</td>\n",
       "    </tr>\n",
       "    <tr>\n",
       "      <th>4</th>\n",
       "      <td>dsgdb9nsd_000001</td>\n",
       "      <td>4</td>\n",
       "      <td>H</td>\n",
       "      <td>-0.523814</td>\n",
       "      <td>1.437933</td>\n",
       "      <td>0.906397</td>\n",
       "    </tr>\n",
       "  </tbody>\n",
       "</table>\n",
       "</div>"
      ],
      "text/plain": [
       "      molecule_name  atom_index atom         x         y         z\n",
       "0  dsgdb9nsd_000001           0    C -0.012698  1.085804  0.008001\n",
       "1  dsgdb9nsd_000001           1    H  0.002150 -0.006031  0.001976\n",
       "2  dsgdb9nsd_000001           2    H  1.011731  1.463751  0.000277\n",
       "3  dsgdb9nsd_000001           3    H -0.540815  1.447527 -0.876644\n",
       "4  dsgdb9nsd_000001           4    H -0.523814  1.437933  0.906397"
      ]
     },
     "execution_count": 13,
     "metadata": {},
     "output_type": "execute_result"
    }
   ],
   "source": [
    "# Observe structures_df\n",
    "print('Data Shape')\n",
    "print(structures_df.shape)\n",
    "print('')\n",
    "print('Number of Unique Entries')\n",
    "print(structures_df.nunique())\n",
    "print('')\n",
    "print('List of Columns')\n",
    "print(structures_df.columns)\n",
    "structures_df.head()"
   ]
  },
  {
   "cell_type": "markdown",
   "metadata": {},
   "source": [
    "There are two atom_indexes in train_df while only one exists in structures_df. It seems like the type of atom, and 3-Dimensional position information varies based on the atom_index."
   ]
  },
  {
   "cell_type": "markdown",
   "metadata": {},
   "source": [
    "### 3.2 Exploratory Data Analysis (EDA)"
   ]
  },
  {
   "cell_type": "markdown",
   "metadata": {},
   "source": [
    "We will check the distribution of the features in this section."
   ]
  },
  {
   "cell_type": "markdown",
   "metadata": {},
   "source": [
    "#### Scalar Coupling Constant (Target)"
   ]
  },
  {
   "cell_type": "code",
   "execution_count": 41,
   "metadata": {
    "scrolled": true
   },
   "outputs": [
    {
     "data": {
      "image/png": "[encoded data removed]",
      "text/plain": [
       "<Figure size 864x360 with 1 Axes>"
      ]
     },
     "metadata": {
      "needs_background": "light"
     },
     "output_type": "display_data"
    }
   ],
   "source": [
    "# Check the Distribution of Target Variable\n",
    "fig, ax = plt.subplots(figsize=(12,5))\n",
    "\n",
    "# Plot histogram of scalar_coupling_constant\n",
    "ax.hist(train_df['scalar_coupling_constant'])\n",
    "\n",
    "# set titles and axis labels\n",
    "ax.set_title('Target Distribution')\n",
    "ax.set_xlabel('Coupling Value')\n",
    "ax.set_ylabel('Counts')\n",
    "\n",
    "# save figure\n",
    "fig.savefig('Image/Target_Distribution')"
   ]
  },
  {
   "cell_type": "markdown",
   "metadata": {},
   "source": [
    "Target variable distributes from -50 to 250. It is imbalanced: Most of the variables are concentrated between -50 to 50. This target variable seems to have right-skewed distribution."
   ]
  },
  {
   "cell_type": "markdown",
   "metadata": {},
   "source": [
    "Since the target variable is not normally distributed, we will try cubic root transformation of the target variable.\n",
    "\n",
    "Logistic transformation and square root transformation are also good options in handling the skewed distribution. However, since the logarithm and the square root are only defined for positive numbers, you can't take the logarithm of negative values. This means logistic transformation cannot be applied to our target variable, which contains negative values."
   ]
  },
  {
   "cell_type": "code",
   "execution_count": 42,
   "metadata": {},
   "outputs": [
    {
     "data": {
      "image/png": "[encoded data removed]",
      "text/plain": [
       "<Figure size 864x360 with 1 Axes>"
      ]
     },
     "metadata": {
      "needs_background": "light"
     },
     "output_type": "display_data"
    }
   ],
   "source": [
    "# Create a figure\n",
    "fig, ax = plt.subplots(figsize=(12,5))\n",
    "\n",
    "# Plot histogram of cubic root transformed scalar_coupling_constant\n",
    "ax.hist(np.cbrt(train_df['scalar_coupling_constant']))\n",
    "\n",
    "# set titles and axis labels\n",
    "ax.set_title('Cubic Root Transformed Target Distribution')\n",
    "ax.set_xlabel('Coupling Value')\n",
    "ax.set_ylabel('Counts')\n",
    "\n",
    "# save figure\n",
    "fig.savefig('Image/Normalized_Target_Distribution')"
   ]
  },
  {
   "cell_type": "markdown",
   "metadata": {},
   "source": [
    "The cubic root transformation seems to express good performance in normalizing the data. Now the data is more normally distributed between -4 and 6."
   ]
  },
  {
   "cell_type": "markdown",
   "metadata": {},
   "source": [
    "#### Types of Coupling"
   ]
  },
  {
   "cell_type": "markdown",
   "metadata": {},
   "source": [
    "There are multiple types of couplings in the chemical field. Let's check how many types of coupling are listed in the dataset."
   ]
  },
  {
   "cell_type": "code",
   "execution_count": 43,
   "metadata": {
    "scrolled": true
   },
   "outputs": [
    {
     "data": {
      "image/png": "[encoded data removed]",
      "text/plain": [
       "<Figure size 864x360 with 1 Axes>"
      ]
     },
     "metadata": {
      "needs_background": "light"
     },
     "output_type": "display_data"
    }
   ],
   "source": [
    "# Check the type\n",
    "fig, ax = plt.subplots(figsize=(12,5))\n",
    "\n",
    "# plot the counts of values for each coupling type\n",
    "ax = sns.countplot(x='type', data=train_df)\n",
    "\n",
    "# set titles and axis labels\n",
    "ax.set_title('Coupling Type Distribution')\n",
    "ax.set_xlabel('Bonds')\n",
    "ax.set_ylabel('Counts')\n",
    "\n",
    "# save figure\n",
    "fig.savefig('Image/Coupling_types')"
   ]
  },
  {
   "cell_type": "markdown",
   "metadata": {},
   "source": [
    "There is a total of 8 different bonds types. The different bond types also represent the different interactions between the atoms, which is crucial in predicting scalar coupling constant."
   ]
  },
  {
   "cell_type": "markdown",
   "metadata": {},
   "source": [
    "We will also try to divide our target variable distribution by its type."
   ]
  },
  {
   "cell_type": "code",
   "execution_count": 44,
   "metadata": {},
   "outputs": [
    {
     "data": {
      "image/png": "[encoded data removed]",
      "text/plain": [
       "<Figure size 1080x576 with 1 Axes>"
      ]
     },
     "metadata": {
      "needs_background": "light"
     },
     "output_type": "display_data"
    }
   ],
   "source": [
    "# Check the constant distribution by type\n",
    "fig, ax = plt.subplots(figsize=(15,8))\n",
    "ax = sns.histplot(data=train_df, x=train_df['scalar_coupling_constant'], hue=\"type\", multiple=\"stack\")\n",
    "\n",
    "# set titles and axis labels\n",
    "ax.set_title('Target Distribution by type')\n",
    "ax.set_xlabel('Coupling Value')\n",
    "ax.set_ylabel('Counts')\n",
    "\n",
    "# save figure\n",
    "fig.savefig('Image/Target_Type_Distribution')"
   ]
  },
  {
   "cell_type": "code",
   "execution_count": 28,
   "metadata": {},
   "outputs": [
    {
     "data": {
      "image/png": "[encoded data removed]",
      "text/plain": [
       "<Figure size 1080x576 with 1 Axes>"
      ]
     },
     "metadata": {
      "needs_background": "light"
     },
     "output_type": "display_data"
    }
   ],
   "source": [
    "# Check the constant distribution by type\n",
    "fig, ax = plt.subplots(figsize=(15,8))\n",
    "ax = sns.histplot(data=train_df, x=np.cbrt(train_df['scalar_coupling_constant']), hue=\"type\", multiple=\"stack\")\n",
    "\n",
    "# set titles and axis labels\n",
    "ax.set_title('Cubic Root Transformed Target Distribution by type')\n",
    "ax.set_xlabel('Coupling Value')\n",
    "ax.set_ylabel('Counts')\n",
    "\n",
    "# save figure\n",
    "fig.savefig('Image/Normalized_Target_Type_Distribution')"
   ]
  },
  {
   "cell_type": "markdown",
   "metadata": {},
   "source": [
    "We can see that many of the types are showing similar coupling_constant of around -2 to 2. Out of all types, 1JHC, 1JHN, 2JHH clearly has their own range of target variable. We can expect that those types will be relatively easier to predict when they are divided into subset."
   ]
  },
  {
   "cell_type": "markdown",
   "metadata": {},
   "source": [
    "#### Atom Index"
   ]
  },
  {
   "cell_type": "markdown",
   "metadata": {},
   "source": [
    "In this section, we will see what is the atom_indexes columns in train_df and structures_df."
   ]
  },
  {
   "cell_type": "code",
   "execution_count": 255,
   "metadata": {},
   "outputs": [
    {
     "data": {
      "image/png": "[encoded data removed]",
      "text/plain": [
       "<Figure size 864x360 with 1 Axes>"
      ]
     },
     "metadata": {
      "needs_background": "light"
     },
     "output_type": "display_data"
    }
   ],
   "source": [
    "# Instantiate the figure\n",
    "fig, ax = plt.subplots(figsize=(12,5))\n",
    "\n",
    "# plot the counts of values for atom_index_0\n",
    "ax = sns.countplot(x='atom_index_0', data=train_df, color = 'blue')\n",
    "\n",
    "# set titles and axis labels\n",
    "ax.set_title('Index_0 Distribution')\n",
    "ax.set_xlabel('Index_0')\n",
    "ax.set_ylabel('Counts')\n",
    "\n",
    "# save figure\n",
    "fig.savefig('Image/Atom_Index_0_Distribution')"
   ]
  },
  {
   "cell_type": "code",
   "execution_count": 256,
   "metadata": {
    "scrolled": true
   },
   "outputs": [
    {
     "data": {
      "image/png": "[encoded data removed]",
      "text/plain": [
       "<Figure size 864x360 with 1 Axes>"
      ]
     },
     "metadata": {
      "needs_background": "light"
     },
     "output_type": "display_data"
    }
   ],
   "source": [
    "# Instantiate the figure\n",
    "fig, ax = plt.subplots(figsize=(12,5))\n",
    "\n",
    "# plot the counts of values for atom_index_1\n",
    "ax = sns.countplot(x='atom_index_1', data=train_df, color = 'orange')\n",
    "\n",
    "# set titles and axis labels\n",
    "ax.set_title('Index_1 Distribution')\n",
    "ax.set_xlabel('Index_1')\n",
    "ax.set_ylabel('Counts')\n",
    "\n",
    "# save figure\n",
    "fig.savefig('Image/Atom_Index_1_Distribution')"
   ]
  },
  {
   "cell_type": "markdown",
   "metadata": {},
   "source": [
    "We can see that the Index_0 has its highest count between 9 and 17~18, while Index_1 has its highest count between 0 and 8. Although it is skewed, this is a categorical column rather than a numerical column. Therefore, normalization is not needed. "
   ]
  },
  {
   "cell_type": "code",
   "execution_count": 257,
   "metadata": {},
   "outputs": [
    {
     "data": {
      "image/png": "[encoded data removed]",
      "text/plain": [
       "<Figure size 864x360 with 1 Axes>"
      ]
     },
     "metadata": {
      "needs_background": "light"
     },
     "output_type": "display_data"
    }
   ],
   "source": [
    "# Instantiate the figure\n",
    "fig, ax = plt.subplots(figsize=(12,5))\n",
    "\n",
    "# plot the counts of values for atom_index in structures_df\n",
    "ax = sns.countplot(x='atom_index', data=structures_df, color = 'green')\n",
    "\n",
    "# set titles and axis labels\n",
    "ax.set_title('Index Distribution in structures')\n",
    "ax.set_xlabel('Index')\n",
    "ax.set_ylabel('Counts')\n",
    "\n",
    "# save figure\n",
    "fig.savefig('Image/Structures_Atom_Index_Distribution')"
   ]
  },
  {
   "cell_type": "markdown",
   "metadata": {},
   "source": [
    "In structures_df, atom_index has the highest count between 0 and 10 and slowly reduces after 10."
   ]
  },
  {
   "cell_type": "markdown",
   "metadata": {},
   "source": [
    "All three columns share the same range of atom indexes. Therefore, the atom index will be a crucial column when merging the train_df and structures_df."
   ]
  },
  {
   "cell_type": "markdown",
   "metadata": {},
   "source": [
    "## 4. Data Preparation"
   ]
  },
  {
   "cell_type": "markdown",
   "metadata": {},
   "source": [
    "In this section, we will:\n",
    "- Merge train_df and structures_df\n",
    "- Create new features, such as distance and angle of the bond\n",
    "- Normalize the target variable\n",
    "- Check the multicollinearity of each column\n",
    "- Split the dataset into train, test, and validation set\n",
    "- Perform preprocessing"
   ]
  },
  {
   "cell_type": "markdown",
   "metadata": {},
   "source": [
    "### 4.1 Merge Train and Structure"
   ]
  },
  {
   "cell_type": "markdown",
   "metadata": {},
   "source": [
    "This merging technique has been sourced from: https://www.kaggle.com/inversion/atomic-distance-benchmark.\n",
    "\n",
    "As we can see from EDA for the atom_index, train_df has two atom_index columns, while the structures_df has only one. This is because train_df contains the information on the bond between two atoms, and structures_df contains the 3-D position information of one atom inside the molecule. Therefore, the merging process has to be done twice, once for each atom in the bond. Since the same preprocess is being used twice, we will create a function to speed up the process."
   ]
  },
  {
   "cell_type": "code",
   "execution_count": 14,
   "metadata": {},
   "outputs": [
    {
     "data": {
      "text/html": [
       "<div>\n",
       "<style scoped>\n",
       "    .dataframe tbody tr th:only-of-type {\n",
       "        vertical-align: middle;\n",
       "    }\n",
       "\n",
       "    .dataframe tbody tr th {\n",
       "        vertical-align: top;\n",
       "    }\n",
       "\n",
       "    .dataframe thead th {\n",
       "        text-align: right;\n",
       "    }\n",
       "</style>\n",
       "<table border=\"1\" class=\"dataframe\">\n",
       "  <thead>\n",
       "    <tr style=\"text-align: right;\">\n",
       "      <th></th>\n",
       "      <th>id</th>\n",
       "      <th>molecule_name</th>\n",
       "      <th>atom_index_0</th>\n",
       "      <th>atom_index_1</th>\n",
       "      <th>type</th>\n",
       "      <th>scalar_coupling_constant</th>\n",
       "      <th>atom_0</th>\n",
       "      <th>x_0</th>\n",
       "      <th>y_0</th>\n",
       "      <th>z_0</th>\n",
       "      <th>atom_1</th>\n",
       "      <th>x_1</th>\n",
       "      <th>y_1</th>\n",
       "      <th>z_1</th>\n",
       "    </tr>\n",
       "  </thead>\n",
       "  <tbody>\n",
       "    <tr>\n",
       "      <th>0</th>\n",
       "      <td>0</td>\n",
       "      <td>dsgdb9nsd_000001</td>\n",
       "      <td>1</td>\n",
       "      <td>0</td>\n",
       "      <td>1JHC</td>\n",
       "      <td>84.8076</td>\n",
       "      <td>H</td>\n",
       "      <td>0.002150</td>\n",
       "      <td>-0.006031</td>\n",
       "      <td>0.001976</td>\n",
       "      <td>C</td>\n",
       "      <td>-0.012698</td>\n",
       "      <td>1.085804</td>\n",
       "      <td>0.008001</td>\n",
       "    </tr>\n",
       "    <tr>\n",
       "      <th>1</th>\n",
       "      <td>1</td>\n",
       "      <td>dsgdb9nsd_000001</td>\n",
       "      <td>1</td>\n",
       "      <td>2</td>\n",
       "      <td>2JHH</td>\n",
       "      <td>-11.2570</td>\n",
       "      <td>H</td>\n",
       "      <td>0.002150</td>\n",
       "      <td>-0.006031</td>\n",
       "      <td>0.001976</td>\n",
       "      <td>H</td>\n",
       "      <td>1.011731</td>\n",
       "      <td>1.463751</td>\n",
       "      <td>0.000277</td>\n",
       "    </tr>\n",
       "    <tr>\n",
       "      <th>2</th>\n",
       "      <td>2</td>\n",
       "      <td>dsgdb9nsd_000001</td>\n",
       "      <td>1</td>\n",
       "      <td>3</td>\n",
       "      <td>2JHH</td>\n",
       "      <td>-11.2548</td>\n",
       "      <td>H</td>\n",
       "      <td>0.002150</td>\n",
       "      <td>-0.006031</td>\n",
       "      <td>0.001976</td>\n",
       "      <td>H</td>\n",
       "      <td>-0.540815</td>\n",
       "      <td>1.447527</td>\n",
       "      <td>-0.876644</td>\n",
       "    </tr>\n",
       "    <tr>\n",
       "      <th>3</th>\n",
       "      <td>3</td>\n",
       "      <td>dsgdb9nsd_000001</td>\n",
       "      <td>1</td>\n",
       "      <td>4</td>\n",
       "      <td>2JHH</td>\n",
       "      <td>-11.2543</td>\n",
       "      <td>H</td>\n",
       "      <td>0.002150</td>\n",
       "      <td>-0.006031</td>\n",
       "      <td>0.001976</td>\n",
       "      <td>H</td>\n",
       "      <td>-0.523814</td>\n",
       "      <td>1.437933</td>\n",
       "      <td>0.906397</td>\n",
       "    </tr>\n",
       "    <tr>\n",
       "      <th>4</th>\n",
       "      <td>4</td>\n",
       "      <td>dsgdb9nsd_000001</td>\n",
       "      <td>2</td>\n",
       "      <td>0</td>\n",
       "      <td>1JHC</td>\n",
       "      <td>84.8074</td>\n",
       "      <td>H</td>\n",
       "      <td>1.011731</td>\n",
       "      <td>1.463751</td>\n",
       "      <td>0.000277</td>\n",
       "      <td>C</td>\n",
       "      <td>-0.012698</td>\n",
       "      <td>1.085804</td>\n",
       "      <td>0.008001</td>\n",
       "    </tr>\n",
       "  </tbody>\n",
       "</table>\n",
       "</div>"
      ],
      "text/plain": [
       "   id     molecule_name  atom_index_0  atom_index_1  type  \\\n",
       "0   0  dsgdb9nsd_000001             1             0  1JHC   \n",
       "1   1  dsgdb9nsd_000001             1             2  2JHH   \n",
       "2   2  dsgdb9nsd_000001             1             3  2JHH   \n",
       "3   3  dsgdb9nsd_000001             1             4  2JHH   \n",
       "4   4  dsgdb9nsd_000001             2             0  1JHC   \n",
       "\n",
       "   scalar_coupling_constant atom_0       x_0       y_0       z_0 atom_1  \\\n",
       "0                   84.8076      H  0.002150 -0.006031  0.001976      C   \n",
       "1                  -11.2570      H  0.002150 -0.006031  0.001976      H   \n",
       "2                  -11.2548      H  0.002150 -0.006031  0.001976      H   \n",
       "3                  -11.2543      H  0.002150 -0.006031  0.001976      H   \n",
       "4                   84.8074      H  1.011731  1.463751  0.000277      C   \n",
       "\n",
       "        x_1       y_1       z_1  \n",
       "0 -0.012698  1.085804  0.008001  \n",
       "1  1.011731  1.463751  0.000277  \n",
       "2 -0.540815  1.447527 -0.876644  \n",
       "3 -0.523814  1.437933  0.906397  \n",
       "4 -0.012698  1.085804  0.008001  "
      ]
     },
     "execution_count": 14,
     "metadata": {},
     "output_type": "execute_result"
    }
   ],
   "source": [
    "# Merge train and structures\n",
    "train_df2 = map_atom_info(train_df, 0)\n",
    "train_df2 = map_atom_info(train_df2, 1)\n",
    "train_df2.head()"
   ]
  },
  {
   "cell_type": "code",
   "execution_count": 15,
   "metadata": {
    "scrolled": true
   },
   "outputs": [
    {
     "data": {
      "text/plain": [
       "id                          0\n",
       "molecule_name               0\n",
       "atom_index_0                0\n",
       "atom_index_1                0\n",
       "type                        0\n",
       "scalar_coupling_constant    0\n",
       "atom_0                      0\n",
       "x_0                         0\n",
       "y_0                         0\n",
       "z_0                         0\n",
       "atom_1                      0\n",
       "x_1                         0\n",
       "y_1                         0\n",
       "z_1                         0\n",
       "dtype: int64"
      ]
     },
     "execution_count": 15,
     "metadata": {},
     "output_type": "execute_result"
    }
   ],
   "source": [
    "# check nan after merging\n",
    "train_df2.isna().sum()"
   ]
  },
  {
   "cell_type": "markdown",
   "metadata": {},
   "source": [
    "There are no NAN values, and the merging was done successfully."
   ]
  },
  {
   "cell_type": "markdown",
   "metadata": {},
   "source": [
    "### 4.2 Feature Engineering"
   ]
  },
  {
   "cell_type": "markdown",
   "metadata": {},
   "source": [
    "Now, we will work on feature engineering and create new columns that might help us generate a more accurate prediction."
   ]
  },
  {
   "cell_type": "markdown",
   "metadata": {},
   "source": [
    "#### 4.2.1 Distance between Atoms"
   ]
  },
  {
   "cell_type": "markdown",
   "metadata": {},
   "source": [
    "In this step, we will use the position information of atoms and create columns related to the distance between atoms."
   ]
  },
  {
   "cell_type": "markdown",
   "metadata": {},
   "source": [
    "The first feature will be the distance between atoms. For 3-Dimensional distance calculation, we use the following equation:\n",
    "<img src=\"Image/3d_distance_formula.png\" width=\"50%\" height=\"50%\">\n"
   ]
  },
  {
   "cell_type": "code",
   "execution_count": 16,
   "metadata": {
    "scrolled": true
   },
   "outputs": [
    {
     "data": {
      "text/html": [
       "<div>\n",
       "<style scoped>\n",
       "    .dataframe tbody tr th:only-of-type {\n",
       "        vertical-align: middle;\n",
       "    }\n",
       "\n",
       "    .dataframe tbody tr th {\n",
       "        vertical-align: top;\n",
       "    }\n",
       "\n",
       "    .dataframe thead th {\n",
       "        text-align: right;\n",
       "    }\n",
       "</style>\n",
       "<table border=\"1\" class=\"dataframe\">\n",
       "  <thead>\n",
       "    <tr style=\"text-align: right;\">\n",
       "      <th></th>\n",
       "      <th>id</th>\n",
       "      <th>molecule_name</th>\n",
       "      <th>atom_index_0</th>\n",
       "      <th>atom_index_1</th>\n",
       "      <th>type</th>\n",
       "      <th>scalar_coupling_constant</th>\n",
       "      <th>atom_0</th>\n",
       "      <th>x_0</th>\n",
       "      <th>y_0</th>\n",
       "      <th>z_0</th>\n",
       "      <th>atom_1</th>\n",
       "      <th>x_1</th>\n",
       "      <th>y_1</th>\n",
       "      <th>z_1</th>\n",
       "      <th>distance</th>\n",
       "    </tr>\n",
       "  </thead>\n",
       "  <tbody>\n",
       "    <tr>\n",
       "      <th>0</th>\n",
       "      <td>0</td>\n",
       "      <td>dsgdb9nsd_000001</td>\n",
       "      <td>1</td>\n",
       "      <td>0</td>\n",
       "      <td>1JHC</td>\n",
       "      <td>84.8076</td>\n",
       "      <td>H</td>\n",
       "      <td>0.002150</td>\n",
       "      <td>-0.006031</td>\n",
       "      <td>0.001976</td>\n",
       "      <td>C</td>\n",
       "      <td>-0.012698</td>\n",
       "      <td>1.085804</td>\n",
       "      <td>0.008001</td>\n",
       "      <td>1.091953</td>\n",
       "    </tr>\n",
       "    <tr>\n",
       "      <th>1</th>\n",
       "      <td>1</td>\n",
       "      <td>dsgdb9nsd_000001</td>\n",
       "      <td>1</td>\n",
       "      <td>2</td>\n",
       "      <td>2JHH</td>\n",
       "      <td>-11.2570</td>\n",
       "      <td>H</td>\n",
       "      <td>0.002150</td>\n",
       "      <td>-0.006031</td>\n",
       "      <td>0.001976</td>\n",
       "      <td>H</td>\n",
       "      <td>1.011731</td>\n",
       "      <td>1.463751</td>\n",
       "      <td>0.000277</td>\n",
       "      <td>1.783120</td>\n",
       "    </tr>\n",
       "    <tr>\n",
       "      <th>2</th>\n",
       "      <td>2</td>\n",
       "      <td>dsgdb9nsd_000001</td>\n",
       "      <td>1</td>\n",
       "      <td>3</td>\n",
       "      <td>2JHH</td>\n",
       "      <td>-11.2548</td>\n",
       "      <td>H</td>\n",
       "      <td>0.002150</td>\n",
       "      <td>-0.006031</td>\n",
       "      <td>0.001976</td>\n",
       "      <td>H</td>\n",
       "      <td>-0.540815</td>\n",
       "      <td>1.447527</td>\n",
       "      <td>-0.876644</td>\n",
       "      <td>1.783147</td>\n",
       "    </tr>\n",
       "    <tr>\n",
       "      <th>3</th>\n",
       "      <td>3</td>\n",
       "      <td>dsgdb9nsd_000001</td>\n",
       "      <td>1</td>\n",
       "      <td>4</td>\n",
       "      <td>2JHH</td>\n",
       "      <td>-11.2543</td>\n",
       "      <td>H</td>\n",
       "      <td>0.002150</td>\n",
       "      <td>-0.006031</td>\n",
       "      <td>0.001976</td>\n",
       "      <td>H</td>\n",
       "      <td>-0.523814</td>\n",
       "      <td>1.437933</td>\n",
       "      <td>0.906397</td>\n",
       "      <td>1.783157</td>\n",
       "    </tr>\n",
       "    <tr>\n",
       "      <th>4</th>\n",
       "      <td>4</td>\n",
       "      <td>dsgdb9nsd_000001</td>\n",
       "      <td>2</td>\n",
       "      <td>0</td>\n",
       "      <td>1JHC</td>\n",
       "      <td>84.8074</td>\n",
       "      <td>H</td>\n",
       "      <td>1.011731</td>\n",
       "      <td>1.463751</td>\n",
       "      <td>0.000277</td>\n",
       "      <td>C</td>\n",
       "      <td>-0.012698</td>\n",
       "      <td>1.085804</td>\n",
       "      <td>0.008001</td>\n",
       "      <td>1.091952</td>\n",
       "    </tr>\n",
       "  </tbody>\n",
       "</table>\n",
       "</div>"
      ],
      "text/plain": [
       "   id     molecule_name  atom_index_0  atom_index_1  type  \\\n",
       "0   0  dsgdb9nsd_000001             1             0  1JHC   \n",
       "1   1  dsgdb9nsd_000001             1             2  2JHH   \n",
       "2   2  dsgdb9nsd_000001             1             3  2JHH   \n",
       "3   3  dsgdb9nsd_000001             1             4  2JHH   \n",
       "4   4  dsgdb9nsd_000001             2             0  1JHC   \n",
       "\n",
       "   scalar_coupling_constant atom_0       x_0       y_0       z_0 atom_1  \\\n",
       "0                   84.8076      H  0.002150 -0.006031  0.001976      C   \n",
       "1                  -11.2570      H  0.002150 -0.006031  0.001976      H   \n",
       "2                  -11.2548      H  0.002150 -0.006031  0.001976      H   \n",
       "3                  -11.2543      H  0.002150 -0.006031  0.001976      H   \n",
       "4                   84.8074      H  1.011731  1.463751  0.000277      C   \n",
       "\n",
       "        x_1       y_1       z_1  distance  \n",
       "0 -0.012698  1.085804  0.008001  1.091953  \n",
       "1  1.011731  1.463751  0.000277  1.783120  \n",
       "2 -0.540815  1.447527 -0.876644  1.783147  \n",
       "3 -0.523814  1.437933  0.906397  1.783157  \n",
       "4 -0.012698  1.085804  0.008001  1.091952  "
      ]
     },
     "execution_count": 16,
     "metadata": {},
     "output_type": "execute_result"
    }
   ],
   "source": [
    "# Calculate the 3D distance between atom\n",
    "train_df2['distance'] = ((train_df2['x_0']-train_df2['x_1'])**2 +\n",
    "(train_df2['y_0']-train_df2['y_1'])**2 + (train_df2['z_0']-train_df2['z_1'])**2)**0.5\n",
    "\n",
    "train_df2.head()"
   ]
  },
  {
   "cell_type": "markdown",
   "metadata": {},
   "source": [
    "Next, we will create a column 'dist_to_type_mean,' which is found by dividing the distance we calculated above by the mean distance of the corresponding bond type."
   ]
  },
  {
   "cell_type": "code",
   "execution_count": 17,
   "metadata": {},
   "outputs": [
    {
     "data": {
      "text/html": [
       "<div>\n",
       "<style scoped>\n",
       "    .dataframe tbody tr th:only-of-type {\n",
       "        vertical-align: middle;\n",
       "    }\n",
       "\n",
       "    .dataframe tbody tr th {\n",
       "        vertical-align: top;\n",
       "    }\n",
       "\n",
       "    .dataframe thead th {\n",
       "        text-align: right;\n",
       "    }\n",
       "</style>\n",
       "<table border=\"1\" class=\"dataframe\">\n",
       "  <thead>\n",
       "    <tr style=\"text-align: right;\">\n",
       "      <th></th>\n",
       "      <th>id</th>\n",
       "      <th>molecule_name</th>\n",
       "      <th>atom_index_0</th>\n",
       "      <th>atom_index_1</th>\n",
       "      <th>type</th>\n",
       "      <th>scalar_coupling_constant</th>\n",
       "      <th>atom_0</th>\n",
       "      <th>x_0</th>\n",
       "      <th>y_0</th>\n",
       "      <th>z_0</th>\n",
       "      <th>atom_1</th>\n",
       "      <th>x_1</th>\n",
       "      <th>y_1</th>\n",
       "      <th>z_1</th>\n",
       "      <th>distance</th>\n",
       "      <th>dist_to_type_mean</th>\n",
       "    </tr>\n",
       "  </thead>\n",
       "  <tbody>\n",
       "    <tr>\n",
       "      <th>0</th>\n",
       "      <td>0</td>\n",
       "      <td>dsgdb9nsd_000001</td>\n",
       "      <td>1</td>\n",
       "      <td>0</td>\n",
       "      <td>1JHC</td>\n",
       "      <td>84.8076</td>\n",
       "      <td>H</td>\n",
       "      <td>0.002150</td>\n",
       "      <td>-0.006031</td>\n",
       "      <td>0.001976</td>\n",
       "      <td>C</td>\n",
       "      <td>-0.012698</td>\n",
       "      <td>1.085804</td>\n",
       "      <td>0.008001</td>\n",
       "      <td>1.091953</td>\n",
       "      <td>0.999134</td>\n",
       "    </tr>\n",
       "    <tr>\n",
       "      <th>1</th>\n",
       "      <td>1</td>\n",
       "      <td>dsgdb9nsd_000001</td>\n",
       "      <td>1</td>\n",
       "      <td>2</td>\n",
       "      <td>2JHH</td>\n",
       "      <td>-11.2570</td>\n",
       "      <td>H</td>\n",
       "      <td>0.002150</td>\n",
       "      <td>-0.006031</td>\n",
       "      <td>0.001976</td>\n",
       "      <td>H</td>\n",
       "      <td>1.011731</td>\n",
       "      <td>1.463751</td>\n",
       "      <td>0.000277</td>\n",
       "      <td>1.783120</td>\n",
       "      <td>1.004647</td>\n",
       "    </tr>\n",
       "    <tr>\n",
       "      <th>2</th>\n",
       "      <td>2</td>\n",
       "      <td>dsgdb9nsd_000001</td>\n",
       "      <td>1</td>\n",
       "      <td>3</td>\n",
       "      <td>2JHH</td>\n",
       "      <td>-11.2548</td>\n",
       "      <td>H</td>\n",
       "      <td>0.002150</td>\n",
       "      <td>-0.006031</td>\n",
       "      <td>0.001976</td>\n",
       "      <td>H</td>\n",
       "      <td>-0.540815</td>\n",
       "      <td>1.447527</td>\n",
       "      <td>-0.876644</td>\n",
       "      <td>1.783147</td>\n",
       "      <td>1.004663</td>\n",
       "    </tr>\n",
       "    <tr>\n",
       "      <th>3</th>\n",
       "      <td>3</td>\n",
       "      <td>dsgdb9nsd_000001</td>\n",
       "      <td>1</td>\n",
       "      <td>4</td>\n",
       "      <td>2JHH</td>\n",
       "      <td>-11.2543</td>\n",
       "      <td>H</td>\n",
       "      <td>0.002150</td>\n",
       "      <td>-0.006031</td>\n",
       "      <td>0.001976</td>\n",
       "      <td>H</td>\n",
       "      <td>-0.523814</td>\n",
       "      <td>1.437933</td>\n",
       "      <td>0.906397</td>\n",
       "      <td>1.783157</td>\n",
       "      <td>1.004668</td>\n",
       "    </tr>\n",
       "    <tr>\n",
       "      <th>4</th>\n",
       "      <td>4</td>\n",
       "      <td>dsgdb9nsd_000001</td>\n",
       "      <td>2</td>\n",
       "      <td>0</td>\n",
       "      <td>1JHC</td>\n",
       "      <td>84.8074</td>\n",
       "      <td>H</td>\n",
       "      <td>1.011731</td>\n",
       "      <td>1.463751</td>\n",
       "      <td>0.000277</td>\n",
       "      <td>C</td>\n",
       "      <td>-0.012698</td>\n",
       "      <td>1.085804</td>\n",
       "      <td>0.008001</td>\n",
       "      <td>1.091952</td>\n",
       "      <td>0.999132</td>\n",
       "    </tr>\n",
       "  </tbody>\n",
       "</table>\n",
       "</div>"
      ],
      "text/plain": [
       "   id     molecule_name  atom_index_0  atom_index_1  type  \\\n",
       "0   0  dsgdb9nsd_000001             1             0  1JHC   \n",
       "1   1  dsgdb9nsd_000001             1             2  2JHH   \n",
       "2   2  dsgdb9nsd_000001             1             3  2JHH   \n",
       "3   3  dsgdb9nsd_000001             1             4  2JHH   \n",
       "4   4  dsgdb9nsd_000001             2             0  1JHC   \n",
       "\n",
       "   scalar_coupling_constant atom_0       x_0       y_0       z_0 atom_1  \\\n",
       "0                   84.8076      H  0.002150 -0.006031  0.001976      C   \n",
       "1                  -11.2570      H  0.002150 -0.006031  0.001976      H   \n",
       "2                  -11.2548      H  0.002150 -0.006031  0.001976      H   \n",
       "3                  -11.2543      H  0.002150 -0.006031  0.001976      H   \n",
       "4                   84.8074      H  1.011731  1.463751  0.000277      C   \n",
       "\n",
       "        x_1       y_1       z_1  distance  dist_to_type_mean  \n",
       "0 -0.012698  1.085804  0.008001  1.091953           0.999134  \n",
       "1  1.011731  1.463751  0.000277  1.783120           1.004647  \n",
       "2 -0.540815  1.447527 -0.876644  1.783147           1.004663  \n",
       "3 -0.523814  1.437933  0.906397  1.783157           1.004668  \n",
       "4 -0.012698  1.085804  0.008001  1.091952           0.999132  "
      ]
     },
     "execution_count": 17,
     "metadata": {},
     "output_type": "execute_result"
    }
   ],
   "source": [
    "train_df2['dist_to_type_mean'] = train_df2['distance'] / train_df2.groupby('type')['distance'].transform('mean')\n",
    "train_df2.head()"
   ]
  },
  {
   "cell_type": "markdown",
   "metadata": {},
   "source": [
    "#### 4.2.2 Coupling Angle\n",
    "\n",
    "The angle of the coupling of atoms is an essential feature in coupling constant calculation. Therefore, calculating and adding bond angle as a feature is highly likely to affect the prediction accuracy positively. Feature engineering technique for bond angle is sourced from https://www.kaggle.com/kmat2019/effective-feature."
   ]
  },
  {
   "cell_type": "code",
   "execution_count": 18,
   "metadata": {},
   "outputs": [],
   "source": [
    "# Perform angle calculation\n",
    "train_df2 = angle_info(train_df2)"
   ]
  },
  {
   "cell_type": "code",
   "execution_count": 19,
   "metadata": {},
   "outputs": [
    {
     "data": {
      "text/html": [
       "<div>\n",
       "<style scoped>\n",
       "    .dataframe tbody tr th:only-of-type {\n",
       "        vertical-align: middle;\n",
       "    }\n",
       "\n",
       "    .dataframe tbody tr th {\n",
       "        vertical-align: top;\n",
       "    }\n",
       "\n",
       "    .dataframe thead th {\n",
       "        text-align: right;\n",
       "    }\n",
       "</style>\n",
       "<table border=\"1\" class=\"dataframe\">\n",
       "  <thead>\n",
       "    <tr style=\"text-align: right;\">\n",
       "      <th></th>\n",
       "      <th>id</th>\n",
       "      <th>molecule_name</th>\n",
       "      <th>atom_index_0</th>\n",
       "      <th>atom_index_1</th>\n",
       "      <th>type</th>\n",
       "      <th>scalar_coupling_constant</th>\n",
       "      <th>atom_0</th>\n",
       "      <th>x_0</th>\n",
       "      <th>y_0</th>\n",
       "      <th>z_0</th>\n",
       "      <th>atom_1</th>\n",
       "      <th>x_1</th>\n",
       "      <th>y_1</th>\n",
       "      <th>z_1</th>\n",
       "      <th>distance</th>\n",
       "      <th>dist_to_type_mean</th>\n",
       "      <th>cos_0_1</th>\n",
       "      <th>cos_0</th>\n",
       "      <th>cos_1</th>\n",
       "    </tr>\n",
       "  </thead>\n",
       "  <tbody>\n",
       "    <tr>\n",
       "      <th>0</th>\n",
       "      <td>0</td>\n",
       "      <td>dsgdb9nsd_000001</td>\n",
       "      <td>1</td>\n",
       "      <td>0</td>\n",
       "      <td>1JHC</td>\n",
       "      <td>84.8076</td>\n",
       "      <td>H</td>\n",
       "      <td>0.002150</td>\n",
       "      <td>-0.006031</td>\n",
       "      <td>0.001976</td>\n",
       "      <td>C</td>\n",
       "      <td>-0.012698</td>\n",
       "      <td>1.085804</td>\n",
       "      <td>0.008001</td>\n",
       "      <td>1.091953</td>\n",
       "      <td>0.999134</td>\n",
       "      <td>0.333335</td>\n",
       "      <td>-1.000000</td>\n",
       "      <td>-0.333335</td>\n",
       "    </tr>\n",
       "    <tr>\n",
       "      <th>1</th>\n",
       "      <td>1</td>\n",
       "      <td>dsgdb9nsd_000001</td>\n",
       "      <td>1</td>\n",
       "      <td>2</td>\n",
       "      <td>2JHH</td>\n",
       "      <td>-11.2570</td>\n",
       "      <td>H</td>\n",
       "      <td>0.002150</td>\n",
       "      <td>-0.006031</td>\n",
       "      <td>0.001976</td>\n",
       "      <td>H</td>\n",
       "      <td>1.011731</td>\n",
       "      <td>1.463751</td>\n",
       "      <td>0.000277</td>\n",
       "      <td>1.783120</td>\n",
       "      <td>1.004647</td>\n",
       "      <td>-0.333287</td>\n",
       "      <td>-0.816483</td>\n",
       "      <td>0.816482</td>\n",
       "    </tr>\n",
       "    <tr>\n",
       "      <th>2</th>\n",
       "      <td>2</td>\n",
       "      <td>dsgdb9nsd_000001</td>\n",
       "      <td>1</td>\n",
       "      <td>3</td>\n",
       "      <td>2JHH</td>\n",
       "      <td>-11.2548</td>\n",
       "      <td>H</td>\n",
       "      <td>0.002150</td>\n",
       "      <td>-0.006031</td>\n",
       "      <td>0.001976</td>\n",
       "      <td>H</td>\n",
       "      <td>-0.540815</td>\n",
       "      <td>1.447527</td>\n",
       "      <td>-0.876644</td>\n",
       "      <td>1.783147</td>\n",
       "      <td>1.004663</td>\n",
       "      <td>-0.333335</td>\n",
       "      <td>-0.816498</td>\n",
       "      <td>0.816496</td>\n",
       "    </tr>\n",
       "    <tr>\n",
       "      <th>3</th>\n",
       "      <td>3</td>\n",
       "      <td>dsgdb9nsd_000001</td>\n",
       "      <td>1</td>\n",
       "      <td>4</td>\n",
       "      <td>2JHH</td>\n",
       "      <td>-11.2543</td>\n",
       "      <td>H</td>\n",
       "      <td>0.002150</td>\n",
       "      <td>-0.006031</td>\n",
       "      <td>0.001976</td>\n",
       "      <td>H</td>\n",
       "      <td>-0.523814</td>\n",
       "      <td>1.437933</td>\n",
       "      <td>0.906397</td>\n",
       "      <td>1.783157</td>\n",
       "      <td>1.004668</td>\n",
       "      <td>-0.333347</td>\n",
       "      <td>-0.816502</td>\n",
       "      <td>0.816500</td>\n",
       "    </tr>\n",
       "    <tr>\n",
       "      <th>4</th>\n",
       "      <td>4</td>\n",
       "      <td>dsgdb9nsd_000001</td>\n",
       "      <td>2</td>\n",
       "      <td>0</td>\n",
       "      <td>1JHC</td>\n",
       "      <td>84.8074</td>\n",
       "      <td>H</td>\n",
       "      <td>1.011731</td>\n",
       "      <td>1.463751</td>\n",
       "      <td>0.000277</td>\n",
       "      <td>C</td>\n",
       "      <td>-0.012698</td>\n",
       "      <td>1.085804</td>\n",
       "      <td>0.008001</td>\n",
       "      <td>1.091952</td>\n",
       "      <td>0.999132</td>\n",
       "      <td>0.333352</td>\n",
       "      <td>-1.000000</td>\n",
       "      <td>-0.333352</td>\n",
       "    </tr>\n",
       "  </tbody>\n",
       "</table>\n",
       "</div>"
      ],
      "text/plain": [
       "   id     molecule_name  atom_index_0  atom_index_1  type  \\\n",
       "0   0  dsgdb9nsd_000001             1             0  1JHC   \n",
       "1   1  dsgdb9nsd_000001             1             2  2JHH   \n",
       "2   2  dsgdb9nsd_000001             1             3  2JHH   \n",
       "3   3  dsgdb9nsd_000001             1             4  2JHH   \n",
       "4   4  dsgdb9nsd_000001             2             0  1JHC   \n",
       "\n",
       "   scalar_coupling_constant atom_0       x_0       y_0       z_0 atom_1  \\\n",
       "0                   84.8076      H  0.002150 -0.006031  0.001976      C   \n",
       "1                  -11.2570      H  0.002150 -0.006031  0.001976      H   \n",
       "2                  -11.2548      H  0.002150 -0.006031  0.001976      H   \n",
       "3                  -11.2543      H  0.002150 -0.006031  0.001976      H   \n",
       "4                   84.8074      H  1.011731  1.463751  0.000277      C   \n",
       "\n",
       "        x_1       y_1       z_1  distance  dist_to_type_mean   cos_0_1  \\\n",
       "0 -0.012698  1.085804  0.008001  1.091953           0.999134  0.333335   \n",
       "1  1.011731  1.463751  0.000277  1.783120           1.004647 -0.333287   \n",
       "2 -0.540815  1.447527 -0.876644  1.783147           1.004663 -0.333335   \n",
       "3 -0.523814  1.437933  0.906397  1.783157           1.004668 -0.333347   \n",
       "4 -0.012698  1.085804  0.008001  1.091952           0.999132  0.333352   \n",
       "\n",
       "      cos_0     cos_1  \n",
       "0 -1.000000 -0.333335  \n",
       "1 -0.816483  0.816482  \n",
       "2 -0.816498  0.816496  \n",
       "3 -0.816502  0.816500  \n",
       "4 -1.000000 -0.333352  "
      ]
     },
     "execution_count": 19,
     "metadata": {},
     "output_type": "execute_result"
    }
   ],
   "source": [
    "# check the final version of the dataset\n",
    "train_df2.head()"
   ]
  },
  {
   "cell_type": "markdown",
   "metadata": {},
   "source": [
    "Now, lets check if there is any NAN values in added features."
   ]
  },
  {
   "cell_type": "code",
   "execution_count": 20,
   "metadata": {},
   "outputs": [
    {
     "data": {
      "text/plain": [
       "id                          0\n",
       "molecule_name               0\n",
       "atom_index_0                0\n",
       "atom_index_1                0\n",
       "type                        0\n",
       "scalar_coupling_constant    0\n",
       "atom_0                      0\n",
       "x_0                         0\n",
       "y_0                         0\n",
       "z_0                         0\n",
       "atom_1                      0\n",
       "x_1                         0\n",
       "y_1                         0\n",
       "z_1                         0\n",
       "distance                    0\n",
       "dist_to_type_mean           0\n",
       "cos_0_1                     0\n",
       "cos_0                       0\n",
       "cos_1                       0\n",
       "dtype: int64"
      ]
     },
     "execution_count": 20,
     "metadata": {},
     "output_type": "execute_result"
    }
   ],
   "source": [
    "# check the NAN values of the final dataset\n",
    "train_df2.isna().sum()"
   ]
  },
  {
   "cell_type": "markdown",
   "metadata": {},
   "source": [
    "We can see no NAN values in the dataset, and the feature engineering was done correctly."
   ]
  },
  {
   "cell_type": "markdown",
   "metadata": {},
   "source": [
    "### 4.3 Normalization\n",
    "\n",
    "As we found out in the EDA process, the target variable ('scalar_coupling_constant') has a right-skewed distribution, and it showed a more normalized distribution after cubic root transformation. Therefore, we will apply cubic root transformation on the 'scalar_coupling_constant.'"
   ]
  },
  {
   "cell_type": "code",
   "execution_count": 21,
   "metadata": {
    "scrolled": true
   },
   "outputs": [
    {
     "data": {
      "text/html": [
       "<div>\n",
       "<style scoped>\n",
       "    .dataframe tbody tr th:only-of-type {\n",
       "        vertical-align: middle;\n",
       "    }\n",
       "\n",
       "    .dataframe tbody tr th {\n",
       "        vertical-align: top;\n",
       "    }\n",
       "\n",
       "    .dataframe thead th {\n",
       "        text-align: right;\n",
       "    }\n",
       "</style>\n",
       "<table border=\"1\" class=\"dataframe\">\n",
       "  <thead>\n",
       "    <tr style=\"text-align: right;\">\n",
       "      <th></th>\n",
       "      <th>id</th>\n",
       "      <th>molecule_name</th>\n",
       "      <th>atom_index_0</th>\n",
       "      <th>atom_index_1</th>\n",
       "      <th>type</th>\n",
       "      <th>scalar_coupling_constant</th>\n",
       "      <th>atom_0</th>\n",
       "      <th>x_0</th>\n",
       "      <th>y_0</th>\n",
       "      <th>z_0</th>\n",
       "      <th>atom_1</th>\n",
       "      <th>x_1</th>\n",
       "      <th>y_1</th>\n",
       "      <th>z_1</th>\n",
       "      <th>distance</th>\n",
       "      <th>dist_to_type_mean</th>\n",
       "      <th>cos_0_1</th>\n",
       "      <th>cos_0</th>\n",
       "      <th>cos_1</th>\n",
       "      <th>cbrt_scalar_coupling_constant</th>\n",
       "    </tr>\n",
       "  </thead>\n",
       "  <tbody>\n",
       "    <tr>\n",
       "      <th>0</th>\n",
       "      <td>0</td>\n",
       "      <td>dsgdb9nsd_000001</td>\n",
       "      <td>1</td>\n",
       "      <td>0</td>\n",
       "      <td>1JHC</td>\n",
       "      <td>84.8076</td>\n",
       "      <td>H</td>\n",
       "      <td>0.002150</td>\n",
       "      <td>-0.006031</td>\n",
       "      <td>0.001976</td>\n",
       "      <td>C</td>\n",
       "      <td>-0.012698</td>\n",
       "      <td>1.085804</td>\n",
       "      <td>0.008001</td>\n",
       "      <td>1.091953</td>\n",
       "      <td>0.999134</td>\n",
       "      <td>0.333335</td>\n",
       "      <td>-1.000000</td>\n",
       "      <td>-0.333335</td>\n",
       "      <td>4.393510</td>\n",
       "    </tr>\n",
       "    <tr>\n",
       "      <th>1</th>\n",
       "      <td>1</td>\n",
       "      <td>dsgdb9nsd_000001</td>\n",
       "      <td>1</td>\n",
       "      <td>2</td>\n",
       "      <td>2JHH</td>\n",
       "      <td>-11.2570</td>\n",
       "      <td>H</td>\n",
       "      <td>0.002150</td>\n",
       "      <td>-0.006031</td>\n",
       "      <td>0.001976</td>\n",
       "      <td>H</td>\n",
       "      <td>1.011731</td>\n",
       "      <td>1.463751</td>\n",
       "      <td>0.000277</td>\n",
       "      <td>1.783120</td>\n",
       "      <td>1.004647</td>\n",
       "      <td>-0.333287</td>\n",
       "      <td>-0.816483</td>\n",
       "      <td>0.816482</td>\n",
       "      <td>-2.241167</td>\n",
       "    </tr>\n",
       "    <tr>\n",
       "      <th>2</th>\n",
       "      <td>2</td>\n",
       "      <td>dsgdb9nsd_000001</td>\n",
       "      <td>1</td>\n",
       "      <td>3</td>\n",
       "      <td>2JHH</td>\n",
       "      <td>-11.2548</td>\n",
       "      <td>H</td>\n",
       "      <td>0.002150</td>\n",
       "      <td>-0.006031</td>\n",
       "      <td>0.001976</td>\n",
       "      <td>H</td>\n",
       "      <td>-0.540815</td>\n",
       "      <td>1.447527</td>\n",
       "      <td>-0.876644</td>\n",
       "      <td>1.783147</td>\n",
       "      <td>1.004663</td>\n",
       "      <td>-0.333335</td>\n",
       "      <td>-0.816498</td>\n",
       "      <td>0.816496</td>\n",
       "      <td>-2.241021</td>\n",
       "    </tr>\n",
       "    <tr>\n",
       "      <th>3</th>\n",
       "      <td>3</td>\n",
       "      <td>dsgdb9nsd_000001</td>\n",
       "      <td>1</td>\n",
       "      <td>4</td>\n",
       "      <td>2JHH</td>\n",
       "      <td>-11.2543</td>\n",
       "      <td>H</td>\n",
       "      <td>0.002150</td>\n",
       "      <td>-0.006031</td>\n",
       "      <td>0.001976</td>\n",
       "      <td>H</td>\n",
       "      <td>-0.523814</td>\n",
       "      <td>1.437933</td>\n",
       "      <td>0.906397</td>\n",
       "      <td>1.783157</td>\n",
       "      <td>1.004668</td>\n",
       "      <td>-0.333347</td>\n",
       "      <td>-0.816502</td>\n",
       "      <td>0.816500</td>\n",
       "      <td>-2.240988</td>\n",
       "    </tr>\n",
       "    <tr>\n",
       "      <th>4</th>\n",
       "      <td>4</td>\n",
       "      <td>dsgdb9nsd_000001</td>\n",
       "      <td>2</td>\n",
       "      <td>0</td>\n",
       "      <td>1JHC</td>\n",
       "      <td>84.8074</td>\n",
       "      <td>H</td>\n",
       "      <td>1.011731</td>\n",
       "      <td>1.463751</td>\n",
       "      <td>0.000277</td>\n",
       "      <td>C</td>\n",
       "      <td>-0.012698</td>\n",
       "      <td>1.085804</td>\n",
       "      <td>0.008001</td>\n",
       "      <td>1.091952</td>\n",
       "      <td>0.999132</td>\n",
       "      <td>0.333352</td>\n",
       "      <td>-1.000000</td>\n",
       "      <td>-0.333352</td>\n",
       "      <td>4.393506</td>\n",
       "    </tr>\n",
       "  </tbody>\n",
       "</table>\n",
       "</div>"
      ],
      "text/plain": [
       "   id     molecule_name  atom_index_0  atom_index_1  type  \\\n",
       "0   0  dsgdb9nsd_000001             1             0  1JHC   \n",
       "1   1  dsgdb9nsd_000001             1             2  2JHH   \n",
       "2   2  dsgdb9nsd_000001             1             3  2JHH   \n",
       "3   3  dsgdb9nsd_000001             1             4  2JHH   \n",
       "4   4  dsgdb9nsd_000001             2             0  1JHC   \n",
       "\n",
       "   scalar_coupling_constant atom_0       x_0       y_0       z_0 atom_1  \\\n",
       "0                   84.8076      H  0.002150 -0.006031  0.001976      C   \n",
       "1                  -11.2570      H  0.002150 -0.006031  0.001976      H   \n",
       "2                  -11.2548      H  0.002150 -0.006031  0.001976      H   \n",
       "3                  -11.2543      H  0.002150 -0.006031  0.001976      H   \n",
       "4                   84.8074      H  1.011731  1.463751  0.000277      C   \n",
       "\n",
       "        x_1       y_1       z_1  distance  dist_to_type_mean   cos_0_1  \\\n",
       "0 -0.012698  1.085804  0.008001  1.091953           0.999134  0.333335   \n",
       "1  1.011731  1.463751  0.000277  1.783120           1.004647 -0.333287   \n",
       "2 -0.540815  1.447527 -0.876644  1.783147           1.004663 -0.333335   \n",
       "3 -0.523814  1.437933  0.906397  1.783157           1.004668 -0.333347   \n",
       "4 -0.012698  1.085804  0.008001  1.091952           0.999132  0.333352   \n",
       "\n",
       "      cos_0     cos_1  cbrt_scalar_coupling_constant  \n",
       "0 -1.000000 -0.333335                       4.393510  \n",
       "1 -0.816483  0.816482                      -2.241167  \n",
       "2 -0.816498  0.816496                      -2.241021  \n",
       "3 -0.816502  0.816500                      -2.240988  \n",
       "4 -1.000000 -0.333352                       4.393506  "
      ]
     },
     "execution_count": 21,
     "metadata": {},
     "output_type": "execute_result"
    }
   ],
   "source": [
    "# create new target variable 'cbrt_scalar_coupling_constant'\n",
    "train_df2['cbrt_scalar_coupling_constant'] = np.cbrt(train_df2['scalar_coupling_constant'])\n",
    "\n",
    "# check the train_df2\n",
    "train_df2.head()"
   ]
  },
  {
   "cell_type": "markdown",
   "metadata": {},
   "source": [
    "Now, we will drop the old target variable 'scalar_coupling_constant' and use 'cbrt_scalar_coupling_constant' as our target variable for regression analysis."
   ]
  },
  {
   "cell_type": "code",
   "execution_count": 22,
   "metadata": {},
   "outputs": [
    {
     "name": "stdout",
     "output_type": "stream",
     "text": [
      "<class 'pandas.core.frame.DataFrame'>\n",
      "Int64Index: 4659076 entries, 0 to 4659075\n",
      "Data columns (total 19 columns):\n",
      " #   Column                         Dtype  \n",
      "---  ------                         -----  \n",
      " 0   id                             int64  \n",
      " 1   molecule_name                  object \n",
      " 2   atom_index_0                   int64  \n",
      " 3   atom_index_1                   int64  \n",
      " 4   type                           object \n",
      " 5   atom_0                         object \n",
      " 6   x_0                            float64\n",
      " 7   y_0                            float64\n",
      " 8   z_0                            float64\n",
      " 9   atom_1                         object \n",
      " 10  x_1                            float64\n",
      " 11  y_1                            float64\n",
      " 12  z_1                            float64\n",
      " 13  distance                       float64\n",
      " 14  dist_to_type_mean              float64\n",
      " 15  cos_0_1                        float64\n",
      " 16  cos_0                          float64\n",
      " 17  cos_1                          float64\n",
      " 18  cbrt_scalar_coupling_constant  float64\n",
      "dtypes: float64(12), int64(3), object(4)\n",
      "memory usage: 710.9+ MB\n"
     ]
    }
   ],
   "source": [
    "# drop 'scalar_coupling_constant'\n",
    "train_df2.drop(columns = ['scalar_coupling_constant'], inplace = True)\n",
    "\n",
    "train_df2.info()"
   ]
  },
  {
   "cell_type": "markdown",
   "metadata": {},
   "source": [
    "### 4.4 Multicollinearity"
   ]
  },
  {
   "cell_type": "markdown",
   "metadata": {},
   "source": [
    "Now, let's create a heatmap and find the columns with multicollinearity. "
   ]
  },
  {
   "cell_type": "code",
   "execution_count": 23,
   "metadata": {
    "scrolled": true
   },
   "outputs": [
    {
     "data": {
      "image/png": "[encoded data removed]",
      "text/plain": [
       "<Figure size 720x720 with 2 Axes>"
      ]
     },
     "metadata": {
      "needs_background": "light"
     },
     "output_type": "display_data"
    }
   ],
   "source": [
    "# Visualize the multicollinearity \n",
    "# Use heatmap from seaborn\n",
    "# Set correlation score absolute value and round up to 2 digit\n",
    "heatmap_df = train_df2.drop(columns=['id', 'molecule_name', 'cbrt_scalar_coupling_constant'])\n",
    "plt.figure(figsize = (10,10))\n",
    "sns.heatmap(heatmap_df.corr().abs(), annot = True, fmt='.2f')\n",
    "\n",
    "# save figure\n",
    "plt.savefig('Image/Multicollinearity')"
   ]
  },
  {
   "cell_type": "markdown",
   "metadata": {},
   "source": [
    "Source: https://www.sfu.ca/~dsignori/buec333/lecture%2016.pdf\n",
    "\n",
    "Rule of thumb for multicollinearity:\n",
    "- If the correlation > 0.8, then severe multicollinearity may be present."
   ]
  },
  {
   "cell_type": "markdown",
   "metadata": {},
   "source": [
    "None of the multicollinearity score is above 0.8, and, therefore, we can conclude there is no severe multicollinearity."
   ]
  },
  {
   "cell_type": "markdown",
   "metadata": {},
   "source": [
    "### 4.5 Train Test Split"
   ]
  },
  {
   "cell_type": "markdown",
   "metadata": {},
   "source": [
    "We will split the train_df2 into X and y. We will exclude columns id and molecule_name \n",
    "- X: All columns else than target variable(scalar_coupling_constant), id, and molecule_name\n",
    "\n",
    "    - We will exclude columns id and molecule_name since those two do not contribute to the scalar coupling constant.\n",
    "    \n",
    "    \n",
    "- y: target variable (cbrt_scalar_coupling_constant)\n",
    "\n",
    "We will conduct train test split twice to create train set, validation set, and test set. The ratio for this split will be 60% for train and 20% for validation and test, one of the common ratios. \n",
    "\n",
    "This is also because our dataset is large: it has more than 4 million rows. By reducing the size of the test set, we will speed up the modeling process."
   ]
  },
  {
   "cell_type": "code",
   "execution_count": 24,
   "metadata": {},
   "outputs": [],
   "source": [
    "# conduct train, test, val split\n",
    "X_train, X_test, X_val, y_train, y_test, y_val = ttv_split(train_df2)"
   ]
  },
  {
   "cell_type": "code",
   "execution_count": 25,
   "metadata": {},
   "outputs": [
    {
     "data": {
      "text/plain": [
       "(2795445, 16)"
      ]
     },
     "execution_count": 25,
     "metadata": {},
     "output_type": "execute_result"
    }
   ],
   "source": [
    "# check the train set\n",
    "X_train.shape"
   ]
  },
  {
   "cell_type": "code",
   "execution_count": 26,
   "metadata": {},
   "outputs": [
    {
     "data": {
      "text/plain": [
       "(931815, 16)"
      ]
     },
     "execution_count": 26,
     "metadata": {},
     "output_type": "execute_result"
    }
   ],
   "source": [
    "# check the validation set\n",
    "X_val.shape"
   ]
  },
  {
   "cell_type": "code",
   "execution_count": 27,
   "metadata": {},
   "outputs": [
    {
     "data": {
      "text/plain": [
       "(931816, 16)"
      ]
     },
     "execution_count": 27,
     "metadata": {},
     "output_type": "execute_result"
    }
   ],
   "source": [
    "# check the validation set\n",
    "X_test.shape"
   ]
  },
  {
   "cell_type": "markdown",
   "metadata": {},
   "source": [
    "Great! The test and validation set has almost the same amount of rows. Also, the train set has a row count three times larger than those of the validation and test set. \n",
    "\n",
    "Train - test - validation split was successful."
   ]
  },
  {
   "cell_type": "markdown",
   "metadata": {},
   "source": [
    "### 4.6 Preprocessing"
   ]
  },
  {
   "cell_type": "markdown",
   "metadata": {},
   "source": [
    "First, we will divide up the columns into numerical and categorical. We will create a new copy of train_df2 (final dataset) for this process. Since the preprocessing is only applied for the X set, we will exclude the following columns so we can preprocess the columns in X sets only:\n",
    "- scalar coupling constant (target variable)\n",
    "- id\n",
    "- molecule name"
   ]
  },
  {
   "cell_type": "code",
   "execution_count": 28,
   "metadata": {},
   "outputs": [],
   "source": [
    "# Create a train_df3\n",
    "# exclude cbrt_scalar_coupling_constant, id, molecule_name, and type\n",
    "train_df3 = train_df2.drop(columns=['cbrt_scalar_coupling_constant', 'id', 'molecule_name'])"
   ]
  },
  {
   "cell_type": "code",
   "execution_count": 29,
   "metadata": {},
   "outputs": [
    {
     "name": "stdout",
     "output_type": "stream",
     "text": [
      "<class 'pandas.core.frame.DataFrame'>\n",
      "Int64Index: 4659076 entries, 0 to 4659075\n",
      "Data columns (total 16 columns):\n",
      " #   Column             Dtype  \n",
      "---  ------             -----  \n",
      " 0   atom_index_0       int64  \n",
      " 1   atom_index_1       int64  \n",
      " 2   type               object \n",
      " 3   atom_0             object \n",
      " 4   x_0                float64\n",
      " 5   y_0                float64\n",
      " 6   z_0                float64\n",
      " 7   atom_1             object \n",
      " 8   x_1                float64\n",
      " 9   y_1                float64\n",
      " 10  z_1                float64\n",
      " 11  distance           float64\n",
      " 12  dist_to_type_mean  float64\n",
      " 13  cos_0_1            float64\n",
      " 14  cos_0              float64\n",
      " 15  cos_1              float64\n",
      "dtypes: float64(11), int64(2), object(3)\n",
      "memory usage: 604.3+ MB\n"
     ]
    }
   ],
   "source": [
    "# check the dataframe\n",
    "train_df3.info()"
   ]
  },
  {
   "cell_type": "code",
   "execution_count": 30,
   "metadata": {},
   "outputs": [],
   "source": [
    "# instantiate lists of columns\n",
    "num_cols = []\n",
    "cat_cols = []\n",
    "\n",
    "# num = any columns with numerical value\n",
    "# cat = everything else\n",
    "for c in train_df3.columns:\n",
    "    if train_df3[c].dtype in ['float64', 'int64']:\n",
    "        num_cols.append(c)\n",
    "    else:\n",
    "        cat_cols.append(c)"
   ]
  },
  {
   "cell_type": "code",
   "execution_count": 31,
   "metadata": {
    "scrolled": false
   },
   "outputs": [
    {
     "data": {
      "text/plain": [
       "['atom_index_0',\n",
       " 'atom_index_1',\n",
       " 'x_0',\n",
       " 'y_0',\n",
       " 'z_0',\n",
       " 'x_1',\n",
       " 'y_1',\n",
       " 'z_1',\n",
       " 'distance',\n",
       " 'dist_to_type_mean',\n",
       " 'cos_0_1',\n",
       " 'cos_0',\n",
       " 'cos_1']"
      ]
     },
     "execution_count": 31,
     "metadata": {},
     "output_type": "execute_result"
    }
   ],
   "source": [
    "# check numerical columns\n",
    "num_cols"
   ]
  },
  {
   "cell_type": "code",
   "execution_count": 32,
   "metadata": {},
   "outputs": [
    {
     "data": {
      "text/plain": [
       "['type', 'atom_0', 'atom_1']"
      ]
     },
     "execution_count": 32,
     "metadata": {},
     "output_type": "execute_result"
    }
   ],
   "source": [
    "# check categorical columns\n",
    "cat_cols"
   ]
  },
  {
   "cell_type": "markdown",
   "metadata": {},
   "source": [
    "We will create a function for preprocessing. The scaler and encoder we will use for this process are:\n",
    "- MinMaxScaler: Numerical columns\n",
    "- LabelEncoder: Categorical columns"
   ]
  },
  {
   "cell_type": "code",
   "execution_count": 33,
   "metadata": {},
   "outputs": [],
   "source": [
    "# perform preprocessing\n",
    "X_train, X_test, X_val = preprocess(X_train, X_test, X_val)"
   ]
  },
  {
   "cell_type": "markdown",
   "metadata": {},
   "source": [
    "Now, let's check the preprocessed datasets."
   ]
  },
  {
   "cell_type": "code",
   "execution_count": 34,
   "metadata": {},
   "outputs": [
    {
     "data": {
      "text/html": [
       "<div>\n",
       "<style scoped>\n",
       "    .dataframe tbody tr th:only-of-type {\n",
       "        vertical-align: middle;\n",
       "    }\n",
       "\n",
       "    .dataframe tbody tr th {\n",
       "        vertical-align: top;\n",
       "    }\n",
       "\n",
       "    .dataframe thead th {\n",
       "        text-align: right;\n",
       "    }\n",
       "</style>\n",
       "<table border=\"1\" class=\"dataframe\">\n",
       "  <thead>\n",
       "    <tr style=\"text-align: right;\">\n",
       "      <th></th>\n",
       "      <th>atom_index_0</th>\n",
       "      <th>atom_index_1</th>\n",
       "      <th>type</th>\n",
       "      <th>atom_0</th>\n",
       "      <th>x_0</th>\n",
       "      <th>y_0</th>\n",
       "      <th>z_0</th>\n",
       "      <th>atom_1</th>\n",
       "      <th>x_1</th>\n",
       "      <th>y_1</th>\n",
       "      <th>z_1</th>\n",
       "      <th>distance</th>\n",
       "      <th>dist_to_type_mean</th>\n",
       "      <th>cos_0_1</th>\n",
       "      <th>cos_0</th>\n",
       "      <th>cos_1</th>\n",
       "    </tr>\n",
       "  </thead>\n",
       "  <tbody>\n",
       "    <tr>\n",
       "      <th>count</th>\n",
       "      <td>2.795445e+06</td>\n",
       "      <td>2.795445e+06</td>\n",
       "      <td>2.795445e+06</td>\n",
       "      <td>2795445.0</td>\n",
       "      <td>2.795445e+06</td>\n",
       "      <td>2.795445e+06</td>\n",
       "      <td>2.795445e+06</td>\n",
       "      <td>2.795445e+06</td>\n",
       "      <td>2.795445e+06</td>\n",
       "      <td>2.795445e+06</td>\n",
       "      <td>2.795445e+06</td>\n",
       "      <td>2.795445e+06</td>\n",
       "      <td>2.795445e+06</td>\n",
       "      <td>2.795445e+06</td>\n",
       "      <td>2.795445e+06</td>\n",
       "      <td>2.795445e+06</td>\n",
       "    </tr>\n",
       "    <tr>\n",
       "      <th>mean</th>\n",
       "      <td>4.575517e-01</td>\n",
       "      <td>2.100649e-01</td>\n",
       "      <td>3.477557e+00</td>\n",
       "      <td>0.0</td>\n",
       "      <td>5.017261e-01</td>\n",
       "      <td>4.828783e-01</td>\n",
       "      <td>5.415220e-01</td>\n",
       "      <td>3.494381e-01</td>\n",
       "      <td>5.285328e-01</td>\n",
       "      <td>4.711275e-01</td>\n",
       "      <td>5.309035e-01</td>\n",
       "      <td>4.664676e-01</td>\n",
       "      <td>5.581355e-01</td>\n",
       "      <td>4.557894e-01</td>\n",
       "      <td>2.186615e-01</td>\n",
       "      <td>5.455264e-01</td>\n",
       "    </tr>\n",
       "    <tr>\n",
       "      <th>std</th>\n",
       "      <td>1.210971e-01</td>\n",
       "      <td>1.783643e-01</td>\n",
       "      <td>2.112027e+00</td>\n",
       "      <td>0.0</td>\n",
       "      <td>9.438957e-02</td>\n",
       "      <td>1.054225e-01</td>\n",
       "      <td>9.455198e-02</td>\n",
       "      <td>6.072796e-01</td>\n",
       "      <td>8.364859e-02</td>\n",
       "      <td>9.809802e-02</td>\n",
       "      <td>7.774892e-02</td>\n",
       "      <td>2.529564e-01</td>\n",
       "      <td>1.187310e-01</td>\n",
       "      <td>3.022098e-01</td>\n",
       "      <td>1.799235e-01</td>\n",
       "      <td>3.209953e-01</td>\n",
       "    </tr>\n",
       "    <tr>\n",
       "      <th>min</th>\n",
       "      <td>0.000000e+00</td>\n",
       "      <td>0.000000e+00</td>\n",
       "      <td>0.000000e+00</td>\n",
       "      <td>0.0</td>\n",
       "      <td>0.000000e+00</td>\n",
       "      <td>0.000000e+00</td>\n",
       "      <td>0.000000e+00</td>\n",
       "      <td>0.000000e+00</td>\n",
       "      <td>0.000000e+00</td>\n",
       "      <td>0.000000e+00</td>\n",
       "      <td>0.000000e+00</td>\n",
       "      <td>0.000000e+00</td>\n",
       "      <td>0.000000e+00</td>\n",
       "      <td>0.000000e+00</td>\n",
       "      <td>0.000000e+00</td>\n",
       "      <td>0.000000e+00</td>\n",
       "    </tr>\n",
       "    <tr>\n",
       "      <th>25%</th>\n",
       "      <td>3.703704e-01</td>\n",
       "      <td>7.142857e-02</td>\n",
       "      <td>2.000000e+00</td>\n",
       "      <td>0.0</td>\n",
       "      <td>4.448524e-01</td>\n",
       "      <td>4.026563e-01</td>\n",
       "      <td>4.803280e-01</td>\n",
       "      <td>0.000000e+00</td>\n",
       "      <td>4.781990e-01</td>\n",
       "      <td>4.040887e-01</td>\n",
       "      <td>4.848351e-01</td>\n",
       "      <td>3.248948e-01</td>\n",
       "      <td>5.044550e-01</td>\n",
       "      <td>1.983721e-01</td>\n",
       "      <td>9.330080e-02</td>\n",
       "      <td>2.875541e-01</td>\n",
       "    </tr>\n",
       "    <tr>\n",
       "      <th>50%</th>\n",
       "      <td>4.444444e-01</td>\n",
       "      <td>1.785714e-01</td>\n",
       "      <td>4.000000e+00</td>\n",
       "      <td>0.0</td>\n",
       "      <td>5.031607e-01</td>\n",
       "      <td>4.790321e-01</td>\n",
       "      <td>5.388222e-01</td>\n",
       "      <td>0.000000e+00</td>\n",
       "      <td>5.256507e-01</td>\n",
       "      <td>4.648607e-01</td>\n",
       "      <td>5.268786e-01</td>\n",
       "      <td>4.502085e-01</td>\n",
       "      <td>5.574367e-01</td>\n",
       "      <td>4.500961e-01</td>\n",
       "      <td>1.808470e-01</td>\n",
       "      <td>4.880223e-01</td>\n",
       "    </tr>\n",
       "    <tr>\n",
       "      <th>75%</th>\n",
       "      <td>5.555556e-01</td>\n",
       "      <td>2.857143e-01</td>\n",
       "      <td>5.000000e+00</td>\n",
       "      <td>0.0</td>\n",
       "      <td>5.618812e-01</td>\n",
       "      <td>5.809790e-01</td>\n",
       "      <td>6.011493e-01</td>\n",
       "      <td>1.000000e+00</td>\n",
       "      <td>5.776998e-01</td>\n",
       "      <td>5.091522e-01</td>\n",
       "      <td>5.813568e-01</td>\n",
       "      <td>6.673817e-01</td>\n",
       "      <td>6.083306e-01</td>\n",
       "      <td>6.922455e-01</td>\n",
       "      <td>3.028655e-01</td>\n",
       "      <td>9.000733e-01</td>\n",
       "    </tr>\n",
       "    <tr>\n",
       "      <th>max</th>\n",
       "      <td>1.000000e+00</td>\n",
       "      <td>1.000000e+00</td>\n",
       "      <td>7.000000e+00</td>\n",
       "      <td>0.0</td>\n",
       "      <td>1.000000e+00</td>\n",
       "      <td>1.000000e+00</td>\n",
       "      <td>1.000000e+00</td>\n",
       "      <td>2.000000e+00</td>\n",
       "      <td>1.000000e+00</td>\n",
       "      <td>1.000000e+00</td>\n",
       "      <td>1.000000e+00</td>\n",
       "      <td>1.000000e+00</td>\n",
       "      <td>1.000000e+00</td>\n",
       "      <td>1.000000e+00</td>\n",
       "      <td>1.000000e+00</td>\n",
       "      <td>1.000000e+00</td>\n",
       "    </tr>\n",
       "  </tbody>\n",
       "</table>\n",
       "</div>"
      ],
      "text/plain": [
       "       atom_index_0  atom_index_1          type     atom_0           x_0  \\\n",
       "count  2.795445e+06  2.795445e+06  2.795445e+06  2795445.0  2.795445e+06   \n",
       "mean   4.575517e-01  2.100649e-01  3.477557e+00        0.0  5.017261e-01   \n",
       "std    1.210971e-01  1.783643e-01  2.112027e+00        0.0  9.438957e-02   \n",
       "min    0.000000e+00  0.000000e+00  0.000000e+00        0.0  0.000000e+00   \n",
       "25%    3.703704e-01  7.142857e-02  2.000000e+00        0.0  4.448524e-01   \n",
       "50%    4.444444e-01  1.785714e-01  4.000000e+00        0.0  5.031607e-01   \n",
       "75%    5.555556e-01  2.857143e-01  5.000000e+00        0.0  5.618812e-01   \n",
       "max    1.000000e+00  1.000000e+00  7.000000e+00        0.0  1.000000e+00   \n",
       "\n",
       "                y_0           z_0        atom_1           x_1           y_1  \\\n",
       "count  2.795445e+06  2.795445e+06  2.795445e+06  2.795445e+06  2.795445e+06   \n",
       "mean   4.828783e-01  5.415220e-01  3.494381e-01  5.285328e-01  4.711275e-01   \n",
       "std    1.054225e-01  9.455198e-02  6.072796e-01  8.364859e-02  9.809802e-02   \n",
       "min    0.000000e+00  0.000000e+00  0.000000e+00  0.000000e+00  0.000000e+00   \n",
       "25%    4.026563e-01  4.803280e-01  0.000000e+00  4.781990e-01  4.040887e-01   \n",
       "50%    4.790321e-01  5.388222e-01  0.000000e+00  5.256507e-01  4.648607e-01   \n",
       "75%    5.809790e-01  6.011493e-01  1.000000e+00  5.776998e-01  5.091522e-01   \n",
       "max    1.000000e+00  1.000000e+00  2.000000e+00  1.000000e+00  1.000000e+00   \n",
       "\n",
       "                z_1      distance  dist_to_type_mean       cos_0_1  \\\n",
       "count  2.795445e+06  2.795445e+06       2.795445e+06  2.795445e+06   \n",
       "mean   5.309035e-01  4.664676e-01       5.581355e-01  4.557894e-01   \n",
       "std    7.774892e-02  2.529564e-01       1.187310e-01  3.022098e-01   \n",
       "min    0.000000e+00  0.000000e+00       0.000000e+00  0.000000e+00   \n",
       "25%    4.848351e-01  3.248948e-01       5.044550e-01  1.983721e-01   \n",
       "50%    5.268786e-01  4.502085e-01       5.574367e-01  4.500961e-01   \n",
       "75%    5.813568e-01  6.673817e-01       6.083306e-01  6.922455e-01   \n",
       "max    1.000000e+00  1.000000e+00       1.000000e+00  1.000000e+00   \n",
       "\n",
       "              cos_0         cos_1  \n",
       "count  2.795445e+06  2.795445e+06  \n",
       "mean   2.186615e-01  5.455264e-01  \n",
       "std    1.799235e-01  3.209953e-01  \n",
       "min    0.000000e+00  0.000000e+00  \n",
       "25%    9.330080e-02  2.875541e-01  \n",
       "50%    1.808470e-01  4.880223e-01  \n",
       "75%    3.028655e-01  9.000733e-01  \n",
       "max    1.000000e+00  1.000000e+00  "
      ]
     },
     "execution_count": 34,
     "metadata": {},
     "output_type": "execute_result"
    }
   ],
   "source": [
    "X_train.describe()"
   ]
  },
  {
   "cell_type": "code",
   "execution_count": 35,
   "metadata": {},
   "outputs": [
    {
     "data": {
      "text/html": [
       "<div>\n",
       "<style scoped>\n",
       "    .dataframe tbody tr th:only-of-type {\n",
       "        vertical-align: middle;\n",
       "    }\n",
       "\n",
       "    .dataframe tbody tr th {\n",
       "        vertical-align: top;\n",
       "    }\n",
       "\n",
       "    .dataframe thead th {\n",
       "        text-align: right;\n",
       "    }\n",
       "</style>\n",
       "<table border=\"1\" class=\"dataframe\">\n",
       "  <thead>\n",
       "    <tr style=\"text-align: right;\">\n",
       "      <th></th>\n",
       "      <th>atom_index_0</th>\n",
       "      <th>atom_index_1</th>\n",
       "      <th>type</th>\n",
       "      <th>atom_0</th>\n",
       "      <th>x_0</th>\n",
       "      <th>y_0</th>\n",
       "      <th>z_0</th>\n",
       "      <th>atom_1</th>\n",
       "      <th>x_1</th>\n",
       "      <th>y_1</th>\n",
       "      <th>z_1</th>\n",
       "      <th>distance</th>\n",
       "      <th>dist_to_type_mean</th>\n",
       "      <th>cos_0_1</th>\n",
       "      <th>cos_0</th>\n",
       "      <th>cos_1</th>\n",
       "    </tr>\n",
       "  </thead>\n",
       "  <tbody>\n",
       "    <tr>\n",
       "      <th>count</th>\n",
       "      <td>931816.000000</td>\n",
       "      <td>931816.000000</td>\n",
       "      <td>931816.000000</td>\n",
       "      <td>931816.0</td>\n",
       "      <td>931816.000000</td>\n",
       "      <td>931816.000000</td>\n",
       "      <td>931816.000000</td>\n",
       "      <td>931816.000000</td>\n",
       "      <td>931816.000000</td>\n",
       "      <td>931816.000000</td>\n",
       "      <td>931816.000000</td>\n",
       "      <td>931816.000000</td>\n",
       "      <td>931816.000000</td>\n",
       "      <td>931816.000000</td>\n",
       "      <td>931816.000000</td>\n",
       "      <td>9.318160e+05</td>\n",
       "    </tr>\n",
       "    <tr>\n",
       "      <th>mean</th>\n",
       "      <td>0.457935</td>\n",
       "      <td>0.209947</td>\n",
       "      <td>3.476025</td>\n",
       "      <td>0.0</td>\n",
       "      <td>0.501719</td>\n",
       "      <td>0.482678</td>\n",
       "      <td>0.541625</td>\n",
       "      <td>0.348567</td>\n",
       "      <td>0.528563</td>\n",
       "      <td>0.470909</td>\n",
       "      <td>0.531079</td>\n",
       "      <td>0.466409</td>\n",
       "      <td>0.558093</td>\n",
       "      <td>0.455805</td>\n",
       "      <td>0.218561</td>\n",
       "      <td>5.453363e-01</td>\n",
       "    </tr>\n",
       "    <tr>\n",
       "      <th>std</th>\n",
       "      <td>0.121180</td>\n",
       "      <td>0.178206</td>\n",
       "      <td>2.112240</td>\n",
       "      <td>0.0</td>\n",
       "      <td>0.094356</td>\n",
       "      <td>0.105299</td>\n",
       "      <td>0.094643</td>\n",
       "      <td>0.606858</td>\n",
       "      <td>0.083605</td>\n",
       "      <td>0.098077</td>\n",
       "      <td>0.077805</td>\n",
       "      <td>0.252953</td>\n",
       "      <td>0.118680</td>\n",
       "      <td>0.302513</td>\n",
       "      <td>0.179910</td>\n",
       "      <td>3.209738e-01</td>\n",
       "    </tr>\n",
       "    <tr>\n",
       "      <th>min</th>\n",
       "      <td>0.000000</td>\n",
       "      <td>0.000000</td>\n",
       "      <td>0.000000</td>\n",
       "      <td>0.0</td>\n",
       "      <td>0.000000</td>\n",
       "      <td>0.025828</td>\n",
       "      <td>0.025021</td>\n",
       "      <td>0.000000</td>\n",
       "      <td>0.075061</td>\n",
       "      <td>0.010866</td>\n",
       "      <td>0.016555</td>\n",
       "      <td>0.000020</td>\n",
       "      <td>0.008217</td>\n",
       "      <td>0.000000</td>\n",
       "      <td>0.000000</td>\n",
       "      <td>2.590368e-09</td>\n",
       "    </tr>\n",
       "    <tr>\n",
       "      <th>25%</th>\n",
       "      <td>0.370370</td>\n",
       "      <td>0.071429</td>\n",
       "      <td>2.000000</td>\n",
       "      <td>0.0</td>\n",
       "      <td>0.444862</td>\n",
       "      <td>0.402488</td>\n",
       "      <td>0.480386</td>\n",
       "      <td>0.000000</td>\n",
       "      <td>0.478436</td>\n",
       "      <td>0.403792</td>\n",
       "      <td>0.485068</td>\n",
       "      <td>0.324983</td>\n",
       "      <td>0.504658</td>\n",
       "      <td>0.197318</td>\n",
       "      <td>0.092914</td>\n",
       "      <td>2.873404e-01</td>\n",
       "    </tr>\n",
       "    <tr>\n",
       "      <th>50%</th>\n",
       "      <td>0.444444</td>\n",
       "      <td>0.178571</td>\n",
       "      <td>4.000000</td>\n",
       "      <td>0.0</td>\n",
       "      <td>0.503259</td>\n",
       "      <td>0.478915</td>\n",
       "      <td>0.538843</td>\n",
       "      <td>0.000000</td>\n",
       "      <td>0.525681</td>\n",
       "      <td>0.464828</td>\n",
       "      <td>0.526881</td>\n",
       "      <td>0.450411</td>\n",
       "      <td>0.557469</td>\n",
       "      <td>0.450023</td>\n",
       "      <td>0.180874</td>\n",
       "      <td>4.879464e-01</td>\n",
       "    </tr>\n",
       "    <tr>\n",
       "      <th>75%</th>\n",
       "      <td>0.555556</td>\n",
       "      <td>0.285714</td>\n",
       "      <td>5.000000</td>\n",
       "      <td>0.0</td>\n",
       "      <td>0.561884</td>\n",
       "      <td>0.580850</td>\n",
       "      <td>0.601381</td>\n",
       "      <td>1.000000</td>\n",
       "      <td>0.577641</td>\n",
       "      <td>0.508380</td>\n",
       "      <td>0.581574</td>\n",
       "      <td>0.667632</td>\n",
       "      <td>0.608356</td>\n",
       "      <td>0.692648</td>\n",
       "      <td>0.303380</td>\n",
       "      <td>9.000352e-01</td>\n",
       "    </tr>\n",
       "    <tr>\n",
       "      <th>max</th>\n",
       "      <td>1.000000</td>\n",
       "      <td>1.000000</td>\n",
       "      <td>7.000000</td>\n",
       "      <td>0.0</td>\n",
       "      <td>1.000000</td>\n",
       "      <td>1.000000</td>\n",
       "      <td>1.001313</td>\n",
       "      <td>2.000000</td>\n",
       "      <td>0.986876</td>\n",
       "      <td>0.974058</td>\n",
       "      <td>0.977822</td>\n",
       "      <td>0.999892</td>\n",
       "      <td>0.999833</td>\n",
       "      <td>1.000000</td>\n",
       "      <td>0.910907</td>\n",
       "      <td>1.000000e+00</td>\n",
       "    </tr>\n",
       "  </tbody>\n",
       "</table>\n",
       "</div>"
      ],
      "text/plain": [
       "        atom_index_0   atom_index_1           type    atom_0            x_0  \\\n",
       "count  931816.000000  931816.000000  931816.000000  931816.0  931816.000000   \n",
       "mean        0.457935       0.209947       3.476025       0.0       0.501719   \n",
       "std         0.121180       0.178206       2.112240       0.0       0.094356   \n",
       "min         0.000000       0.000000       0.000000       0.0       0.000000   \n",
       "25%         0.370370       0.071429       2.000000       0.0       0.444862   \n",
       "50%         0.444444       0.178571       4.000000       0.0       0.503259   \n",
       "75%         0.555556       0.285714       5.000000       0.0       0.561884   \n",
       "max         1.000000       1.000000       7.000000       0.0       1.000000   \n",
       "\n",
       "                 y_0            z_0         atom_1            x_1  \\\n",
       "count  931816.000000  931816.000000  931816.000000  931816.000000   \n",
       "mean        0.482678       0.541625       0.348567       0.528563   \n",
       "std         0.105299       0.094643       0.606858       0.083605   \n",
       "min         0.025828       0.025021       0.000000       0.075061   \n",
       "25%         0.402488       0.480386       0.000000       0.478436   \n",
       "50%         0.478915       0.538843       0.000000       0.525681   \n",
       "75%         0.580850       0.601381       1.000000       0.577641   \n",
       "max         1.000000       1.001313       2.000000       0.986876   \n",
       "\n",
       "                 y_1            z_1       distance  dist_to_type_mean  \\\n",
       "count  931816.000000  931816.000000  931816.000000      931816.000000   \n",
       "mean        0.470909       0.531079       0.466409           0.558093   \n",
       "std         0.098077       0.077805       0.252953           0.118680   \n",
       "min         0.010866       0.016555       0.000020           0.008217   \n",
       "25%         0.403792       0.485068       0.324983           0.504658   \n",
       "50%         0.464828       0.526881       0.450411           0.557469   \n",
       "75%         0.508380       0.581574       0.667632           0.608356   \n",
       "max         0.974058       0.977822       0.999892           0.999833   \n",
       "\n",
       "             cos_0_1          cos_0         cos_1  \n",
       "count  931816.000000  931816.000000  9.318160e+05  \n",
       "mean        0.455805       0.218561  5.453363e-01  \n",
       "std         0.302513       0.179910  3.209738e-01  \n",
       "min         0.000000       0.000000  2.590368e-09  \n",
       "25%         0.197318       0.092914  2.873404e-01  \n",
       "50%         0.450023       0.180874  4.879464e-01  \n",
       "75%         0.692648       0.303380  9.000352e-01  \n",
       "max         1.000000       0.910907  1.000000e+00  "
      ]
     },
     "execution_count": 35,
     "metadata": {},
     "output_type": "execute_result"
    }
   ],
   "source": [
    "X_test.describe()"
   ]
  },
  {
   "cell_type": "code",
   "execution_count": 36,
   "metadata": {},
   "outputs": [
    {
     "data": {
      "text/html": [
       "<div>\n",
       "<style scoped>\n",
       "    .dataframe tbody tr th:only-of-type {\n",
       "        vertical-align: middle;\n",
       "    }\n",
       "\n",
       "    .dataframe tbody tr th {\n",
       "        vertical-align: top;\n",
       "    }\n",
       "\n",
       "    .dataframe thead th {\n",
       "        text-align: right;\n",
       "    }\n",
       "</style>\n",
       "<table border=\"1\" class=\"dataframe\">\n",
       "  <thead>\n",
       "    <tr style=\"text-align: right;\">\n",
       "      <th></th>\n",
       "      <th>atom_index_0</th>\n",
       "      <th>atom_index_1</th>\n",
       "      <th>type</th>\n",
       "      <th>atom_0</th>\n",
       "      <th>x_0</th>\n",
       "      <th>y_0</th>\n",
       "      <th>z_0</th>\n",
       "      <th>atom_1</th>\n",
       "      <th>x_1</th>\n",
       "      <th>y_1</th>\n",
       "      <th>z_1</th>\n",
       "      <th>distance</th>\n",
       "      <th>dist_to_type_mean</th>\n",
       "      <th>cos_0_1</th>\n",
       "      <th>cos_0</th>\n",
       "      <th>cos_1</th>\n",
       "    </tr>\n",
       "  </thead>\n",
       "  <tbody>\n",
       "    <tr>\n",
       "      <th>count</th>\n",
       "      <td>931815.000000</td>\n",
       "      <td>931815.000000</td>\n",
       "      <td>931815.000000</td>\n",
       "      <td>931815.0</td>\n",
       "      <td>931815.000000</td>\n",
       "      <td>931815.000000</td>\n",
       "      <td>931815.000000</td>\n",
       "      <td>931815.000000</td>\n",
       "      <td>931815.000000</td>\n",
       "      <td>931815.000000</td>\n",
       "      <td>931815.000000</td>\n",
       "      <td>931815.000000</td>\n",
       "      <td>931815.000000</td>\n",
       "      <td>931815.000000</td>\n",
       "      <td>931815.000000</td>\n",
       "      <td>9.318150e+05</td>\n",
       "    </tr>\n",
       "    <tr>\n",
       "      <th>mean</th>\n",
       "      <td>0.457701</td>\n",
       "      <td>0.210080</td>\n",
       "      <td>3.477921</td>\n",
       "      <td>0.0</td>\n",
       "      <td>0.501737</td>\n",
       "      <td>0.482701</td>\n",
       "      <td>0.541598</td>\n",
       "      <td>0.349411</td>\n",
       "      <td>0.528552</td>\n",
       "      <td>0.470884</td>\n",
       "      <td>0.530917</td>\n",
       "      <td>0.466528</td>\n",
       "      <td>0.558118</td>\n",
       "      <td>0.455326</td>\n",
       "      <td>0.218886</td>\n",
       "      <td>5.458248e-01</td>\n",
       "    </tr>\n",
       "    <tr>\n",
       "      <th>std</th>\n",
       "      <td>0.120979</td>\n",
       "      <td>0.178451</td>\n",
       "      <td>2.111354</td>\n",
       "      <td>0.0</td>\n",
       "      <td>0.094303</td>\n",
       "      <td>0.105369</td>\n",
       "      <td>0.094576</td>\n",
       "      <td>0.607163</td>\n",
       "      <td>0.083560</td>\n",
       "      <td>0.098154</td>\n",
       "      <td>0.077818</td>\n",
       "      <td>0.252823</td>\n",
       "      <td>0.118694</td>\n",
       "      <td>0.302194</td>\n",
       "      <td>0.180002</td>\n",
       "      <td>3.210596e-01</td>\n",
       "    </tr>\n",
       "    <tr>\n",
       "      <th>min</th>\n",
       "      <td>0.000000</td>\n",
       "      <td>0.000000</td>\n",
       "      <td>0.000000</td>\n",
       "      <td>0.0</td>\n",
       "      <td>0.000000</td>\n",
       "      <td>0.000000</td>\n",
       "      <td>0.025021</td>\n",
       "      <td>0.000000</td>\n",
       "      <td>0.000902</td>\n",
       "      <td>0.010866</td>\n",
       "      <td>0.016555</td>\n",
       "      <td>0.000062</td>\n",
       "      <td>0.039522</td>\n",
       "      <td>0.000000</td>\n",
       "      <td>0.000000</td>\n",
       "      <td>1.984741e-09</td>\n",
       "    </tr>\n",
       "    <tr>\n",
       "      <th>25%</th>\n",
       "      <td>0.370370</td>\n",
       "      <td>0.071429</td>\n",
       "      <td>2.000000</td>\n",
       "      <td>0.0</td>\n",
       "      <td>0.444855</td>\n",
       "      <td>0.402465</td>\n",
       "      <td>0.480355</td>\n",
       "      <td>0.000000</td>\n",
       "      <td>0.478223</td>\n",
       "      <td>0.403277</td>\n",
       "      <td>0.484774</td>\n",
       "      <td>0.324981</td>\n",
       "      <td>0.504403</td>\n",
       "      <td>0.197521</td>\n",
       "      <td>0.093430</td>\n",
       "      <td>2.875592e-01</td>\n",
       "    </tr>\n",
       "    <tr>\n",
       "      <th>50%</th>\n",
       "      <td>0.444444</td>\n",
       "      <td>0.178571</td>\n",
       "      <td>4.000000</td>\n",
       "      <td>0.0</td>\n",
       "      <td>0.503294</td>\n",
       "      <td>0.478872</td>\n",
       "      <td>0.538856</td>\n",
       "      <td>0.000000</td>\n",
       "      <td>0.525656</td>\n",
       "      <td>0.464755</td>\n",
       "      <td>0.526878</td>\n",
       "      <td>0.450308</td>\n",
       "      <td>0.557447</td>\n",
       "      <td>0.449726</td>\n",
       "      <td>0.180960</td>\n",
       "      <td>4.884859e-01</td>\n",
       "    </tr>\n",
       "    <tr>\n",
       "      <th>75%</th>\n",
       "      <td>0.555556</td>\n",
       "      <td>0.285714</td>\n",
       "      <td>5.000000</td>\n",
       "      <td>0.0</td>\n",
       "      <td>0.561774</td>\n",
       "      <td>0.580859</td>\n",
       "      <td>0.601337</td>\n",
       "      <td>1.000000</td>\n",
       "      <td>0.577836</td>\n",
       "      <td>0.508698</td>\n",
       "      <td>0.581298</td>\n",
       "      <td>0.667657</td>\n",
       "      <td>0.608348</td>\n",
       "      <td>0.691760</td>\n",
       "      <td>0.304477</td>\n",
       "      <td>9.003402e-01</td>\n",
       "    </tr>\n",
       "    <tr>\n",
       "      <th>max</th>\n",
       "      <td>1.000000</td>\n",
       "      <td>1.000000</td>\n",
       "      <td>7.000000</td>\n",
       "      <td>0.0</td>\n",
       "      <td>0.941437</td>\n",
       "      <td>0.976760</td>\n",
       "      <td>1.001313</td>\n",
       "      <td>2.000000</td>\n",
       "      <td>0.985173</td>\n",
       "      <td>0.964674</td>\n",
       "      <td>0.977822</td>\n",
       "      <td>0.990558</td>\n",
       "      <td>0.988751</td>\n",
       "      <td>1.000000</td>\n",
       "      <td>0.941061</td>\n",
       "      <td>1.000000e+00</td>\n",
       "    </tr>\n",
       "  </tbody>\n",
       "</table>\n",
       "</div>"
      ],
      "text/plain": [
       "        atom_index_0   atom_index_1           type    atom_0            x_0  \\\n",
       "count  931815.000000  931815.000000  931815.000000  931815.0  931815.000000   \n",
       "mean        0.457701       0.210080       3.477921       0.0       0.501737   \n",
       "std         0.120979       0.178451       2.111354       0.0       0.094303   \n",
       "min         0.000000       0.000000       0.000000       0.0       0.000000   \n",
       "25%         0.370370       0.071429       2.000000       0.0       0.444855   \n",
       "50%         0.444444       0.178571       4.000000       0.0       0.503294   \n",
       "75%         0.555556       0.285714       5.000000       0.0       0.561774   \n",
       "max         1.000000       1.000000       7.000000       0.0       0.941437   \n",
       "\n",
       "                 y_0            z_0         atom_1            x_1  \\\n",
       "count  931815.000000  931815.000000  931815.000000  931815.000000   \n",
       "mean        0.482701       0.541598       0.349411       0.528552   \n",
       "std         0.105369       0.094576       0.607163       0.083560   \n",
       "min         0.000000       0.025021       0.000000       0.000902   \n",
       "25%         0.402465       0.480355       0.000000       0.478223   \n",
       "50%         0.478872       0.538856       0.000000       0.525656   \n",
       "75%         0.580859       0.601337       1.000000       0.577836   \n",
       "max         0.976760       1.001313       2.000000       0.985173   \n",
       "\n",
       "                 y_1            z_1       distance  dist_to_type_mean  \\\n",
       "count  931815.000000  931815.000000  931815.000000      931815.000000   \n",
       "mean        0.470884       0.530917       0.466528           0.558118   \n",
       "std         0.098154       0.077818       0.252823           0.118694   \n",
       "min         0.010866       0.016555       0.000062           0.039522   \n",
       "25%         0.403277       0.484774       0.324981           0.504403   \n",
       "50%         0.464755       0.526878       0.450308           0.557447   \n",
       "75%         0.508698       0.581298       0.667657           0.608348   \n",
       "max         0.964674       0.977822       0.990558           0.988751   \n",
       "\n",
       "             cos_0_1          cos_0         cos_1  \n",
       "count  931815.000000  931815.000000  9.318150e+05  \n",
       "mean        0.455326       0.218886  5.458248e-01  \n",
       "std         0.302194       0.180002  3.210596e-01  \n",
       "min         0.000000       0.000000  1.984741e-09  \n",
       "25%         0.197521       0.093430  2.875592e-01  \n",
       "50%         0.449726       0.180960  4.884859e-01  \n",
       "75%         0.691760       0.304477  9.003402e-01  \n",
       "max         1.000000       0.941061  1.000000e+00  "
      ]
     },
     "execution_count": 36,
     "metadata": {},
     "output_type": "execute_result"
    }
   ],
   "source": [
    "X_val.describe()"
   ]
  },
  {
   "cell_type": "markdown",
   "metadata": {},
   "source": [
    "The minimum and maximum of the numerical columns are set to 0 and 1. The integer is assigned for each value in categorical columns. All three datasets are preprocessed successfully."
   ]
  },
  {
   "cell_type": "markdown",
   "metadata": {},
   "source": [
    "## 5. Modeling"
   ]
  },
  {
   "cell_type": "markdown",
   "metadata": {},
   "source": [
    "There are multiple options of models for solving the regression problem. In this project, the machine learning models we will be using are:\n",
    "- Linear Regression\n",
    "- Random Forest \n",
    "- XGBoost\n",
    "- Light Gradient Boost (LGBM)\n",
    "- CatBoost\n",
    "- Keras Neural Networks\n",
    "\n",
    "After the modeling is done, models will be evaluated. Models will be selected based on the performance of the validation set.\n",
    "- Highest R2 Score\n",
    "- Lowest RMSE and MAE\n",
    "\n",
    "When the final model is selected, it will be tested on the holdout test set to evaluate the metrics and its generalizability."
   ]
  },
  {
   "cell_type": "markdown",
   "metadata": {},
   "source": [
    "Since the multiple modeling will be done, we will create a function for fitting and evaluating the model to speed up the process."
   ]
  },
  {
   "cell_type": "markdown",
   "metadata": {},
   "source": [
    "### 5.1 First Simple Model"
   ]
  },
  {
   "cell_type": "markdown",
   "metadata": {},
   "source": [
    "Out of the lists of model, most simple model is Linear Regression. To understand our baseline, we will start off with the Linear Regression Model."
   ]
  },
  {
   "cell_type": "code",
   "execution_count": 236,
   "metadata": {
    "scrolled": true
   },
   "outputs": [
    {
     "name": "stdout",
     "output_type": "stream",
     "text": [
      "Training time: 0.986212968826294s\n",
      "Result Report\n",
      "\n",
      "Train R2 Score: 0.5477311058147756\n",
      "Validation R2 Score: 0.548706821594784\n",
      "\n",
      "Train RMSE: 1.3327943321092197\n",
      "Validation RMSE: 1.331348789721334\n",
      "\n",
      "Train MAE: 1.0496662747341228\n",
      "Validation MAE: 1.0480847250784242\n"
     ]
    },
    {
     "data": {
      "image/png": "[encoded data removed]",
      "text/plain": [
       "<Figure size 432x288 with 1 Axes>"
      ]
     },
     "metadata": {
      "needs_background": "light"
     },
     "output_type": "display_data"
    }
   ],
   "source": [
    "lr_model = fit_and_eval(LinearRegression(), X_train, y_train, X_val, y_val)"
   ]
  },
  {
   "cell_type": "markdown",
   "metadata": {},
   "source": [
    "#### Evaluation\n",
    "\n",
    "Results on the validation set:\n",
    "\n",
    "- R2 score: 0.549\n",
    "- RMSE: 1.331\n",
    "- MAE: 1.048\n",
    "- Training Time: about 1 second \n",
    "\n",
    "The linear regression showed a decent performance considering the model is the first simple model. The result shows that there is no overfitting. R2 score of 0.549 is a moderate score. RMSE and MAE are fairly low considering the range of the normalized target variable, which is between -4 and 6. However, since there are more complex models, which has the potential of giving a better result."
   ]
  },
  {
   "cell_type": "markdown",
   "metadata": {},
   "source": [
    "### 5.2 Random Forest Regressor"
   ]
  },
  {
   "cell_type": "markdown",
   "metadata": {},
   "source": [
    "The second model is Random Forest Regressor. Since we still have a large dataset even after splitting, we will limit the hyperparameter, max_depth, to reduce the modeling time.  "
   ]
  },
  {
   "cell_type": "code",
   "execution_count": 242,
   "metadata": {
    "scrolled": true
   },
   "outputs": [
    {
     "name": "stdout",
     "output_type": "stream",
     "text": [
      "Training time: 3299.6762590408325s\n",
      "Result Report\n",
      "\n",
      "Train R2 Score: 0.9109613464972038\n",
      "Validation R2 Score: 0.9107938589564958\n",
      "\n",
      "Train RMSE: 0.591362892472923\n",
      "Validation RMSE: 0.5919156731890656\n",
      "\n",
      "Train MAE: 0.3598018288879159\n",
      "Validation MAE: 0.3602428989939122\n"
     ]
    },
    {
     "data": {
      "image/png": "[encoded data removed]",
      "text/plain": [
       "<Figure size 432x288 with 1 Axes>"
      ]
     },
     "metadata": {
      "needs_background": "light"
     },
     "output_type": "display_data"
    }
   ],
   "source": [
    "rf_model = fit_and_eval(RandomForestRegressor(max_depth = 10), X_train, y_train, X_val, y_val)"
   ]
  },
  {
   "cell_type": "markdown",
   "metadata": {},
   "source": [
    "#### Evaluation\n",
    "\n",
    "Results on the validation set:\n",
    "\n",
    "- R2 score: 0.911\n",
    "- RMSE: 0.592\n",
    "- MAE: 0.360\n",
    "- Training Time: 3300 seconds (about 1 hour)\n",
    "\n",
    "The Random Forest regression shows better performance than the linear regression model. R2 score of 0.911 is higher than the R2 score of linear regression. RMSE and MAE also became almost half compared to the linear regression. One disadvantage of this model is that the fitting time was very long: It took about an hour for modeling even though the max depth was limited to 10."
   ]
  },
  {
   "cell_type": "markdown",
   "metadata": {},
   "source": [
    "### 5.3 XGB Regressor"
   ]
  },
  {
   "cell_type": "markdown",
   "metadata": {},
   "source": [
    "The third model is the X Gradient Boost (XGB) regressor."
   ]
  },
  {
   "cell_type": "code",
   "execution_count": 239,
   "metadata": {},
   "outputs": [
    {
     "name": "stdout",
     "output_type": "stream",
     "text": [
      "Training time: 167.75719714164734s\n",
      "Result Report\n",
      "\n",
      "Train R2 Score: 0.9305440956226718\n",
      "Validation R2 Score: 0.9293570714932649\n",
      "\n",
      "Train RMSE: 0.5222992026869764\n",
      "Validation RMSE: 0.5267406201015526\n",
      "\n",
      "Train MAE: 0.3165534151092136\n",
      "Validation MAE: 0.31891799366996837\n"
     ]
    },
    {
     "data": {
      "image/png": "[encoded data removed]",
      "text/plain": [
       "<Figure size 432x288 with 1 Axes>"
      ]
     },
     "metadata": {
      "needs_background": "light"
     },
     "output_type": "display_data"
    }
   ],
   "source": [
    "XGB_model = fit_and_eval(XGBRegressor(), X_train, y_train, X_val, y_val)"
   ]
  },
  {
   "cell_type": "markdown",
   "metadata": {},
   "source": [
    "#### Evaluation\n",
    "\n",
    "Results on the validation set:\n",
    "\n",
    "- R2 score: 0.929\n",
    "- RMSE: 0.527\n",
    "- MAE: 0.319\n",
    "- Training time: 167 seconds (= 3 minutes)\n",
    "\n",
    "The XGB regression shows better performance than the Random Forest regression model. R2 score of 0.929 is higher than the R2 score of Random Forest regression. RMSE and MAE also got slightly lower than the error values of Random Forest. Also, there is no sign of overfitting since the train and validation results are almost equal. The modeling time was faster than Random Forest: It took about 3 minutes for modeling."
   ]
  },
  {
   "cell_type": "markdown",
   "metadata": {},
   "source": [
    "### 5.4 LGBM Regressor\n"
   ]
  },
  {
   "cell_type": "markdown",
   "metadata": {},
   "source": [
    "The fourth model is the light gradient boosting machine (LGBM) regressor."
   ]
  },
  {
   "cell_type": "code",
   "execution_count": 240,
   "metadata": {
    "scrolled": true
   },
   "outputs": [
    {
     "name": "stdout",
     "output_type": "stream",
     "text": [
      "Training time: 6.271471738815308s\n",
      "Result Report\n",
      "\n",
      "Train R2 Score: 0.9193418933338546\n",
      "Validation R2 Score: 0.9191632159428268\n",
      "\n",
      "Train RMSE: 0.5628449699800792\n",
      "Validation RMSE: 0.5634650420547318\n",
      "\n",
      "Train MAE: 0.35142075275538476\n",
      "Validation MAE: 0.35161478174196326\n"
     ]
    },
    {
     "data": {
      "image/png": "[encoded data removed]",
      "text/plain": [
       "<Figure size 432x288 with 1 Axes>"
      ]
     },
     "metadata": {
      "needs_background": "light"
     },
     "output_type": "display_data"
    }
   ],
   "source": [
    "LGBM_model = fit_and_eval(LGBMRegressor(), X_train, y_train, X_val, y_val)"
   ]
  },
  {
   "cell_type": "markdown",
   "metadata": {},
   "source": [
    "#### Evaluation\n",
    "\n",
    "Results on the validation set:\n",
    "\n",
    "- R2 score: 0.919\n",
    "- RMSE: 0.563\n",
    "- MAE: 0.352\n",
    "- Training time: 6 seconds\n",
    "\n",
    "The XGB regression shows slightly worse performance than the XGB regression model. R2 score of 0.919 is higher than the R2 score of Random Forest regression but lower than that of XGB Regressor. RMSE and MAE also got slightly higher than the XGB Regressor's error values. Also, there is no sign of overfitting since the train and validation results are almost equal. The modeling time was extremely fast: It took about 6 seconds for modeling."
   ]
  },
  {
   "cell_type": "markdown",
   "metadata": {},
   "source": [
    "### 5.5 CatBoost Regressor"
   ]
  },
  {
   "cell_type": "markdown",
   "metadata": {},
   "source": [
    "Since some categorical columns, such as type, atom_index_0, and atom_index_1, we will try out the Categorical Boost (CatBoost) Regressor, which is specifically designed to analyze on categorical columns. Verbose will be set to 0 for the better visualization of the results."
   ]
  },
  {
   "cell_type": "code",
   "execution_count": 38,
   "metadata": {
    "scrolled": true
   },
   "outputs": [
    {
     "name": "stderr",
     "output_type": "stream",
     "text": [
      "Custom logger is already specified. Specify more than one logger at same time is not thread safe."
     ]
    },
    {
     "name": "stdout",
     "output_type": "stream",
     "text": [
      "Training time: 180.24367713928223s\n",
      "Result Report\n",
      "\n",
      "Train R2 Score: 0.9327403500351369\n",
      "Validation R2 Score: 0.9320982167145241\n",
      "\n",
      "Train RMSE: 0.5139750991426377\n",
      "Validation RMSE: 0.5164200001176409\n",
      "\n",
      "Train MAE: 0.31035952756887875\n",
      "Validation MAE: 0.31155346818366647\n"
     ]
    },
    {
     "data": {
      "image/png": "[encoded data removed]",
      "text/plain": [
       "<Figure size 432x288 with 1 Axes>"
      ]
     },
     "metadata": {
      "needs_background": "light"
     },
     "output_type": "display_data"
    }
   ],
   "source": [
    "Cat_model = fit_and_eval(CatBoostRegressor(verbose = 0), X_train, y_train, X_val, y_val)"
   ]
  },
  {
   "cell_type": "markdown",
   "metadata": {},
   "source": [
    "#### Evaluation\n",
    "\n",
    "Results on the validation set:\n",
    "\n",
    "- R2 score: 0.932\n",
    "- RMSE: 0.516\n",
    "- MAE: 0.311\n",
    "- Training time: 180 seconds (= 3 minutes)\n",
    "\n",
    "The CatBoost regression shows better performance than the XGB regression model. R2 score of 0.932 is slightly higher than the R2 score of XGB regression, which was 0.929. RMSE and MAE also got slightly lower than the error values of XGB Regression. Also, there is no sign of overfitting since the train and validation results are almost equal. The training time was almost the same as that of XGB  but still faster than Random Forest: It took about 3 minutes for modeling. This is, by far, the best model with a short fitting time."
   ]
  },
  {
   "cell_type": "markdown",
   "metadata": {},
   "source": [
    "### 5.6 Keras Neural Networks"
   ]
  },
  {
   "cell_type": "markdown",
   "metadata": {},
   "source": [
    "The last model is the Keras neural network model. We will create a function to fit and evaluate the Keras model with the nnet_preprocessing. For the model, we will:\n",
    "- add 1 input layer, 5 hidden layers, and 1 output layers\n",
    "- use LeakyReLU for the activation\n",
    "- use Batch Normalization\n",
    "- use 10% dropout after each step "
   ]
  },
  {
   "cell_type": "markdown",
   "metadata": {},
   "source": [
    "Batch size is determined based on the training time. Training time is minimized while maintaining more than 1000 iterations per epoch."
   ]
  },
  {
   "cell_type": "code",
   "execution_count": 246,
   "metadata": {
    "scrolled": true
   },
   "outputs": [
    {
     "name": "stdout",
     "output_type": "stream",
     "text": [
      "Epoch 1/20\n",
      "1365/1365 [==============================] - 189s 138ms/step - loss: 1.2034 - mae: 0.8432 - val_loss: 0.4930 - val_mae: 0.4898\n",
      "Epoch 2/20\n",
      "1365/1365 [==============================] - 181s 133ms/step - loss: 0.6142 - mae: 0.5757 - val_loss: 0.4127 - val_mae: 0.4300\n",
      "Epoch 3/20\n",
      "1365/1365 [==============================] - 182s 134ms/step - loss: 0.5060 - mae: 0.5119 - val_loss: 0.3806 - val_mae: 0.3936\n",
      "Epoch 4/20\n",
      "1365/1365 [==============================] - 182s 133ms/step - loss: 0.4429 - mae: 0.4694 - val_loss: 0.3434 - val_mae: 0.3668\n",
      "Epoch 5/20\n",
      "1365/1365 [==============================] - 183s 134ms/step - loss: 0.4044 - mae: 0.4416 - val_loss: 0.3275 - val_mae: 0.3528\n",
      "Epoch 6/20\n",
      "1365/1365 [==============================] - 185s 136ms/step - loss: 0.3799 - mae: 0.4228 - val_loss: 0.3111 - val_mae: 0.3403\n",
      "Epoch 7/20\n",
      "1365/1365 [==============================] - 185s 135ms/step - loss: 0.3633 - mae: 0.4098 - val_loss: 0.3028 - val_mae: 0.3361\n",
      "Epoch 8/20\n",
      "1365/1365 [==============================] - 186s 136ms/step - loss: 0.3506 - mae: 0.3999 - val_loss: 0.2939 - val_mae: 0.3308\n",
      "Epoch 9/20\n",
      "1365/1365 [==============================] - 188s 138ms/step - loss: 0.3417 - mae: 0.3927 - val_loss: 0.2906 - val_mae: 0.3281\n",
      "Epoch 10/20\n",
      "1365/1365 [==============================] - 185s 136ms/step - loss: 0.3340 - mae: 0.3864 - val_loss: 0.2861 - val_mae: 0.3187\n",
      "Epoch 11/20\n",
      "1365/1365 [==============================] - 187s 137ms/step - loss: 0.3278 - mae: 0.3813 - val_loss: 0.2785 - val_mae: 0.3196\n",
      "Epoch 12/20\n",
      "1365/1365 [==============================] - 188s 138ms/step - loss: 0.3221 - mae: 0.3766 - val_loss: 0.2731 - val_mae: 0.3169\n",
      "Epoch 13/20\n",
      "1365/1365 [==============================] - 189s 138ms/step - loss: 0.3172 - mae: 0.3729 - val_loss: 0.2717 - val_mae: 0.3128\n",
      "Epoch 14/20\n",
      "1365/1365 [==============================] - 192s 140ms/step - loss: 0.3128 - mae: 0.3691 - val_loss: 0.2658 - val_mae: 0.3062\n",
      "Epoch 15/20\n",
      "1365/1365 [==============================] - 192s 141ms/step - loss: 0.3089 - mae: 0.3661 - val_loss: 0.2658 - val_mae: 0.3055\n",
      "Epoch 16/20\n",
      "1365/1365 [==============================] - 193s 141ms/step - loss: 0.3056 - mae: 0.3635 - val_loss: 0.2599 - val_mae: 0.3019\n",
      "Epoch 17/20\n",
      "1365/1365 [==============================] - 193s 141ms/step - loss: 0.3024 - mae: 0.3608 - val_loss: 0.2584 - val_mae: 0.3018\n",
      "Epoch 18/20\n",
      "1365/1365 [==============================] - 193s 141ms/step - loss: 0.2992 - mae: 0.3586 - val_loss: 0.2584 - val_mae: 0.2992\n",
      "Epoch 19/20\n",
      "1365/1365 [==============================] - 199s 146ms/step - loss: 0.2971 - mae: 0.3569 - val_loss: 0.2555 - val_mae: 0.2972\n",
      "Epoch 20/20\n",
      "1365/1365 [==============================] - 211s 155ms/step - loss: 0.2942 - mae: 0.3546 - val_loss: 0.2501 - val_mae: 0.2959\n",
      "Training time: 3786.4871125221252s\n",
      "Result Report\n",
      "\n",
      "Train R2 Score: 0.9371102526849364\n",
      "Validation R2 Score: 0.9363280022847694\n",
      "\n",
      "Train RMSE: 0.4969980702634441\n",
      "Validation RMSE: 0.5000767937420182\n",
      "\n",
      "Train MAE: 0.29459861661628917\n",
      "Validation MAE: 0.29592108333964184\n",
      "\n",
      "Prediction\n"
     ]
    },
    {
     "data": {
      "image/png": "[encoded data removed]",
      "text/plain": [
       "<Figure size 432x288 with 1 Axes>"
      ]
     },
     "metadata": {
      "needs_background": "light"
     },
     "output_type": "display_data"
    },
    {
     "name": "stdout",
     "output_type": "stream",
     "text": [
      "\n",
      "Loss\n"
     ]
    },
    {
     "data": {
      "image/png": "[encoded data removed]",
      "text/plain": [
       "<Figure size 432x288 with 1 Axes>"
      ]
     },
     "metadata": {
      "needs_background": "light"
     },
     "output_type": "display_data"
    }
   ],
   "source": [
    "history = fit_eval_nn(X_train, y_train, X_val, y_val, epoch = 20, batch = 2048)"
   ]
  },
  {
   "cell_type": "markdown",
   "metadata": {},
   "source": [
    "#### Evaluation\n",
    "\n",
    "Results on the validation set:\n",
    "\n",
    "- R2 score: 0.936\n",
    "- RMSE: 0.500\n",
    "- MAE: 0.296\n",
    "- Training time: 3786 seconds (= about 1 hour)\n",
    "\n",
    "The Keras regression shows the best performance. Keras's R2 score is the highest, and error values are the lowest among all the models. The results and the loss curve show no sign of overfitting. Training time is about an hour, which is pretty long but shows better performance than Random Forest, which took about an hour for training. Therefore, we will choose the Keras model as our final model. "
   ]
  },
  {
   "cell_type": "markdown",
   "metadata": {},
   "source": [
    "### 4.7 Final Model"
   ]
  },
  {
   "cell_type": "markdown",
   "metadata": {},
   "source": [
    "The Keras neural network is the regressor that shows the best performance based on the results. However, the result indicates that the model was still learning: the loss curve shows that training and validation loss is still decreasing when the model stops fitting. \n",
    "\n",
    "Therefore, we will try the higher epochs and early stopping to reach the point where loss stabilizes, or the curve becomes an almost flat horizontal line. Also, we will add more layers to the model to see if we can enhance the scores even more.\n",
    "\n",
    "So, for final model tuning, we will:\n",
    "- Add two more hidden layers to the model\n",
    "- Add Earlystopping to reduce fitting time and avoid overfitting. \n",
    "\n",
    "We will create a new function for this process."
   ]
  },
  {
   "cell_type": "markdown",
   "metadata": {},
   "source": [
    "We will maintain the same batch size as the first Keras model but increase the epoch size to 100. If the Earlystopper determines that the model is overfitting, the process will be stopped before it reaches the set epoch. "
   ]
  },
  {
   "cell_type": "code",
   "execution_count": 248,
   "metadata": {},
   "outputs": [
    {
     "name": "stdout",
     "output_type": "stream",
     "text": [
      "Epoch 1/100\n",
      "1365/1365 [==============================] - 302s 221ms/step - loss: 1.2915 - mae: 0.9030 - val_loss: 0.5065 - val_mae: 0.5075\n",
      "Epoch 2/100\n",
      "1365/1365 [==============================] - 305s 223ms/step - loss: 0.6115 - mae: 0.5772 - val_loss: 0.3899 - val_mae: 0.3897\n",
      "Epoch 3/100\n",
      "1365/1365 [==============================] - 305s 223ms/step - loss: 0.4983 - mae: 0.5093 - val_loss: 0.3503 - val_mae: 0.3726\n",
      "Epoch 4/100\n",
      "1365/1365 [==============================] - 309s 227ms/step - loss: 0.4386 - mae: 0.4687 - val_loss: 0.3222 - val_mae: 0.3547\n",
      "Epoch 5/100\n",
      "1365/1365 [==============================] - 302s 221ms/step - loss: 0.4035 - mae: 0.4436 - val_loss: 0.3128 - val_mae: 0.3446\n",
      "Epoch 6/100\n",
      "1365/1365 [==============================] - 301s 220ms/step - loss: 0.3820 - mae: 0.4278 - val_loss: 0.3013 - val_mae: 0.3339\n",
      "Epoch 7/100\n",
      "1365/1365 [==============================] - 298s 218ms/step - loss: 0.3668 - mae: 0.4164 - val_loss: 0.2912 - val_mae: 0.3270\n",
      "Epoch 8/100\n",
      "1365/1365 [==============================] - 301s 221ms/step - loss: 0.3561 - mae: 0.4080 - val_loss: 0.2850 - val_mae: 0.3226\n",
      "Epoch 9/100\n",
      "1365/1365 [==============================] - 292s 214ms/step - loss: 0.3475 - mae: 0.4014 - val_loss: 0.2837 - val_mae: 0.3193\n",
      "Epoch 10/100\n",
      "1365/1365 [==============================] - 252s 184ms/step - loss: 0.3406 - mae: 0.3959 - val_loss: 0.2786 - val_mae: 0.3130\n",
      "Epoch 11/100\n",
      "1365/1365 [==============================] - 269s 197ms/step - loss: 0.3346 - mae: 0.3913 - val_loss: 0.2712 - val_mae: 0.3111\n",
      "Epoch 12/100\n",
      "1365/1365 [==============================] - 265s 194ms/step - loss: 0.3297 - mae: 0.3875 - val_loss: 0.2666 - val_mae: 0.3066\n",
      "Epoch 13/100\n",
      "1365/1365 [==============================] - 269s 197ms/step - loss: 0.3249 - mae: 0.3837 - val_loss: 0.2639 - val_mae: 0.3061\n",
      "Epoch 14/100\n",
      "1365/1365 [==============================] - 259s 190ms/step - loss: 0.3210 - mae: 0.3809 - val_loss: 0.2641 - val_mae: 0.3054\n",
      "Epoch 15/100\n",
      "1365/1365 [==============================] - 255s 186ms/step - loss: 0.3175 - mae: 0.3782 - val_loss: 0.2622 - val_mae: 0.30823s - loss\n",
      "Epoch 16/100\n",
      "1365/1365 [==============================] - 264s 193ms/step - loss: 0.3140 - mae: 0.3755 - val_loss: 0.2574 - val_mae: 0.3005\n",
      "Epoch 17/100\n",
      "1365/1365 [==============================] - 261s 191ms/step - loss: 0.3109 - mae: 0.3732 - val_loss: 0.2535 - val_mae: 0.2954\n",
      "Epoch 18/100\n",
      "1365/1365 [==============================] - 252s 185ms/step - loss: 0.3077 - mae: 0.3708 - val_loss: 0.2525 - val_mae: 0.2976\n",
      "Epoch 19/100\n",
      "1365/1365 [==============================] - 251s 184ms/step - loss: 0.3050 - mae: 0.3687 - val_loss: 0.2522 - val_mae: 0.2981\n",
      "Epoch 20/100\n",
      "1365/1365 [==============================] - 255s 187ms/step - loss: 0.3023 - mae: 0.3666 - val_loss: 0.2509 - val_mae: 0.2964\n",
      "Epoch 21/100\n",
      "1365/1365 [==============================] - 247s 181ms/step - loss: 0.2996 - mae: 0.3644 - val_loss: 0.2480 - val_mae: 0.2941\n",
      "Epoch 22/100\n",
      "1365/1365 [==============================] - 248s 182ms/step - loss: 0.2971 - mae: 0.3620 - val_loss: 0.2472 - val_mae: 0.2965\n",
      "Epoch 23/100\n",
      "1365/1365 [==============================] - 249s 182ms/step - loss: 0.2946 - mae: 0.3601 - val_loss: 0.2473 - val_mae: 0.2964\n",
      "Epoch 24/100\n",
      "1365/1365 [==============================] - 251s 184ms/step - loss: 0.2918 - mae: 0.3580 - val_loss: 0.2468 - val_mae: 0.2942\n",
      "Epoch 25/100\n",
      "1365/1365 [==============================] - 247s 181ms/step - loss: 0.2897 - mae: 0.3560 - val_loss: 0.2453 - val_mae: 0.2911\n",
      "Epoch 26/100\n",
      "1365/1365 [==============================] - 247s 181ms/step - loss: 0.2876 - mae: 0.3541 - val_loss: 0.2381 - val_mae: 0.2874\n",
      "Epoch 27/100\n",
      "1365/1365 [==============================] - 246s 180ms/step - loss: 0.2856 - mae: 0.3524 - val_loss: 0.2365 - val_mae: 0.2872\n",
      "Epoch 28/100\n",
      "1365/1365 [==============================] - 246s 181ms/step - loss: 0.2834 - mae: 0.3508 - val_loss: 0.2342 - val_mae: 0.2847\n",
      "Epoch 29/100\n",
      "1365/1365 [==============================] - 246s 180ms/step - loss: 0.2819 - mae: 0.3493 - val_loss: 0.2359 - val_mae: 0.2839\n",
      "Epoch 30/100\n",
      "1365/1365 [==============================] - 247s 181ms/step - loss: 0.2795 - mae: 0.3473 - val_loss: 0.2338 - val_mae: 0.2832\n",
      "Epoch 31/100\n",
      "1365/1365 [==============================] - 246s 180ms/step - loss: 0.2783 - mae: 0.3463 - val_loss: 0.2313 - val_mae: 0.2800\n",
      "Epoch 32/100\n",
      "1365/1365 [==============================] - 246s 180ms/step - loss: 0.2764 - mae: 0.3446 - val_loss: 0.2296 - val_mae: 0.2805\n",
      "Epoch 33/100\n",
      "1365/1365 [==============================] - 246s 181ms/step - loss: 0.2751 - mae: 0.3435 - val_loss: 0.2296 - val_mae: 0.2791\n",
      "Epoch 34/100\n",
      "1365/1365 [==============================] - 248s 182ms/step - loss: 0.2740 - mae: 0.3426 - val_loss: 0.2286 - val_mae: 0.2794\n",
      "Epoch 35/100\n",
      "1365/1365 [==============================] - 255s 187ms/step - loss: 0.2723 - mae: 0.3412 - val_loss: 0.2309 - val_mae: 0.2789\n",
      "Epoch 36/100\n",
      "1365/1365 [==============================] - 258s 189ms/step - loss: 0.2708 - mae: 0.3399 - val_loss: 0.2254 - val_mae: 0.2767\n",
      "Epoch 37/100\n",
      "1365/1365 [==============================] - 257s 189ms/step - loss: 0.2694 - mae: 0.3387 - val_loss: 0.2271 - val_mae: 0.2764\n",
      "Epoch 38/100\n",
      "1365/1365 [==============================] - 253s 186ms/step - loss: 0.2686 - mae: 0.3379 - val_loss: 0.2243 - val_mae: 0.2741\n",
      "Epoch 39/100\n",
      "1365/1365 [==============================] - 257s 189ms/step - loss: 0.2668 - mae: 0.3366 - val_loss: 0.2216 - val_mae: 0.2737\n",
      "Epoch 40/100\n",
      "1365/1365 [==============================] - 255s 187ms/step - loss: 0.2659 - mae: 0.3357 - val_loss: 0.2213 - val_mae: 0.2698\n",
      "Epoch 41/100\n",
      "1365/1365 [==============================] - 253s 185ms/step - loss: 0.2651 - mae: 0.3351 - val_loss: 0.2282 - val_mae: 0.2784\n",
      "Epoch 42/100\n",
      "1365/1365 [==============================] - 254s 186ms/step - loss: 0.2640 - mae: 0.3343 - val_loss: 0.2207 - val_mae: 0.2719\n",
      "Epoch 43/100\n",
      "1365/1365 [==============================] - 251s 184ms/step - loss: 0.2625 - mae: 0.3331 - val_loss: 0.2216 - val_mae: 0.2691\n",
      "Epoch 44/100\n",
      "1365/1365 [==============================] - 249s 182ms/step - loss: 0.2618 - mae: 0.3324 - val_loss: 0.2200 - val_mae: 0.2708\n",
      "Epoch 45/100\n",
      "1365/1365 [==============================] - 253s 186ms/step - loss: 0.2604 - mae: 0.3315 - val_loss: 0.2193 - val_mae: 0.2692\n",
      "Epoch 46/100\n",
      "1365/1365 [==============================] - 250s 183ms/step - loss: 0.2596 - mae: 0.3306 - val_loss: 0.2183 - val_mae: 0.2706\n",
      "Epoch 47/100\n",
      "1365/1365 [==============================] - 251s 184ms/step - loss: 0.2586 - mae: 0.3298 - val_loss: 0.2161 - val_mae: 0.2680\n",
      "Epoch 48/100\n",
      "1365/1365 [==============================] - 251s 184ms/step - loss: 0.2578 - mae: 0.3292 - val_loss: 0.2150 - val_mae: 0.2667\n",
      "Epoch 49/100\n",
      "1365/1365 [==============================] - 255s 187ms/step - loss: 0.2567 - mae: 0.3282 - val_loss: 0.2168 - val_mae: 0.2668\n",
      "Epoch 50/100\n",
      "1365/1365 [==============================] - 261s 191ms/step - loss: 0.2561 - mae: 0.3278 - val_loss: 0.2147 - val_mae: 0.2648\n",
      "Epoch 51/100\n",
      "1365/1365 [==============================] - 261s 191ms/step - loss: 0.2550 - mae: 0.3270 - val_loss: 0.2131 - val_mae: 0.2638\n",
      "Epoch 52/100\n",
      "1365/1365 [==============================] - 262s 192ms/step - loss: 0.2540 - mae: 0.3261 - val_loss: 0.2133 - val_mae: 0.2634\n",
      "Epoch 53/100\n",
      "1365/1365 [==============================] - 247s 181ms/step - loss: 0.2536 - mae: 0.3257 - val_loss: 0.2130 - val_mae: 0.2696\n",
      "Epoch 54/100\n",
      "1365/1365 [==============================] - 246s 181ms/step - loss: 0.2525 - mae: 0.3249 - val_loss: 0.2112 - val_mae: 0.2624\n",
      "Epoch 55/100\n",
      "1365/1365 [==============================] - 246s 180ms/step - loss: 0.2516 - mae: 0.3242 - val_loss: 0.2150 - val_mae: 0.2626\n",
      "Epoch 56/100\n",
      "1365/1365 [==============================] - 247s 181ms/step - loss: 0.2510 - mae: 0.3236 - val_loss: 0.2098 - val_mae: 0.2622\n",
      "Epoch 57/100\n",
      "1365/1365 [==============================] - 246s 180ms/step - loss: 0.2505 - mae: 0.3233 - val_loss: 0.2084 - val_mae: 0.2619\n",
      "Epoch 58/100\n",
      "1365/1365 [==============================] - 246s 180ms/step - loss: 0.2498 - mae: 0.3229 - val_loss: 0.2086 - val_mae: 0.2635\n",
      "Epoch 59/100\n",
      "1365/1365 [==============================] - 245s 179ms/step - loss: 0.2490 - mae: 0.3222 - val_loss: 0.2087 - val_mae: 0.2638\n",
      "Epoch 60/100\n",
      "1365/1365 [==============================] - 246s 180ms/step - loss: 0.2477 - mae: 0.3211 - val_loss: 0.2112 - val_mae: 0.2620\n",
      "Epoch 00060: early stopping\n",
      "Training time: 15594.536508321762s\n",
      "Result Report\n",
      "\n",
      "Train R2 Score: 0.9487047714977654\n",
      "Validation R2 Score: 0.9462293895809846\n",
      "\n",
      "Train RMSE: 0.4488521005717183\n",
      "Validation RMSE: 0.459552302848328\n",
      "\n",
      "Train MAE: 0.2576279891922876\n",
      "Validation MAE: 0.2620410717698072\n",
      "\n",
      "Prediction\n"
     ]
    },
    {
     "data": {
      "image/png": "[encoded data removed]",
      "text/plain": [
       "<Figure size 432x288 with 1 Axes>"
      ]
     },
     "metadata": {
      "needs_background": "light"
     },
     "output_type": "display_data"
    },
    {
     "name": "stdout",
     "output_type": "stream",
     "text": [
      "\n",
      "Loss\n"
     ]
    },
    {
     "data": {
      "image/png": "[encoded data removed]",
      "text/plain": [
       "<Figure size 432x288 with 1 Axes>"
      ]
     },
     "metadata": {
      "needs_background": "light"
     },
     "output_type": "display_data"
    }
   ],
   "source": [
    "history_f, model_f = fit_eval_final(X_train, y_train, X_val, y_val, epoch = 100, batch = 2048)"
   ]
  },
  {
   "cell_type": "markdown",
   "metadata": {},
   "source": [
    "Results on the validation set:\n",
    "\n",
    "- R2 score: 0.946\n",
    "- RMSE: 0.459\n",
    "- MAE: 0.262\n",
    "- Training time: 15595 seconds (= 4 hours)\n",
    "\n",
    "The tuned Keras R2 score is the highest, and error values are the lowest among all the models. The results and the loss curve show no sign of overfitting, but the R2 is slightly lower (difference of 0.002), and error values are slightly higher than the train set (difference of ~ 0.01). This means there is slight overfitting, but it is acceptable since the difference is very small."
   ]
  },
  {
   "cell_type": "markdown",
   "metadata": {},
   "source": [
    "## 5. Evaluation"
   ]
  },
  {
   "cell_type": "markdown",
   "metadata": {},
   "source": [
    "We will evaluate the final model on test set. Since we will only evaluate the model for once, we will not create a function for this process."
   ]
  },
  {
   "cell_type": "code",
   "execution_count": 265,
   "metadata": {
    "scrolled": true
   },
   "outputs": [
    {
     "name": "stdout",
     "output_type": "stream",
     "text": [
      "Prediction time: 89.96339583396912s for 931816 predictions\n",
      "\n",
      "Result Report\n",
      "\n",
      "Test R2 Score: 0.9461544983983261\n",
      "\n",
      "Test RMSE: 0.45984758219441946\n",
      "\n",
      "Test MAE: 0.26220035989513957\n",
      "\n",
      "Prediction\n"
     ]
    },
    {
     "data": {
      "image/png": "[encoded data removed]",
      "text/plain": [
       "<Figure size 360x360 with 1 Axes>"
      ]
     },
     "metadata": {
      "needs_background": "light"
     },
     "output_type": "display_data"
    }
   ],
   "source": [
    "# Record the fitting start time\n",
    "start = time.time()\n",
    "\n",
    "# final model prediction on test set \n",
    "test_pred = model_f.predict(X_test)\n",
    "\n",
    "# Record the fitting end time\n",
    "stop = time.time()\n",
    "\n",
    "# Return Prediction time in seconds\n",
    "print(f'Prediction time: {stop - start}s for {len(X_test.index)} predictions')\n",
    "print('')\n",
    "\n",
    "# Report Results\n",
    "print('Result Report')\n",
    "print('')\n",
    "print(f'Test R2 Score: {r2_score(y_test, test_pred)}')\n",
    "print('')\n",
    "print(f'Test RMSE: {mean_squared_error(y_test, test_pred, squared = False)}')\n",
    "print('')\n",
    "print(f'Test MAE: {mean_absolute_error(y_test, test_pred)}')\n",
    "print('')\n",
    "\n",
    "# Plot the fitted line and the prediction\n",
    "print('Prediction')\n",
    "\n",
    "fig, ax = plt.subplots(figsize = (5,5))\n",
    "ax.scatter(y_test,test_pred)\n",
    "ax.plot(y_test, y_test, c=\"Red\")\n",
    "ax.set_title('Final Model Prediction on Test Set')\n",
    "ax.set_xlabel('true value')\n",
    "ax.set_ylabel('prediction')\n",
    "\n",
    "# save figure\n",
    "fig.savefig('Image/Final_Model_Results')"
   ]
  },
  {
   "cell_type": "markdown",
   "metadata": {},
   "source": [
    "### Conclusion"
   ]
  },
  {
   "cell_type": "markdown",
   "metadata": {},
   "source": [
    "Based on the results on the test set:\n",
    "\n",
    "- The R2 score on the test set is 0.946. This means the predicted target variable on the test set shows a high positive correlation with the actual test target variable. Also, the R2 score of 0.946 means approximately 94.6% of the observed variation can be explained by the final Keras model.\n",
    "\n",
    "\n",
    "- RMSE of 0.460 and MAE of 0.262 are both low values. This means the final model can predict the target variable accurately.\n",
    "\n",
    "\n",
    "- Metrics for the test set are very close to those of the train and validation set. This means the final model is generalized and available to apply to the real-world coupling constant prediction without bias.\n",
    "\n",
    "\n",
    "- When necessary pieces of information (features in train_df2) are provided, the final model can give an accurate prediction on the target variable in less than a second for each combination of the atom inside the molecule: It took about 90 seconds for more than 90k predictions on the test set. This will significantly reduce the cost and time it takes to predict the scalar coupling constant, which takes days to even weeks for one molecule when the traditional calculation method is used. Therefore, I strongly recommend researchers apply this model to their NMR research process to speed up their research process."
   ]
  },
  {
   "cell_type": "markdown",
   "metadata": {},
   "source": [
    "### Next Steps"
   ]
  },
  {
   "cell_type": "markdown",
   "metadata": {},
   "source": [
    "- **Data Collection and Feature Engineering:** Additional feature engineering can enhance the model prediction accuracy even better. Features like the type of hybridization, which is the new hybrid created by mixing different atoms, affect the structure and the properties of the molecule, which is a valuable factor for explaining the property of the molecules. Also, gathering even more data can create a more generalizable and accurate model. Therefore, more data scrapping on different molecules is recommended.\n",
    "\n",
    "\n",
    "- **Divide into Subset**: The analysis and prediction are made on the whole train_df in this project: overall performance does not explain how the model works on each type of couplings. Therefore, dividing the data into a subset based on eight different coupling types will allow us to fine-tune the model specifically targeting one coupling type. Also, models we previously used might perform better on one type while showing worse performance on other types. By dividing the dataset and modeling them, we can build further insight into which model and hyperparameters work best for each type of couplings and enhance the prediction accuracy."
   ]
  },
  {
   "cell_type": "markdown",
   "metadata": {},
   "source": [
    "## 6. Save Model"
   ]
  },
  {
   "cell_type": "markdown",
   "metadata": {},
   "source": [
    "We will save this final model so it can be loaded anytime."
   ]
  },
  {
   "cell_type": "code",
   "execution_count": 271,
   "metadata": {
    "scrolled": true
   },
   "outputs": [
    {
     "name": "stdout",
     "output_type": "stream",
     "text": [
      "WARNING:tensorflow:From C:\\Users\\Paul\\anaconda3\\envs\\learn-env\\lib\\site-packages\\tensorflow\\python\\training\\tracking\\tracking.py:111: Model.state_updates (from tensorflow.python.keras.engine.training) is deprecated and will be removed in a future version.\n",
      "Instructions for updating:\n",
      "This property should not be used in TensorFlow 2.0, as updates are applied automatically.\n",
      "WARNING:tensorflow:From C:\\Users\\Paul\\anaconda3\\envs\\learn-env\\lib\\site-packages\\tensorflow\\python\\training\\tracking\\tracking.py:111: Layer.updates (from tensorflow.python.keras.engine.base_layer) is deprecated and will be removed in a future version.\n",
      "Instructions for updating:\n",
      "This property should not be used in TensorFlow 2.0, as updates are applied automatically.\n",
      "INFO:tensorflow:Assets written to: Final_Model\\assets\n"
     ]
    }
   ],
   "source": [
    "# save trained final model\n",
    "model_f.save('Final_Model')"
   ]
  },
  {
   "cell_type": "markdown",
   "metadata": {},
   "source": [
    "We will load the saved model and check on the test set to see if the model is properly saved."
   ]
  },
  {
   "cell_type": "code",
   "execution_count": 272,
   "metadata": {},
   "outputs": [],
   "source": [
    "# Load saved model\n",
    "new_model = load_model('Final_Model')"
   ]
  },
  {
   "cell_type": "code",
   "execution_count": 273,
   "metadata": {},
   "outputs": [
    {
     "name": "stdout",
     "output_type": "stream",
     "text": [
      "Result Report\n",
      "\n",
      "Test R2 Score: 0.9461544983983261\n",
      "\n",
      "Test RMSE: 0.45984758219441946\n",
      "\n",
      "Test MAE: 0.26220035989513957\n",
      "\n"
     ]
    }
   ],
   "source": [
    "# Check on Test Set\n",
    "\n",
    "# final model prediction on test set \n",
    "test_pred2 = new_model.predict(X_test)\n",
    "\n",
    "# Report Results\n",
    "print('Result Report')\n",
    "print('')\n",
    "print(f'Test R2 Score: {r2_score(y_test, test_pred2)}')\n",
    "print('')\n",
    "print(f'Test RMSE: {mean_squared_error(y_test, test_pred2, squared = False)}')\n",
    "print('')\n",
    "print(f'Test MAE: {mean_absolute_error(y_test, test_pred2)}')\n",
    "print('')\n"
   ]
  },
  {
   "cell_type": "markdown",
   "metadata": {},
   "source": [
    "Great! Now the trained model can be used without rerunning the whole notebook."
   ]
  },
  {
   "cell_type": "code",
   "execution_count": null,
   "metadata": {},
   "outputs": [],
   "source": []
  }
 ],
 "metadata": {
  "kernelspec": {
   "display_name": "Python (learn-env)",
   "language": "python",
   "name": "learn-env"
  },
  "language_info": {
   "codemirror_mode": {
    "name": "ipython",
    "version": 3
   },
   "file_extension": ".py",
   "mimetype": "text/x-python",
   "name": "python",
   "nbconvert_exporter": "python",
   "pygments_lexer": "ipython3",
   "version": "3.8.5"
  }
 },
 "nbformat": 4,
 "nbformat_minor": 4
}
